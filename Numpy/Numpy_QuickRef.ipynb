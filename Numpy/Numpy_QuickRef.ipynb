{
 "cells": [
  {
   "cell_type": "markdown",
   "id": "6084b57f",
   "metadata": {},
   "source": [
    "# NumPy package\n",
    "\n",
    "NumPy is a remarkable Python library for computing, arithmetics and linear algebra.\n",
    "it can do it in an efficient way.\n",
    "\n",
    "### Why we should use NumPy instead of Python lists?\n",
    "- NumPy is much faster than Python lists. This speed comes from the nature of NumPy arrays being memory-efficient and from optimized algorithms used by NumPy for doing arithmetic, statistical, and linear algebra operations.\n",
    "- NumPy support multidimensional array data structures that can represent vectors and matrices.\n",
    "- NumPy is optimized for matrix operations, and it allows us to do Linear Algebra operations effectively and efficiently,\n",
    "- NumPy has a large number of optimized built-in mathematical functions. \n",
    "\n",
    "Here is the snippet for how using NumPy library."
   ]
  },
  {
   "cell_type": "code",
   "execution_count": 56,
   "id": "b57ee3e9",
   "metadata": {
    "ExecuteTime": {
     "end_time": "2024-08-21T11:54:30.252351Z",
     "start_time": "2024-08-21T11:54:30.234799Z"
    }
   },
   "outputs": [
    {
     "name": "stdout",
     "output_type": "stream",
     "text": [
      "1.26.4\n"
     ]
    }
   ],
   "source": [
    "#import numpy in a convention way\n",
    "import numpy as np\n",
    "print(np.__version__)"
   ]
  },
  {
   "cell_type": "markdown",
   "id": "34f036b0",
   "metadata": {},
   "source": [
    "# Creating NumPy n-dimension array"
   ]
  },
  {
   "cell_type": "markdown",
   "id": "a4340e6e",
   "metadata": {},
   "source": [
    "### Using regular Python lists to Create ndarray\n",
    "Create a rank 1 ndarray that only contains integers"
   ]
  },
  {
   "cell_type": "code",
   "execution_count": 57,
   "id": "f5662242",
   "metadata": {
    "ExecuteTime": {
     "end_time": "2024-08-21T11:54:36.235103Z",
     "start_time": "2024-08-21T11:54:36.216322Z"
    }
   },
   "outputs": [
    {
     "name": "stdout",
     "output_type": "stream",
     "text": [
      "x =  [1 2 3 4 5]\n"
     ]
    }
   ],
   "source": [
    "x = np.array([1, 2, 3, 4, 5])\n",
    "print('x = ', x)"
   ]
  },
  {
   "cell_type": "markdown",
   "id": "f48fba2c",
   "metadata": {},
   "source": [
    "Creating a rank 2 ndarray using nested integers Python lists"
   ]
  },
  {
   "cell_type": "code",
   "execution_count": 58,
   "id": "eee713fb",
   "metadata": {
    "ExecuteTime": {
     "end_time": "2024-08-21T11:54:36.523090Z",
     "start_time": "2024-08-21T11:54:36.497971Z"
    }
   },
   "outputs": [
    {
     "name": "stdout",
     "output_type": "stream",
     "text": [
      "Y = \n",
      " [[ 1  2  3]\n",
      " [ 4  5  6]\n",
      " [ 7  8  9]\n",
      " [10 11 12]]\n",
      "\n",
      "Y is an object of type: <class 'numpy.ndarray'>\n",
      "Y has dimensions: (4, 3)\n",
      "Number of dimensions of Y =2 == 2\n",
      "Y has a total of 12 elements.\n",
      "Total memory used (Bytes): 48\n",
      "The elements in Y are of type: int32\n",
      "Memory per element (Bytes): 4\n"
     ]
    }
   ],
   "source": [
    "Y = np.array([[1,2,3],[4,5,6],[7,8,9], [10,11,12]])\n",
    "print('Y = \\n', Y)\n",
    "print()\n",
    "\n",
    "# We print information about Y\n",
    "print('Y is an object of type:', type(Y))\n",
    "print('Y has dimensions:', Y.shape)\n",
    "print(f\"Number of dimensions of Y ={Y.ndim} == {len(Y.shape)}\")\n",
    "print('Y has a total of', Y.size, 'elements.')\n",
    "print(f\"Total memory used (Bytes): {Y.nbytes}\")\n",
    "print('The elements in Y are of type:', Y.dtype)\n",
    "print(f\"Memory per element (Bytes): {Y.itemsize}\")"
   ]
  },
  {
   "cell_type": "markdown",
   "id": "d9a7f284",
   "metadata": {},
   "source": [
    "##### setting element data type\n",
    "**Remember** Unlike Python lists, all the elements of a ndarray must be of the same type.    \n",
    "to see Numpy data types click [here](https://numpy.org/doc/stable/user/basics.types.html)"
   ]
  },
  {
   "cell_type": "code",
   "execution_count": 59,
   "id": "7d253b35",
   "metadata": {
    "ExecuteTime": {
     "end_time": "2024-08-21T11:54:37.597469Z",
     "start_time": "2024-08-21T11:54:36.722050Z"
    }
   },
   "outputs": [
    {
     "name": "stdout",
     "output_type": "stream",
     "text": [
      "x =  [1. 2. 3. 4. 5.]\n",
      "elements type: float64\n"
     ]
    }
   ],
   "source": [
    "x = np.array([1, 2, 3, 4, 5],dtype=np.float64)\n",
    "print('x = ', x)\n",
    "print('elements type:', x.dtype)"
   ]
  },
  {
   "cell_type": "code",
   "execution_count": 60,
   "id": "34f81966",
   "metadata": {
    "ExecuteTime": {
     "end_time": "2024-08-21T11:54:38.387620Z",
     "start_time": "2024-08-21T11:54:37.602057Z"
    }
   },
   "outputs": [
    {
     "name": "stdout",
     "output_type": "stream",
     "text": [
      "x =  [1 2 3 4 5]\n",
      "elements type: int64\n"
     ]
    }
   ],
   "source": [
    "x = np.array([1, 2, 3, 4, 5],dtype=np.int64)\n",
    "print('x = ', x)\n",
    "print('elements type:', x.dtype)"
   ]
  },
  {
   "cell_type": "markdown",
   "id": "b6bdeb13",
   "metadata": {},
   "source": [
    "### Using Built-in Functions to Create ndarrays\n"
   ]
  },
  {
   "cell_type": "markdown",
   "id": "700c2dfc",
   "metadata": {},
   "source": [
    "##### Range of integer numbers\n"
   ]
  },
  {
   "cell_type": "code",
   "execution_count": 61,
   "id": "0f1b79ff",
   "metadata": {
    "scrolled": true,
    "ExecuteTime": {
     "end_time": "2024-08-21T11:54:39.466760Z",
     "start_time": "2024-08-21T11:54:38.392091Z"
    }
   },
   "outputs": [
    {
     "name": "stdout",
     "output_type": "stream",
     "text": [
      "[[ 0  1  2  3  4]\n",
      " [ 5  6  7  8  9]\n",
      " [10 11 12 13 14]\n",
      " [15 16 17 18 19]]\n"
     ]
    }
   ],
   "source": [
    "x = np.arange(20).reshape(4, 5)\n",
    "print(x)"
   ]
  },
  {
   "cell_type": "markdown",
   "id": "c84c96d7",
   "metadata": {},
   "source": [
    "`np.arange(start,stop,step)`    \n",
    "Remember start point is **inclusive** and stop index is **exclusive**"
   ]
  },
  {
   "cell_type": "code",
   "execution_count": 62,
   "id": "634f7813",
   "metadata": {
    "scrolled": true,
    "ExecuteTime": {
     "end_time": "2024-08-21T11:54:40.085904Z",
     "start_time": "2024-08-21T11:54:39.478676Z"
    }
   },
   "outputs": [
    {
     "name": "stdout",
     "output_type": "stream",
     "text": [
      "[[ 1  4  7 10 13]\n",
      " [16 19 22 25 28]]\n"
     ]
    }
   ],
   "source": [
    "x=np.arange(1,30,3).reshape((2,5))\n",
    "print(x)"
   ]
  },
  {
   "cell_type": "markdown",
   "id": "ecf090ff",
   "metadata": {},
   "source": [
    "`np.linspace(start,stop,no)`  \n",
    "even though the `np.arange()` function allows for non-integer steps, such as 0.3, the output is usually inconsistent, due to the finite floating point precision. For this reason, in the cases where non-integer steps are required, it is usually better to use the function `np.linspace()`."
   ]
  },
  {
   "cell_type": "code",
   "execution_count": 63,
   "id": "dc99d522",
   "metadata": {
    "ExecuteTime": {
     "end_time": "2024-08-21T11:54:42.522396Z",
     "start_time": "2024-08-21T11:54:40.092348Z"
    }
   },
   "outputs": [
    {
     "name": "stdout",
     "output_type": "stream",
     "text": [
      "\tdimension of matrix: (100, 100)\n",
      "\telement type is float64\n"
     ]
    }
   ],
   "source": [
    "g=np.linspace(1,100,10_000).reshape((100,100))\n",
    "#print(f\"{g}\")\n",
    "print(f\"\\tdimension of matrix: {g.shape}\")\n",
    "print(f\"\\telement type is {g.dtype}\")"
   ]
  },
  {
   "cell_type": "markdown",
   "id": "b2dcaa5c02277ca9",
   "metadata": {
    "collapsed": false
   },
   "source": [
    "Note:\n",
    ">`np.reshape()` can take -1 as one of its dimension sizes. That signifies that NumPy should just figure out how big that particular axis needs to be based on the size of the other axes."
   ]
  },
  {
   "cell_type": "code",
   "execution_count": 64,
   "id": "31365717d22d83a6",
   "metadata": {
    "collapsed": false,
    "ExecuteTime": {
     "end_time": "2024-08-21T11:54:43.952322Z",
     "start_time": "2024-08-21T11:54:42.527014Z"
    }
   },
   "outputs": [
    {
     "name": "stdout",
     "output_type": "stream",
     "text": [
      "(12, 2)\n",
      "(2, 4, 3)\n"
     ]
    }
   ],
   "source": [
    "X = np.linspace(1,20,24).reshape(12,-1)\n",
    "print(X.shape)\n",
    "X = np.linspace(1,20,24).reshape(2,-1,3)\n",
    "print(X.shape)"
   ]
  },
  {
   "cell_type": "markdown",
   "id": "73a792fe",
   "metadata": {},
   "source": [
    "##### Zeros array"
   ]
  },
  {
   "cell_type": "code",
   "execution_count": 65,
   "id": "85b3abdb",
   "metadata": {
    "ExecuteTime": {
     "end_time": "2024-08-21T11:54:44.750335Z",
     "start_time": "2024-08-21T11:54:43.956634Z"
    }
   },
   "outputs": [
    {
     "name": "stdout",
     "output_type": "stream",
     "text": [
      "zeros 3×4=\n",
      "[[0. 0. 0. 0.]\n",
      " [0. 0. 0. 0.]\n",
      " [0. 0. 0. 0.]]\n"
     ]
    }
   ],
   "source": [
    "#creating n-dimension zeros array\n",
    "a=np.zeros((3,4))\n",
    "print(f\"zeros {a.shape[0]}×{a.shape[1]}=\\n{a}\")"
   ]
  },
  {
   "cell_type": "markdown",
   "id": "6979b3c7",
   "metadata": {},
   "source": [
    " ##### Ones array.     \n",
    " Creating n-dimension 1 array"
   ]
  },
  {
   "cell_type": "code",
   "execution_count": 66,
   "id": "82ba272f",
   "metadata": {
    "ExecuteTime": {
     "end_time": "2024-08-21T11:54:45.723366Z",
     "start_time": "2024-08-21T11:54:44.754713Z"
    }
   },
   "outputs": [
    {
     "name": "stdout",
     "output_type": "stream",
     "text": [
      "ones 4×3=\n",
      "[[1. 1. 1.]\n",
      " [1. 1. 1.]\n",
      " [1. 1. 1.]\n",
      " [1. 1. 1.]]\n"
     ]
    }
   ],
   "source": [
    "b=np.ones((4,3))\n",
    "print(f\"ones {b.shape[0]}×{b.shape[1]}=\\n{b}\")"
   ]
  },
  {
   "cell_type": "markdown",
   "id": "fbec4564",
   "metadata": {},
   "source": [
    "##### full array\n",
    "Creating n-dimension full of custom number"
   ]
  },
  {
   "cell_type": "code",
   "execution_count": 67,
   "id": "a91f1bd7",
   "metadata": {
    "ExecuteTime": {
     "end_time": "2024-08-21T11:54:46.614184Z",
     "start_time": "2024-08-21T11:54:45.727597Z"
    }
   },
   "outputs": [
    {
     "name": "stdout",
     "output_type": "stream",
     "text": [
      "[[7. 7. 7.]\n",
      " [7. 7. 7.]\n",
      " [7. 7. 7.]\n",
      " [7. 7. 7.]]\n",
      "element type is float64\n"
     ]
    }
   ],
   "source": [
    "c=np.full((4,3),7.)\n",
    "print(c)\n",
    "print(f\"element type is {c.dtype}\")"
   ]
  },
  {
   "cell_type": "code",
   "execution_count": 68,
   "id": "8576b54d",
   "metadata": {
    "scrolled": true,
    "ExecuteTime": {
     "end_time": "2024-08-21T11:54:47.324036Z",
     "start_time": "2024-08-21T11:54:46.629160Z"
    }
   },
   "outputs": [
    {
     "name": "stdout",
     "output_type": "stream",
     "text": [
      "[[7 7 7]\n",
      " [7 7 7]\n",
      " [7 7 7]\n",
      " [7 7 7]]\n",
      "element type is int64\n"
     ]
    }
   ],
   "source": [
    "c1=np.full((4,3),7,dtype=np.int64)\n",
    "print(c1)\n",
    "print(f\"element type is {c1.dtype}\")"
   ]
  },
  {
   "cell_type": "markdown",
   "id": "b37143f6",
   "metadata": {},
   "source": [
    "##### Identity Matrices"
   ]
  },
  {
   "cell_type": "code",
   "execution_count": 69,
   "id": "9112f0ea",
   "metadata": {
    "ExecuteTime": {
     "end_time": "2024-08-21T11:54:47.639889Z",
     "start_time": "2024-08-21T11:54:47.328390Z"
    }
   },
   "outputs": [
    {
     "name": "stdout",
     "output_type": "stream",
     "text": [
      "[[1. 0. 0. 0. 0.]\n",
      " [0. 1. 0. 0. 0.]\n",
      " [0. 0. 1. 0. 0.]\n",
      " [0. 0. 0. 1. 0.]\n",
      " [0. 0. 0. 0. 1.]]\n"
     ]
    }
   ],
   "source": [
    "x=np.eye(5)\n",
    "print(x)"
   ]
  },
  {
   "cell_type": "markdown",
   "id": "df500fc7",
   "metadata": {},
   "source": [
    "##### Diagonal Matrices"
   ]
  },
  {
   "cell_type": "code",
   "execution_count": 70,
   "id": "1c305117",
   "metadata": {
    "ExecuteTime": {
     "end_time": "2024-08-21T11:54:48.172722Z",
     "start_time": "2024-08-21T11:54:47.646572Z"
    }
   },
   "outputs": [
    {
     "name": "stdout",
     "output_type": "stream",
     "text": [
      "[[1 0 0 0 0]\n",
      " [0 2 0 0 0]\n",
      " [0 0 3 0 0]\n",
      " [0 0 0 4 0]\n",
      " [0 0 0 0 5]]\n"
     ]
    }
   ],
   "source": [
    "x=np.diag([1, 2, 3, 4, 5])\n",
    "print(x)"
   ]
  },
  {
   "cell_type": "markdown",
   "id": "5149c44b",
   "metadata": {},
   "source": [
    "##### Get diagonal elements of matrices"
   ]
  },
  {
   "cell_type": "code",
   "execution_count": 71,
   "id": "abe638c3",
   "metadata": {
    "ExecuteTime": {
     "end_time": "2024-08-21T11:54:49.010940Z",
     "start_time": "2024-08-21T11:54:48.175958Z"
    }
   },
   "outputs": [
    {
     "name": "stdout",
     "output_type": "stream",
     "text": [
      "[[ 1  2  3  4  5]\n",
      " [ 6  7  8  9 10]\n",
      " [11 12 13 14 15]\n",
      " [16 17 18 19 20]\n",
      " [21 22 23 24 25]]\n",
      "main diag fo matrix:[ 1  7 13 19 25]\n",
      "top of the main diag fo matrix:[ 2  8 14 20]\n",
      "below of the main diag fo matrix:[ 6 12 18 24]\n"
     ]
    }
   ],
   "source": [
    "x=np.arange(1,26).reshape(5,5)\n",
    "print(x)\n",
    "d=np.diag(x)\n",
    "print(f\"main diag fo matrix:{d}\")\n",
    "d1=np.diag(x,1)\n",
    "print(f\"top of the main diag fo matrix:{d1}\")\n",
    "d1below=np.diag(x,-1)\n",
    "print(f\"below of the main diag fo matrix:{d1below}\")"
   ]
  },
  {
   "cell_type": "markdown",
   "id": "90864326",
   "metadata": {},
   "source": [
    "## Creating random ndarrays\n",
    "### random values from $[0.0, 1.0)$ interval\n",
    "Create a ndarray of the given shape with random floats in the half-open interval $[0.0, 1.0)$."
   ]
  },
  {
   "cell_type": "code",
   "execution_count": 72,
   "id": "814c85ce",
   "metadata": {
    "ExecuteTime": {
     "end_time": "2024-08-21T11:54:49.213626Z",
     "start_time": "2024-08-21T11:54:49.015282Z"
    }
   },
   "outputs": [
    {
     "name": "stdout",
     "output_type": "stream",
     "text": [
      "x= [[0.5132 0.8502 0.3672 0.228  0.7498]\n",
      " [0.7818 0.8534 0.2985 0.6452 0.9125]]\n"
     ]
    }
   ],
   "source": [
    "x=np.random.random((2,5))\n",
    "\n",
    "#change the number of digits of precision for floating point output (default 8).\n",
    "np.set_printoptions(precision=4)\n",
    "\n",
    "print('x=', x)\n"
   ]
  },
  {
   "cell_type": "markdown",
   "id": "f3e3ef8f",
   "metadata": {},
   "source": [
    "### Random integers\n",
    "`np.random.randint(start, stop, size = shape)`    \n",
    " - Creates a ndarray of the given shape with random integers in the half-open interval [start, stop)\n",
    " - If stop is None (the default), then results are from [0, start).\n",
    " - Default size is None, in which case a single value is returned."
   ]
  },
  {
   "cell_type": "code",
   "execution_count": 73,
   "id": "3fb63927",
   "metadata": {
    "ExecuteTime": {
     "end_time": "2024-08-21T11:54:51.959933Z",
     "start_time": "2024-08-21T11:54:49.217982Z"
    }
   },
   "outputs": [
    {
     "name": "stdout",
     "output_type": "stream",
     "text": [
      "[[7 4 6 7 6]\n",
      " [5 0 6 6 1]]\n"
     ]
    }
   ],
   "source": [
    "x=np.random.randint(0,11,(2,5))\n",
    "print(x)"
   ]
  },
  {
   "cell_type": "code",
   "execution_count": 74,
   "id": "24956a1a",
   "metadata": {
    "ExecuteTime": {
     "end_time": "2024-08-21T11:54:53.897063Z",
     "start_time": "2024-08-21T11:54:51.964294Z"
    }
   },
   "outputs": [
    {
     "name": "stdout",
     "output_type": "stream",
     "text": [
      "x= 10\n"
     ]
    }
   ],
   "source": [
    "x=np.random.randint(11)\n",
    "print('x=', x)"
   ]
  },
  {
   "cell_type": "markdown",
   "id": "6b11e396",
   "metadata": {},
   "source": [
    "### Normal distribution\n",
    "`np.random.normal(mu=0.0, sigma =1.0, size=None)`   \n",
    "Draw samples from Normal distribution\n",
    "\n",
    "`np.random.standard_normal(size)`\n",
    "Draw samples from a standard Normal distribution (mean=0, stdev=1)"
   ]
  },
  {
   "cell_type": "code",
   "execution_count": 75,
   "id": "31ee8a8f",
   "metadata": {
    "ExecuteTime": {
     "end_time": "2024-08-21T11:54:55.170134Z",
     "start_time": "2024-08-21T11:54:53.900316Z"
    }
   },
   "outputs": [
    {
     "name": "stdout",
     "output_type": "stream",
     "text": [
      "mu=-5.464840285469098e-05\n",
      "std=1.000629939727181\n"
     ]
    }
   ],
   "source": [
    "mu, sigma = 0, 1 # mean and standard deviation\n",
    "s = np.random.normal(mu, sigma, (100,1000))\n",
    "print(f\"mu={np.mean(s)}\")\n",
    "print(f\"std={np.std(s, ddof=1)}\")"
   ]
  },
  {
   "cell_type": "markdown",
   "id": "bf973775e0fc4909",
   "metadata": {
    "collapsed": false
   },
   "source": [
    "# Save and load numpy ndarrays"
   ]
  },
  {
   "cell_type": "code",
   "execution_count": 76,
   "id": "1571229de42f1ab5",
   "metadata": {
    "collapsed": false,
    "ExecuteTime": {
     "end_time": "2024-08-21T11:54:55.480176Z",
     "start_time": "2024-08-21T11:54:55.174524Z"
    }
   },
   "outputs": [
    {
     "name": "stdout",
     "output_type": "stream",
     "text": [
      "y =  [1 2 3 4 5]\n",
      "\n",
      "y is an object of type: <class 'numpy.ndarray'>\n",
      "The elements in y are of type: int32\n"
     ]
    }
   ],
   "source": [
    "#create a sample np.ndarray\n",
    "x = np.array([1, 2, 3, 4, 5])\n",
    "\n",
    "# save x into the current directory in a file named: \"my_array.npy\"\n",
    "np.save('my_array', x)\n",
    "#load the saved np.ndarray in file \"my_array.npy\"\n",
    "y = np.load('my_array.npy')\n",
    "\n",
    "# We print y\n",
    "print('y = ', y)\n",
    "print()\n",
    "\n",
    "# print information about the ndarray we have just loaded\n",
    "print('y is an object of type:', type(y))\n",
    "print('The elements in y are of type:', y.dtype)\n"
   ]
  },
  {
   "cell_type": "markdown",
   "id": "a8810493",
   "metadata": {},
   "source": [
    "# Permutation\n",
    "`random.permutation(x)` \n",
    "- If `x` is an integer, randomly permute `np.arange(x)`. \n",
    "- If `x` is an array, make a copy and shuffle the elements randomly.\n",
    "- If `x` is a multi-dimensional array, it is only shuffled along its **first index**.  \n"
   ]
  },
  {
   "cell_type": "code",
   "execution_count": 77,
   "id": "dd694bec",
   "metadata": {
    "ExecuteTime": {
     "end_time": "2024-08-21T11:54:56.440314Z",
     "start_time": "2024-08-21T11:54:55.484574Z"
    }
   },
   "outputs": [
    {
     "name": "stdout",
     "output_type": "stream",
     "text": [
      "[2 6 7 0 8 5 9 1 4 3]\n"
     ]
    }
   ],
   "source": [
    "x=np.random.permutation(10)\n",
    "print(x)"
   ]
  },
  {
   "cell_type": "code",
   "execution_count": 78,
   "id": "c632aaf3",
   "metadata": {
    "ExecuteTime": {
     "end_time": "2024-08-21T11:54:57.193967Z",
     "start_time": "2024-08-21T11:54:56.443506Z"
    }
   },
   "outputs": [
    {
     "name": "stdout",
     "output_type": "stream",
     "text": [
      "[[3 4 5]\n",
      " [0 1 2]\n",
      " [6 7 8]]\n"
     ]
    }
   ],
   "source": [
    "arr = np.arange(9).reshape((3, 3))\n",
    "x=np.random.permutation(arr)\n",
    "print(x)"
   ]
  },
  {
   "cell_type": "markdown",
   "id": "ab9890b1",
   "metadata": {},
   "source": [
    "# Accessing  elements in ndarrays"
   ]
  },
  {
   "cell_type": "markdown",
   "id": "8dccc899",
   "metadata": {},
   "source": [
    "## Indexing and slicing\n",
    "### Accessing one dimensional ndarray"
   ]
  },
  {
   "cell_type": "code",
   "execution_count": 79,
   "id": "69bc62f8",
   "metadata": {
    "ExecuteTime": {
     "end_time": "2024-08-21T11:54:58.248228Z",
     "start_time": "2024-08-21T11:54:57.197173Z"
    }
   },
   "outputs": [
    {
     "name": "stdout",
     "output_type": "stream",
     "text": [
      "x[0] = 1\n",
      "x[-1] = 5\n",
      "x[1:3] = [2 3]\n",
      "x[3:] = [4 5]\n",
      "x[-2:] = [4 5]\n",
      "x[:] = [1 2 3 4 5]\n"
     ]
    }
   ],
   "source": [
    "x = np.array([1, 2, 3, 4, 5])\n",
    "\n",
    "print(f\"x[0] = {x[0]}\")\n",
    "print(f\"x[-1] = {x[-1]}\")\n",
    "print(f\"x[1:3] = {x[1:3]}\")\n",
    "print(f\"x[3:] = {x[3:]}\")\n",
    "print(f\"x[-2:] = {x[-2:]}\")\n",
    "print(f\"x[:] = {x[:]}\")"
   ]
  },
  {
   "cell_type": "markdown",
   "id": "e3efe092",
   "metadata": {},
   "source": [
    "### Accessing two-dimensional ndarray"
   ]
  },
  {
   "cell_type": "code",
   "execution_count": 80,
   "id": "045c3a07",
   "metadata": {
    "scrolled": true,
    "ExecuteTime": {
     "end_time": "2024-08-21T11:54:59.131132Z",
     "start_time": "2024-08-21T11:54:58.251443Z"
    }
   },
   "outputs": [
    {
     "name": "stdout",
     "output_type": "stream",
     "text": [
      "x=\n",
      "[[ 1  2  3  4]\n",
      " [ 5  6  7  8]\n",
      " [ 9 10 11 12]]\n",
      "\n",
      "x[0] = [1 2 3 4]\n",
      "x[-1] = [ 9 10 11 12]\n",
      "x[1:3] =\n",
      "[[ 5  6  7  8]\n",
      " [ 9 10 11 12]]\n",
      "\n",
      "x[1:] = \n",
      "[[ 5  6  7  8]\n",
      " [ 9 10 11 12]]\n",
      "\n",
      "x[-2:] = \n",
      "[[ 5  6  7  8]\n",
      " [ 9 10 11 12]]\n",
      "\n",
      "x[:-2] = [[1 2 3 4]]\n"
     ]
    }
   ],
   "source": [
    "x = np.arange(1,13).reshape(3,4)\n",
    "print(f\"x=\\n{x}\")\n",
    "print()\n",
    "print(f\"x[0] = {x[0]}\")\n",
    "print(f\"x[-1] = {x[-1]}\")\n",
    "print(f\"x[1:3] =\\n{x[1:3]}\\n\")\n",
    "print(f\"x[1:] = \\n{x[1:]}\\n\")\n",
    "print(f\"x[-2:] = \\n{x[-2:]}\\n\")\n",
    "print(f\"x[:-2] = {x[:-2]}\\n\")"
   ]
  },
  {
   "cell_type": "code",
   "execution_count": 81,
   "id": "903fa54d",
   "metadata": {
    "ExecuteTime": {
     "end_time": "2024-08-21T11:54:59.497224Z",
     "start_time": "2024-08-21T11:54:59.134330Z"
    }
   },
   "outputs": [
    {
     "name": "stdout",
     "output_type": "stream",
     "text": [
      "x=\n",
      "[[ 1  2  3  4]\n",
      " [ 5  6  7  8]\n",
      " [ 9 10 11 12]]\n",
      "\n",
      "x[0,0] = 1\n",
      "x[0,3] = 4\n",
      "x[1,:] = [5 6 7 8]\n",
      "x[:,1] = [ 2  6 10]\n",
      "x[1:2,1:2] = [[6]]\n",
      "\n",
      "x[1:3,1:3] = \n",
      "[[ 6  7]\n",
      " [10 11]]\n",
      "\n",
      "x[1:3,1:] = \n",
      "[[ 6  7  8]\n",
      " [10 11 12]]\n"
     ]
    }
   ],
   "source": [
    "x = np.arange(1,13).reshape(3,4)\n",
    "print(f\"x=\\n{x}\")\n",
    "print()\n",
    "print(f\"x[0,0] = {x[0,0]}\")\n",
    "print(f\"x[0,3] = {x[0,3]}\")\n",
    "print(f\"x[1,:] = {x[1,:]}\")\n",
    "print(f\"x[:,1] = {x[:,1]}\")\n",
    "print(f\"x[1:2,1:2] = {x[1:2,1:2]}\\n\")#remeber exclusive ant end\n",
    "print(f\"x[1:3,1:3] = \\n{x[1:3,1:3]}\\n\")\n",
    "print(f\"x[1:3,1:] = \\n{x[1:3,1:]}\")"
   ]
  },
  {
   "cell_type": "code",
   "execution_count": 82,
   "id": "c566d633",
   "metadata": {
    "ExecuteTime": {
     "end_time": "2024-08-21T11:55:03.484006Z",
     "start_time": "2024-08-21T11:54:59.501859Z"
    }
   },
   "outputs": [
    {
     "name": "stdout",
     "output_type": "stream",
     "text": [
      "x=\n",
      "[[ 1  2  3  4]\n",
      " [ 5  6  7  8]\n",
      " [ 9 10 11 12]]\n",
      "\n",
      "x[0,0] = 1 \t\t type:<class 'numpy.int32'>\n",
      "x[0,3] = 4\n",
      "x[1,:] = [5 6 7 8]\n",
      "x[:,1] = [ 2  6 10]\n",
      "x[1:2,1:2] = [[6]]  \t type:<class 'numpy.ndarray'>\n",
      "\n",
      "x[1:3,1:3] = \n",
      "[[ 6  7]\n",
      " [10 11]] ]\n",
      "x[1:3,1:] = \n",
      "[[ 6  7  8]\n",
      " [10 11 12]]\n"
     ]
    }
   ],
   "source": [
    "x = np.arange(1,13).reshape(3,4)\n",
    "print(f\"x=\\n{x}\")\n",
    "print()\n",
    "print(f\"x[0,0] = {x[0,0]} \\t\\t type:{type(x[0,0])}\")\n",
    "print(f\"x[0,3] = {x[0,3]}\")\n",
    "print(f\"x[1,:] = {x[1,:]}\")\n",
    "print(f\"x[:,1] = {x[:,1]}\")\n",
    "print(f\"x[1:2,1:2] = {x[1:2,1:2]}  \\t type:{type(x[1:2,1:2])}\\n\")#remeber exclusive ant end\n",
    "print(f\"x[1:3,1:3] = \\n{x[1:3,1:3]} ]\")\n",
    "print(f\"x[1:3,1:] = \\n{x[1:3,1:]}\")"
   ]
  },
  {
   "cell_type": "markdown",
   "id": "56cd3267171064f2",
   "metadata": {
    "collapsed": false
   },
   "source": [
    "## Mask And Filter\n",
    "\n",
    "A **mask** is an array that has the exact same shape as your data, but instead of your values, it holds Boolean values: either True or False. You can use this mask array to index into your data array in nonlinear and complex ways. It will return all the elements where the Boolean array has a True value."
   ]
  },
  {
   "cell_type": "code",
   "execution_count": 83,
   "id": "aa28897f0f4273f4",
   "metadata": {
    "collapsed": false,
    "ExecuteTime": {
     "end_time": "2024-08-21T11:55:04.662781Z",
     "start_time": "2024-08-21T11:55:03.491053Z"
    }
   },
   "outputs": [
    {
     "name": "stdout",
     "output_type": "stream",
     "text": [
      "\n",
      "Original X = \n",
      " [[ 0  1  2  3  4]\n",
      " [ 5  6  7  8  9]\n",
      " [10 11 12 13 14]\n",
      " [15 16 17 18 19]\n",
      " [20 21 22 23 24]]\n",
      "\n",
      "mask is :\n",
      " [[False False False False False]\n",
      " [False False False False False]\n",
      " [False  True  True  True  True]\n",
      " [ True  True  True  True  True]\n",
      " [ True  True  True  True  True]]\n",
      "The masked elements in X: [11 12 13 14 15 16 17 18 19 20 21 22 23 24]\n",
      "The elements in X that are greater than 10: [11 12 13 14 15 16 17 18 19 20 21 22 23 24]\n",
      "The elements in X that less than or equal to 7: [0 1 2 3 4 5 6 7]\n",
      "The elements in X that are between 10 and 17: [11 12 13 14 15 16]\n",
      "\n",
      "X = \n",
      " [[ 0  1  2  3  4]\n",
      " [ 5  6  7  8  9]\n",
      " [10 -1 -1 -1 -1]\n",
      " [-1 -1 17 18 19]\n",
      " [20 21 22 23 24]]\n"
     ]
    }
   ],
   "source": [
    "X = np.arange(25).reshape(5, 5)\n",
    "\n",
    "# We print X\n",
    "print()\n",
    "print('Original X = \\n', X)\n",
    "print()\n",
    "##Creating a mask\n",
    "mask= X > 10\n",
    "print(f'mask is :\\n {mask}')\n",
    "print('The masked elements in X:', X[mask])\n",
    "# We use Boolean indexing to select elements in X:\n",
    "print('The elements in X that are greater than 10:', X[X > 10])\n",
    "print('The elements in X that less than or equal to 7:', X[X <= 7])\n",
    "print('The elements in X that are between 10 and 17:', X[(X > 10) & (X < 17)])\n",
    "\n",
    "# We use Boolean indexing to assign the elements that are between 10 and 17 the value of -1\n",
    "X[(X > 10) & (X < 17)] = -1\n",
    "\n",
    "# We print X\n",
    "print()\n",
    "print('X = \\n', X)\n",
    "print()\n"
   ]
  },
  {
   "cell_type": "markdown",
   "id": "14da1d8d",
   "metadata": {},
   "source": [
    "# Manipulating elements"
   ]
  },
  {
   "cell_type": "code",
   "execution_count": 84,
   "id": "69ddfba9",
   "metadata": {
    "ExecuteTime": {
     "end_time": "2024-08-21T11:55:06.299619Z",
     "start_time": "2024-08-21T11:55:04.669643Z"
    }
   },
   "outputs": [
    {
     "name": "stdout",
     "output_type": "stream",
     "text": [
      "x=\n",
      "[[ 1  2  3  4]\n",
      " [ 5  6  7  8]\n",
      " [ 9 10 11 12]]\n",
      "\n",
      "x[0,0] = 10\n",
      "[[10  2  3  4]\n",
      " [ 5  6  7  8]\n",
      " [ 9 10 11 12]]\n",
      "\n",
      "x[0,3] *= 10\n",
      "[[10  2  3 40]\n",
      " [ 5  6  7  8]\n",
      " [ 9 10 11 12]]\n",
      "\n",
      "x[1,:]=[50 60 70 80]\n",
      "[[10  2  3 40]\n",
      " [50 60 70 80]\n",
      " [ 9 10 11 12]]\n",
      "\n",
      "x[:,-1]=[1,2,3]\n",
      "[[10  2  3  1]\n",
      " [50 60 70  2]\n",
      " [ 9 10 11  3]]\n",
      "\n",
      "x[1:3,1:]=[[11, 12, 13],[14, 15, 16]]\n",
      "[[10  2  3  1]\n",
      " [50 11 12 13]\n",
      " [ 9 14 15 16]]\n"
     ]
    }
   ],
   "source": [
    "x = np.arange(1,13).reshape(3,4)\n",
    "print(f\"x=\\n{x}\")\n",
    "x[0,0] = 10\n",
    "print(f\"\\nx[0,0] = 10\\n{x}\")\n",
    "x[0,3] *= 10\n",
    "print(f\"\\nx[0,3] *= 10\\n{x}\")\n",
    "#change a row\n",
    "x[1,:]=[50, 60, 70, 80]\n",
    "print(f\"\\nx[1,:]=[50 60 70 80]\\n{x}\")\n",
    "#change column\n",
    "x[:,-1]=[1,2,3]\n",
    "print(f\"\\nx[:,-1]=[1,2,3]\\n{x}\")\n",
    "x[1:3,1:]=[[11, 12,13],[14, 15,16]]\n",
    "print(f\"\\nx[1:3,1:]=[[11, 12, 13],[14, 15, 16]]\\n{x}\")"
   ]
  },
  {
   "cell_type": "markdown",
   "id": "b315e81886d0d5b7",
   "metadata": {
    "collapsed": false
   },
   "source": [
    "## Concatenation and split\n",
    "\n",
    "- `np.stack`: Stack a sequence of arrays along a new axis.\n",
    "- `np.hstack`: Stack arrays in sequence horizontally (column wise).\n",
    "- `np.vstack`: Stack arrays in sequence vertically (row wise).\n",
    "- `np.dstack`: Stack arrays in sequence depth wise (along third dimension)\n",
    "\n",
    "\n",
    "- `np.split`:Split array into a list of multiple sub-arrays of equal size.\n",
    "- `np.hsplit`: Split array into multiple sub-arrays horizontally (column wise).\n",
    "- `np.vsplit`: Split array into multiple sub-arrays vertically (row wise).\n",
    "- `np.dsplit`: Split array into multiple sub-arrays along the 3rd axis (depth).\n",
    "\n",
    "- column_stack: Stack 1-D arrays as columns into a 2-D array."
   ]
  },
  {
   "cell_type": "code",
   "execution_count": 85,
   "id": "c697e99647f417a",
   "metadata": {
    "collapsed": false,
    "ExecuteTime": {
     "end_time": "2024-08-21T11:55:07.080879Z",
     "start_time": "2024-08-21T11:55:06.306726Z"
    }
   },
   "outputs": [
    {
     "name": "stdout",
     "output_type": "stream",
     "text": [
      "x = \n",
      " [[1 2]\n",
      " [3 4]]\n",
      "y = \n",
      " [[1 2]\n",
      " [3 4]]\n",
      "np.hstack((x,y)) = \n",
      " [[1 2 5 6]\n",
      " [3 4 7 8]]\n",
      "np.vstack((x,y)) = \n",
      " [[1 2]\n",
      " [3 4]\n",
      " [5 6]\n",
      " [7 8]]\n",
      "np.concatenate((x, y), axis=0) \n",
      " [[1 2]\n",
      " [3 4]\n",
      " [5 6]\n",
      " [7 8]]\n"
     ]
    }
   ],
   "source": [
    "x = np.array([[1, 2],[3, 4]])\n",
    "y = np.array([[5, 6],[7, 8]])\n",
    "horizontal_stack=np.hstack((x,y))\n",
    "vertical_stack=np.vstack((x,y))\n",
    "xy_concatenate=np.concatenate((x, y), axis=0)\n",
    "print('x = \\n', x)\n",
    "print('y = \\n', x)\n",
    "print('np.hstack((x,y)) = \\n', horizontal_stack)\n",
    "print('np.vstack((x,y)) = \\n', vertical_stack)\n",
    "print('np.concatenate((x, y), axis=0) \\n', xy_concatenate)\n"
   ]
  },
  {
   "cell_type": "markdown",
   "id": "d0e4867d",
   "metadata": {},
   "source": [
    "## Appending new elements\n",
    "**Remember** When axis is specified, values must have the correct shape."
   ]
  },
  {
   "cell_type": "code",
   "execution_count": 86,
   "id": "4e6fcb48",
   "metadata": {
    "ExecuteTime": {
     "end_time": "2024-08-21T11:55:07.487429Z",
     "start_time": "2024-08-21T11:55:07.096976Z"
    }
   },
   "outputs": [
    {
     "name": "stdout",
     "output_type": "stream",
     "text": [
      "x = [1 2 3 4 5]\n",
      "np.append(x,6)     ===>  y1 = [1 2 3 4 5 6]\n",
      "np.append(x,[7,8]) ===>  y2 = [1 2 3 4 5 7 8]\n"
     ]
    }
   ],
   "source": [
    "x = np.array([1, 2, 3, 4, 5])\n",
    "print(f\"x = {x}\")\n",
    "y1=np.append(x,6)\n",
    "print(f\"np.append(x,6)     ===>  y1 = {y1}\")\n",
    "y2=np.append(x,[7,8])\n",
    "print(f\"np.append(x,[7,8]) ===>  y2 = {y2}\")"
   ]
  },
  {
   "cell_type": "code",
   "execution_count": 87,
   "id": "35944dbd",
   "metadata": {
    "ExecuteTime": {
     "end_time": "2024-08-21T11:55:08.259132Z",
     "start_time": "2024-08-21T11:55:07.491780Z"
    }
   },
   "outputs": [
    {
     "name": "stdout",
     "output_type": "stream",
     "text": [
      "Original Y = \n",
      " [[1 2 3]\n",
      " [4 5 6]]\n",
      "\n",
      "v = \n",
      " [[1 2 3]\n",
      " [4 5 6]\n",
      " [7 8 9]]\n",
      "\n",
      "q = \n",
      " [[ 1  2  3  9]\n",
      " [ 4  5  6 10]]\n"
     ]
    }
   ],
   "source": [
    "# create a rank 2 ndarray \n",
    "Y = np.array([[1,2,3],[4,5,6]])\n",
    "print('Original Y = \\n', Y)\n",
    "\n",
    "# append a new row \n",
    "y1 = np.append(Y, [[7,8,9]], axis=0)\n",
    "print('\\nv = \\n', y1)\n",
    "# append a new column \n",
    "y2 = np.append(Y,[[9],[10]], axis=1)\n",
    "print('\\nq = \\n', y2)\n",
    "\n"
   ]
  },
  {
   "cell_type": "markdown",
   "id": "be144c94",
   "metadata": {},
   "source": [
    "## Inserting new elements\n",
    "`np.insert(ndarray, index, elements, axis)`   \n",
    "Support a single scalar or a sequence with one element."
   ]
  },
  {
   "cell_type": "code",
   "execution_count": 88,
   "id": "8b1b08d4",
   "metadata": {
    "ExecuteTime": {
     "end_time": "2024-08-21T11:55:09.544078Z",
     "start_time": "2024-08-21T11:55:08.266393Z"
    }
   },
   "outputs": [
    {
     "name": "stdout",
     "output_type": "stream",
     "text": [
      "x = [1 2 5 6 7]\n",
      "np.insert(x,2,[3,4])     ===>  x = [1 2 3 4 5 6 7]\n"
     ]
    }
   ],
   "source": [
    "x = np.array([1, 2, 5, 6, 7])\n",
    "print(f\"x = {x}\")\n",
    "\n",
    "x = np.insert(x,2,[3,4])\n",
    "print(f\"np.insert(x,2,[3,4])     ===>  x = {x}\")\n"
   ]
  },
  {
   "cell_type": "code",
   "execution_count": 89,
   "id": "5d68e7d3",
   "metadata": {
    "ExecuteTime": {
     "end_time": "2024-08-21T11:55:12.881771Z",
     "start_time": "2024-08-21T11:55:09.550572Z"
    }
   },
   "outputs": [
    {
     "name": "stdout",
     "output_type": "stream",
     "text": [
      "Original Y = \n",
      " [[1 2 3]\n",
      " [7 8 9]]\n",
      "\n",
      "w = \n",
      " [[1 2 3]\n",
      " [4 5 6]\n",
      " [7 8 9]]\n",
      "\n",
      "v = \n",
      " [[1 5 2 3]\n",
      " [7 5 8 9]]\n",
      "\n",
      "v0 = \n",
      " [[ 1 10  2  3]\n",
      " [ 7 20  8  9]]\n",
      "\n",
      "v1 = \n",
      " [[ 1 10  2  3]\n",
      " [ 7 20  8  9]]\n",
      "\n",
      "v2 = \n",
      " [[  1 777   2   3 777]\n",
      " [  7 777   8   9 777]]\n",
      "\n",
      "v3 = \n",
      " [[ 1 11  2  3 13]\n",
      " [ 7 11  8  9 13]]\n",
      "\n",
      "v4 = \n",
      " [[ 1 10  2  3 10]\n",
      " [ 7 20  8  9 20]]\n"
     ]
    }
   ],
   "source": [
    "# We create a rank 2 ndarray \n",
    "Y = np.array([[1,2,3],[7,8,9]])\n",
    "print('Original Y = \\n', Y)\n",
    "\n",
    "# We insert a row between the first and last row of y\n",
    "w = np.insert(Y,1,[4,5,6],axis=0)\n",
    "print('\\nw = \\n', w)\n",
    "\n",
    "# We insert a column full of 5s between the first and second column of y\n",
    "v = np.insert(Y,1,5, axis=1)\n",
    "print('\\nv = \\n', v)\n",
    "\n",
    "v0 = np.insert(Y,[1],[[10],[20]], axis=1)\n",
    "print('\\nv0 = \\n', v0)\n",
    "#v1=v0\n",
    "v1 = np.insert(Y,1,[10,20], axis=1)\n",
    "print('\\nv1 = \\n', v1)\n",
    "\n",
    "v2 = np.insert(Y,[1,3],777, axis=1)\n",
    "print('\\nv2 = \\n', v2)\n",
    "\n",
    "v3 = np.insert(Y,[1,3],[11,13], axis=1)\n",
    "print('\\nv3 = \\n', v3)\n",
    "\n",
    "v4 = np.insert(Y,[1,3],[[10],[20]], axis=1)\n",
    "print('\\nv4 = \\n', v4)"
   ]
  },
  {
   "cell_type": "markdown",
   "id": "2d795c24",
   "metadata": {},
   "source": [
    "## Delete elements\n",
    "`numpy.delete(ndarray, obj, axis=None)`  \n",
    "obj: slice, int or array of ints"
   ]
  },
  {
   "cell_type": "code",
   "execution_count": 90,
   "id": "f3bd5c5f",
   "metadata": {
    "ExecuteTime": {
     "end_time": "2024-08-21T11:55:14.024282Z",
     "start_time": "2024-08-21T11:55:12.888657Z"
    }
   },
   "outputs": [
    {
     "name": "stdout",
     "output_type": "stream",
     "text": [
      "[[ 1  2  3  4]\n",
      " [ 5  6  7  8]\n",
      " [ 9 10 11 12]]\n",
      "\n",
      "np.delete(x, 1, 0) \n",
      "y =\n",
      "[[ 1  2  3  4]\n",
      " [ 9 10 11 12]]\n",
      "\n",
      "np.delete(x, 1, 1) \n",
      "y =\n",
      "[[ 1  3  4]\n",
      " [ 5  7  8]\n",
      " [ 9 11 12]]\n",
      "\n",
      "np.delete(x, [0,-1], 1) \n",
      "y =\n",
      "[[ 2  3]\n",
      " [ 6  7]\n",
      " [10 11]]\n"
     ]
    }
   ],
   "source": [
    "x = np.array([[1,2,3,4], [5,6,7,8], [9,10,11,12]])\n",
    "print(x)\n",
    "#delete row\n",
    "Y=np.delete(x, 1, 0)\n",
    "print(f\"\\nnp.delete(x, 1, 0) \\ny =\\n{Y}\")\n",
    "#delete column\n",
    "Y=np.delete(x, 1, 1)\n",
    "print(f\"\\nnp.delete(x, 1, 1) \\ny =\\n{Y}\")\n",
    "\n",
    "#delete the first and last column of x\n",
    "Y = np.delete(x, [0,-1], axis=1)\n",
    "print(f\"\\nnp.delete(x, [0,-1], 1) \\ny =\\n{Y}\")"
   ]
  },
  {
   "cell_type": "markdown",
   "id": "fbf2d0229a217cc5",
   "metadata": {
    "collapsed": false
   },
   "source": [
    "# Cast data type"
   ]
  },
  {
   "cell_type": "code",
   "execution_count": 91,
   "id": "636333001c897773",
   "metadata": {
    "collapsed": false,
    "ExecuteTime": {
     "end_time": "2024-08-21T11:55:15.001873Z",
     "start_time": "2024-08-21T11:55:14.030578Z"
    }
   },
   "outputs": [
    {
     "name": "stdout",
     "output_type": "stream",
     "text": [
      "x dtype is:  int32\n",
      "y dtype is:  float32\n"
     ]
    }
   ],
   "source": [
    "x = np.random.randint(1,11,size=(10,))\n",
    "y=x.astype(np.float32)\n",
    "print('x dtype is: ',x.dtype)\n",
    "print('y dtype is: ',y.dtype)"
   ]
  },
  {
   "cell_type": "markdown",
   "id": "3e7c8371",
   "metadata": {},
   "source": [
    "# Sort ndarray"
   ]
  },
  {
   "cell_type": "code",
   "execution_count": 92,
   "id": "f634f42c",
   "metadata": {
    "ExecuteTime": {
     "end_time": "2024-08-21T11:55:15.879127Z",
     "start_time": "2024-08-21T11:55:15.007778Z"
    }
   },
   "outputs": [
    {
     "name": "stdout",
     "output_type": "stream",
     "text": [
      "\n",
      "Original x =  [ 7 10  1  2  6  8  6  5  3  1]\n",
      "\n",
      "Sorted x (out of place): [ 1  1  2  3  5  6  6  7  8 10]\n",
      "x after sorting: [ 7 10  1  2  6  8  6  5  3  1]\n",
      "\n",
      "x after in place sorting: [ 1  1  2  3  5  6  6  7  8 10]\n"
     ]
    }
   ],
   "source": [
    "x = np.random.randint(1,11,size=(10,))\n",
    "\n",
    "# We print x\n",
    "print()\n",
    "print('Original x = ', x)\n",
    "\n",
    "# We sort x and print the sorted array using sort as a function.\n",
    "print()\n",
    "print('Sorted x (out of place):', np.sort(x))\n",
    "print('x after sorting:', x)\n",
    "\n",
    "# We sort x and print the sorted array using sort as a method.\n",
    "x.sort()\n",
    "# When we sort in place the original array is changed to the sorted array. To see this we print x again\n",
    "print()\n",
    "print('x after in place sorting:', x)\n"
   ]
  },
  {
   "cell_type": "code",
   "execution_count": 93,
   "id": "381ac72d",
   "metadata": {
    "ExecuteTime": {
     "end_time": "2024-08-21T11:55:16.271173Z",
     "start_time": "2024-08-21T11:55:15.886862Z"
    }
   },
   "outputs": [
    {
     "name": "stdout",
     "output_type": "stream",
     "text": [
      "\n",
      "Original X = \n",
      " [[ 6  2  3  8  9]\n",
      " [ 4  2  1 10 10]\n",
      " [ 8  3  5 10 10]\n",
      " [ 4  4  9  5  4]\n",
      " [10  1  1  8  9]]\n",
      "\n",
      "\n",
      "X with sorted columns :\n",
      " [[ 4  1  1  5  4]\n",
      " [ 4  2  1  8  9]\n",
      " [ 6  2  3  8  9]\n",
      " [ 8  3  5 10 10]\n",
      " [10  4  9 10 10]]\n",
      "\n",
      "X with sorted rows :\n",
      " [[ 2  3  6  8  9]\n",
      " [ 1  2  4 10 10]\n",
      " [ 3  5  8 10 10]\n",
      " [ 4  4  4  5  9]\n",
      " [ 1  1  8  9 10]]\n"
     ]
    }
   ],
   "source": [
    "X = np.random.randint(1,11,size=(5,5))\n",
    "\n",
    "\n",
    "# We print X\n",
    "print()\n",
    "print('Original X = \\n', X)\n",
    "print()\n",
    "\n",
    "# We sort the columns of X and print the sorted array\n",
    "print()\n",
    "print('X with sorted columns :\\n', np.sort(X, axis = 0))\n",
    "\n",
    "# We sort the rows of X and print the sorted array\n",
    "print()\n",
    "print('X with sorted rows :\\n', np.sort(X, axis = 1))"
   ]
  },
  {
   "cell_type": "code",
   "execution_count": 94,
   "id": "e98a035ff90c1de9",
   "metadata": {
    "collapsed": false,
    "ExecuteTime": {
     "end_time": "2024-08-21T11:55:16.850502Z",
     "start_time": "2024-08-21T11:55:16.278254Z"
    }
   },
   "outputs": [
    {
     "name": "stdout",
     "output_type": "stream",
     "text": [
      "X = \n",
      " [[[60 59 58]\n",
      "  [57 56 55]\n",
      "  [54 53 52]\n",
      "  [51 50 49]]\n",
      "\n",
      " [[48 47 46]\n",
      "  [45 44 43]\n",
      "  [42 41 40]\n",
      "  [39 38 37]]\n",
      "\n",
      " [[36 35 34]\n",
      "  [33 32 31]\n",
      "  [30 29 28]\n",
      "  [27 26 25]]\n",
      "\n",
      " [[24 23 22]\n",
      "  [21 20 19]\n",
      "  [18 17 16]\n",
      "  [15 14 13]]\n",
      "\n",
      " [[12 11 10]\n",
      "  [ 9  8  7]\n",
      "  [ 6  5  4]\n",
      "  [ 3  2  1]]] \n",
      "\n",
      "sort X on axis=2 :\n",
      " [[[58 59 60]\n",
      "  [55 56 57]\n",
      "  [52 53 54]\n",
      "  [49 50 51]]\n",
      "\n",
      " [[46 47 48]\n",
      "  [43 44 45]\n",
      "  [40 41 42]\n",
      "  [37 38 39]]\n",
      "\n",
      " [[34 35 36]\n",
      "  [31 32 33]\n",
      "  [28 29 30]\n",
      "  [25 26 27]]\n",
      "\n",
      " [[22 23 24]\n",
      "  [19 20 21]\n",
      "  [16 17 18]\n",
      "  [13 14 15]]\n",
      "\n",
      " [[10 11 12]\n",
      "  [ 7  8  9]\n",
      "  [ 4  5  6]\n",
      "  [ 1  2  3]]] \n",
      "\n",
      "sort X on axis=1 :\n",
      " [[[51 50 49]\n",
      "  [54 53 52]\n",
      "  [57 56 55]\n",
      "  [60 59 58]]\n",
      "\n",
      " [[39 38 37]\n",
      "  [42 41 40]\n",
      "  [45 44 43]\n",
      "  [48 47 46]]\n",
      "\n",
      " [[27 26 25]\n",
      "  [30 29 28]\n",
      "  [33 32 31]\n",
      "  [36 35 34]]\n",
      "\n",
      " [[15 14 13]\n",
      "  [18 17 16]\n",
      "  [21 20 19]\n",
      "  [24 23 22]]\n",
      "\n",
      " [[ 3  2  1]\n",
      "  [ 6  5  4]\n",
      "  [ 9  8  7]\n",
      "  [12 11 10]]] \n",
      "\n",
      "sort X on axis=0 :\n",
      " [[[12 11 10]\n",
      "  [ 9  8  7]\n",
      "  [ 6  5  4]\n",
      "  [ 3  2  1]]\n",
      "\n",
      " [[24 23 22]\n",
      "  [21 20 19]\n",
      "  [18 17 16]\n",
      "  [15 14 13]]\n",
      "\n",
      " [[36 35 34]\n",
      "  [33 32 31]\n",
      "  [30 29 28]\n",
      "  [27 26 25]]\n",
      "\n",
      " [[48 47 46]\n",
      "  [45 44 43]\n",
      "  [42 41 40]\n",
      "  [39 38 37]]\n",
      "\n",
      " [[60 59 58]\n",
      "  [57 56 55]\n",
      "  [54 53 52]\n",
      "  [51 50 49]]] \n"
     ]
    }
   ],
   "source": [
    "X = np.arange(60,0,-1).reshape(5,4,3)\n",
    "\n",
    "print('X = \\n',X, '\\n')\n",
    "print('sort X on axis=2 :\\n', np.sort(X,axis=2), '\\n')\n",
    "print('sort X on axis=1 :\\n', np.sort(X,axis=1), '\\n')\n",
    "print('sort X on axis=0 :\\n', np.sort(X,axis=0), '\\n')\n"
   ]
  },
  {
   "cell_type": "markdown",
   "id": "8509aba8ad5883ee",
   "metadata": {
    "collapsed": false
   },
   "source": [
    "**NOTE**\n",
    "> Omitting the axis argument automatically selects the last and innermost dimension `axis=-1`, which is the rows in this example. Using `axis=None` flattens the array and performs a global sort."
   ]
  },
  {
   "cell_type": "markdown",
   "id": "97f1dc34",
   "metadata": {},
   "source": [
    "# Set Operation"
   ]
  },
  {
   "cell_type": "code",
   "execution_count": 95,
   "id": "3edf19c3",
   "metadata": {
    "ExecuteTime": {
     "end_time": "2024-08-21T11:55:17.145160Z",
     "start_time": "2024-08-21T11:55:16.857537Z"
    }
   },
   "outputs": [
    {
     "name": "stdout",
     "output_type": "stream",
     "text": [
      "\n",
      "x =  [1 2 3 4 5]\n",
      "\n",
      "y =  [6 7 2 8 4]\n",
      "\n",
      "All the elements of x and y: [1 2 3 4 5 6 7 8]\n",
      "The elements that are both in x and y: [2 4]\n",
      "The elements that are in x that are not in y: [1 3 5]\n",
      "z =  [1 2 3 4 6]\n"
     ]
    }
   ],
   "source": [
    "# We create a rank 1 ndarray\n",
    "x = np.array([1,2,3,4,5])\n",
    "\n",
    "# We create a rank 1 ndarray\n",
    "y = np.array([6,7,2,8,4])\n",
    "\n",
    "# We print x\n",
    "print()\n",
    "print('x = ', x)\n",
    "\n",
    "# We print y\n",
    "print()\n",
    "print('y = ', y)\n",
    "\n",
    "# We use set operations to compare x and y:\n",
    "print()\n",
    "print('All the elements of x and y:',np.union1d(x,y))\n",
    "\n",
    "print('The elements that are both in x and y:', np.intersect1d(x,y))\n",
    "print('The elements that are in x that are not in y:', np.setdiff1d(x,y))\n",
    "\n",
    "#To find the union of more than two arrays, use functools.reduce:\n",
    "from functools import reduce\n",
    "z=reduce(np.union1d, ([1, 3, 4, 3], [3, 1, 2, 1], [6, 3, 4, 2]))\n",
    "print(\"z = \",z)\n"
   ]
  },
  {
   "cell_type": "markdown",
   "id": "0f2bc446",
   "metadata": {},
   "source": [
    "# Arithmetic operations and Broadcasting"
   ]
  },
  {
   "cell_type": "markdown",
   "id": "7fd58d1f1a516ae",
   "metadata": {
    "collapsed": false
   },
   "source": [
    "## Element-wise arithmetic operations "
   ]
  },
  {
   "cell_type": "code",
   "execution_count": 96,
   "id": "6b2b233f",
   "metadata": {
    "ExecuteTime": {
     "end_time": "2024-08-21T11:55:18.311939Z",
     "start_time": "2024-08-21T11:55:17.152167Z"
    }
   },
   "outputs": [
    {
     "name": "stdout",
     "output_type": "stream",
     "text": [
      "\n",
      "x =  [1 2 3 4]\n",
      "\n",
      "y =  [5.5 6.5 7.5 8.5]\n",
      "\n",
      "x + y =  [ 6.5  8.5 10.5 12.5]\n",
      "np.add(x,y) =  [ 6.5  8.5 10.5 12.5]\n",
      "\n",
      "x - y =  [-4.5 -4.5 -4.5 -4.5]\n",
      "np.subtract(x,y) =  [-4.5 -4.5 -4.5 -4.5]\n",
      "\n",
      "x * y =  [ 5.5 13.  22.5 34. ]\n",
      "np.multiply(x,y) =  [ 5.5 13.  22.5 34. ]\n",
      "\n",
      "x / y =  [0.1818 0.3077 0.4    0.4706]\n",
      "np.divide(x,y) =  [0.1818 0.3077 0.4    0.4706]\n"
     ]
    }
   ],
   "source": [
    "x = np.array([1,2,3,4])\n",
    "y = np.array([5.5,6.5,7.5,8.5])\n",
    "\n",
    "# We print x\n",
    "print()\n",
    "print('x = ', x)\n",
    "\n",
    "# We print y\n",
    "print()\n",
    "print('y = ', y)\n",
    "print()\n",
    "\n",
    "# We perform basic element-wise operations using arithmetic symbols and functions\n",
    "print('x + y = ', x + y)\n",
    "print('np.add(x,y) = ', np.add(x,y))\n",
    "print()\n",
    "print('x - y = ', x - y)\n",
    "print('np.subtract(x,y) = ', np.subtract(x,y))\n",
    "print()\n",
    "print('x * y = ', x * y)\n",
    "print('np.multiply(x,y) = ', np.multiply(x,y))\n",
    "print()\n",
    "print('x / y = ', x / y)\n",
    "print('np.divide(x,y) = ', np.divide(x,y))"
   ]
  },
  {
   "cell_type": "code",
   "execution_count": 97,
   "id": "9a6436b0",
   "metadata": {
    "ExecuteTime": {
     "end_time": "2024-08-21T11:55:20.208649Z",
     "start_time": "2024-08-21T11:55:18.318532Z"
    }
   },
   "outputs": [
    {
     "name": "stdout",
     "output_type": "stream",
     "text": [
      "\n",
      "X = \n",
      " [[1 2]\n",
      " [3 4]]\n",
      "\n",
      "Y = \n",
      " [[5.5 6.5]\n",
      " [7.5 8.5]]\n",
      "\n",
      "X + Y = \n",
      " [[ 6.5  8.5]\n",
      " [10.5 12.5]]\n",
      "\n",
      "add(X,Y) = \n",
      " [[ 6.5  8.5]\n",
      " [10.5 12.5]]\n",
      "\n",
      "X - Y = \n",
      " [[-4.5 -4.5]\n",
      " [-4.5 -4.5]]\n",
      "\n",
      "subtract(X,Y) = \n",
      " [[-4.5 -4.5]\n",
      " [-4.5 -4.5]]\n",
      "\n",
      "X * Y = \n",
      " [[ 5.5 13. ]\n",
      " [22.5 34. ]]\n",
      "\n",
      "multiply(X,Y) = \n",
      " [[ 5.5 13. ]\n",
      " [22.5 34. ]]\n",
      "\n",
      "X / Y = \n",
      " [[0.1818 0.3077]\n",
      " [0.4    0.4706]]\n",
      "\n",
      "divide(X,Y) = \n",
      " [[0.1818 0.3077]\n",
      " [0.4    0.4706]]\n"
     ]
    }
   ],
   "source": [
    "# We create two  two-dimensional ndarrays\n",
    "X = np.array([1,2,3,4]).reshape(2,2)\n",
    "Y = np.array([5.5,6.5,7.5,8.5]).reshape(2,2)\n",
    "\n",
    "# We print X\n",
    "print()\n",
    "print('X = \\n', X)\n",
    "\n",
    "# We print Y\n",
    "print()\n",
    "print('Y = \\n', Y)\n",
    "print()\n",
    "\n",
    "# We perform basic element-wise operations using arithmetic symbols and functions\n",
    "print('X + Y = \\n', X + Y)\n",
    "print()\n",
    "print('add(X,Y) = \\n', np.add(X,Y))\n",
    "print()\n",
    "print('X - Y = \\n', X - Y)\n",
    "print()\n",
    "print('subtract(X,Y) = \\n', np.subtract(X,Y))\n",
    "print()\n",
    "print('X * Y = \\n', X * Y)\n",
    "print()\n",
    "print('multiply(X,Y) = \\n', np.multiply(X,Y))\n",
    "print()\n",
    "print('X / Y = \\n', X / Y)\n",
    "print()\n",
    "print('divide(X,Y) = \\n', np.divide(X,Y))"
   ]
  },
  {
   "cell_type": "markdown",
   "id": "5e792a2c",
   "metadata": {},
   "source": [
    "## Broadcasting\n",
    "Fundamentally, arrays can be broadcast against each other if their dimensions match or if one of the arrays has a size of 1."
   ]
  },
  {
   "cell_type": "code",
   "execution_count": 98,
   "id": "88e4cc61",
   "metadata": {
    "ExecuteTime": {
     "end_time": "2024-08-21T11:55:21.880289Z",
     "start_time": "2024-08-21T11:55:20.208649Z"
    }
   },
   "outputs": [
    {
     "name": "stdout",
     "output_type": "stream",
     "text": [
      "\n",
      "X = \n",
      " [[1 2]\n",
      " [3 4]]\n",
      "\n",
      "3 * X = \n",
      " [[ 3  6]\n",
      " [ 9 12]]\n",
      "\n",
      "3 + X = \n",
      " [[4 5]\n",
      " [6 7]]\n",
      "\n",
      "X - 3 = \n",
      " [[-2 -1]\n",
      " [ 0  1]]\n",
      "\n",
      "X / 3 = \n",
      " [[0.3333 0.6667]\n",
      " [1.     1.3333]]\n"
     ]
    }
   ],
   "source": [
    "# We create a 2 x 2 ndarray\n",
    "X = np.array([[1,2], [3,4]])\n",
    "\n",
    "# We print x\n",
    "print()\n",
    "print('X = \\n', X)\n",
    "print()\n",
    "\n",
    "print('3 * X = \\n', 3 * X)\n",
    "print()\n",
    "print('3 + X = \\n', 3 + X)\n",
    "print()\n",
    "print('X - 3 = \\n', X - 3)\n",
    "print()\n",
    "print('X / 3 = \\n', X / 3)"
   ]
  },
  {
   "cell_type": "markdown",
   "id": "b1567cd0",
   "metadata": {},
   "source": [
    "##### Creating ndarrays with Broadcasting"
   ]
  },
  {
   "cell_type": "code",
   "execution_count": 99,
   "id": "a5fc446a",
   "metadata": {
    "ExecuteTime": {
     "end_time": "2024-08-21T11:55:23.460031Z",
     "start_time": "2024-08-21T11:55:21.884793Z"
    }
   },
   "outputs": [
    {
     "name": "stdout",
     "output_type": "stream",
     "text": [
      "X =\n",
      "[[1. 2. 3. 4.]\n",
      " [1. 2. 3. 4.]\n",
      " [1. 2. 3. 4.]\n",
      " [1. 2. 3. 4.]]\n",
      "Y =\n",
      "[[1. 1. 1. 1.]\n",
      " [2. 2. 2. 2.]\n",
      " [3. 3. 3. 3.]\n",
      " [4. 4. 4. 4.]]\n"
     ]
    }
   ],
   "source": [
    "a=np.ones((4,4))\n",
    "b=np.arange(1,5)\n",
    "X = a * b\n",
    "print(f\"X =\\n{X}\")\n",
    "Y = a * b.reshape(4,1)\n",
    "print(f\"Y =\\n{Y}\")"
   ]
  },
  {
   "cell_type": "markdown",
   "id": "5453bb70",
   "metadata": {},
   "source": [
    "## Matrix multiplication\n",
    "`numpy.matmul(a,b)` For 2-D arrays it is the matrix product.   \n",
    "The @ operator can be used as a shorthand for `np.matmul` on ndarrays."
   ]
  },
  {
   "cell_type": "code",
   "execution_count": 100,
   "id": "2c72d03e",
   "metadata": {
    "ExecuteTime": {
     "end_time": "2024-08-21T11:55:24.024093Z",
     "start_time": "2024-08-21T11:55:23.467142Z"
    }
   },
   "outputs": [
    {
     "name": "stdout",
     "output_type": "stream",
     "text": [
      "X =\n",
      "[[1 6]\n",
      " [1 4]\n",
      " [6 2]]\n",
      "B =\n",
      "[[8 1 6]\n",
      " [2 4 8]]\n",
      "A×B=\n",
      " [[20 25 54]\n",
      " [16 17 38]\n",
      " [52 14 52]]\n",
      "B×A=\n",
      " [[45 64]\n",
      " [54 44]]\n"
     ]
    }
   ],
   "source": [
    "A=np.random.randint(1,10,(3,2))\n",
    "print(f\"X =\\n{A}\")\n",
    "B=np.random.randint(1,10,(2,3))\n",
    "print(f\"B =\\n{B}\")\n",
    "\n",
    "print(\"A×B=\\n\",A @ B)\n",
    "print(\"B×A=\\n\",B @ A)"
   ]
  },
  {
   "cell_type": "markdown",
   "id": "c26b5041",
   "metadata": {},
   "source": [
    "## Transpose of a matrix\n",
    "[`numpy.transpose()`](https://numpy.org/doc/stable/reference/generated/numpy.transpose.html)"
   ]
  },
  {
   "cell_type": "code",
   "execution_count": 101,
   "id": "434c9f78",
   "metadata": {
    "ExecuteTime": {
     "end_time": "2024-08-21T11:55:24.366029Z",
     "start_time": "2024-08-21T11:55:24.027636Z"
    }
   },
   "outputs": [
    {
     "name": "stdout",
     "output_type": "stream",
     "text": [
      "X =\n",
      "[[1 2 3 4]]\n",
      "Y1 =\n",
      "[[1]\n",
      " [2]\n",
      " [3]\n",
      " [4]]\n",
      "X =\n",
      "[[1 2 3 4]]\n",
      "Y2 =\n",
      "[[1]\n",
      " [2]\n",
      " [3]\n",
      " [4]]\n",
      "X =\n",
      "[[1 2 3 4]]\n",
      " Y1 and x share memory: True\n",
      " Y1 and Y2 share memory: True\n"
     ]
    }
   ],
   "source": [
    "import numpy as np\n",
    "x=np.arange(1,5).reshape(1,4)\n",
    "print(f\"X =\\n{x}\")\n",
    "Y1= x.transpose() #out of place\n",
    "print(f\"Y1 =\\n{Y1}\")\n",
    "print(f\"X =\\n{x}\")\n",
    "Y2 = np.transpose(x)#out of place\n",
    "print(f\"Y2 =\\n{Y2}\")\n",
    "print(f\"X =\\n{x}\")\n",
    "#Y1 and Y2 are just views of original x array, they don't allocate more memory\n",
    "print(f' Y1 and x share memory: {np.shares_memory(x, Y1)}')\n",
    "print(f' Y1 and Y2 share memory: {np.shares_memory(Y1, Y2)}')"
   ]
  },
  {
   "cell_type": "code",
   "outputs": [
    {
     "name": "stdout",
     "output_type": "stream",
     "text": [
      "a shape: (255, 256, 3)\n",
      "b shape: (3, 255, 256)\n"
     ]
    }
   ],
   "source": [
    "a = np.ones((255, 256, 3))\n",
    "b= np.transpose(a, axes=(2,0,1))#change the order of axes\n",
    "print(f'a shape: {a.shape}')\n",
    "print(f'b shape: {b.shape}')"
   ],
   "metadata": {
    "collapsed": false,
    "ExecuteTime": {
     "end_time": "2024-08-21T11:55:25.323274Z",
     "start_time": "2024-08-21T11:55:24.370353Z"
    }
   },
   "id": "b6f539cd52af8198",
   "execution_count": 102
  },
  {
   "cell_type": "markdown",
   "id": "b8f84a2d3bacb15c",
   "metadata": {
    "collapsed": false
   },
   "source": [
    "# numpy functions"
   ]
  },
  {
   "cell_type": "markdown",
   "id": "1d4ccecd",
   "metadata": {},
   "source": [
    "## numpy Mathematical functions\n",
    " [full list of mathematica function](https://numpy.org/doc/stable/reference/routines.math.html)\n",
    "- mean\n",
    "- std\n",
    "- sum, [nansum](https://numpy.org/doc/stable/reference/generated/numpy.nansum.html#numpy-nansum) , [cumsum](https://numpy.org/doc/stable/reference/generated/numpy.cumsum.html#numpy.cumsum)\n",
    "- prod, nanprod , cumprod\n",
    "- max\n",
    "- min\n",
    "- exp &emsp;&emsp;&emsp;&emsp;&emsp;&emsp;&emsp;$e^x$\n",
    "- expm1 &emsp;&emsp;&emsp;&emsp;&emsp; $ e^x - 1$\n",
    "- exp2 &emsp;&emsp;&emsp;&emsp;&emsp;&emsp; $2^x$\n",
    "- log &emsp;&emsp;&emsp;&emsp;&emsp;&emsp; $Ln(x)$\n",
    "- log2 &emsp; &emsp;&emsp;&emsp;&emsp; ${Log}_{2}(s)$\n",
    "- log10 &emsp;&emsp;&emsp;&emsp;&emsp; ${Log}_{10}(s)$\n",
    "- log1p &emsp;&emsp;&emsp;&emsp;&emsp; $Ln(1+x)$\n",
    "- sqrt   &emsp;&emsp;square-root \n",
    "- cbrt  &emsp;&emsp;cube-root \n",
    "- power\n",
    "- square   &emsp;&emsp;&emsp;&emsp;&emsp;$x^2$\n",
    "- clip(a, a_min, a_max)\n",
    "\n",
    "> :memo: **Note** \n",
    "> Many NumPy’s functions behave in this way: If no axis is specified, then they perform an operation on the entire dataset (**flattened** ndarray ). Otherwise, they perform the operation in an **axis-wise** fashion.\n"
   ]
  },
  {
   "cell_type": "code",
   "execution_count": 103,
   "id": "f1f8939a55e219b9",
   "metadata": {
    "collapsed": false,
    "ExecuteTime": {
     "end_time": "2024-08-21T11:55:25.993604Z",
     "start_time": "2024-08-21T11:55:25.329771Z"
    }
   },
   "outputs": [
    {
     "name": "stdout",
     "output_type": "stream",
     "text": [
      "X = \n",
      "[[16  3  2 13]\n",
      " [ 5 10 11  8]\n",
      " [ 9  6  7 12]]\n",
      "\n",
      "X.sum() = 102\n",
      "np.sum(X) = 102\n",
      "\n",
      "X.sum(axis=0) = [30 19 20 33] \n",
      "X.sum(axis=1) = [34 34 34]\n",
      "\n",
      "np.sum(X,axis=0) = [30 19 20 33]\n",
      "np.sum(X,axis=1) = [34 34 34]\n",
      "\n",
      "[34, 34]\n"
     ]
    }
   ],
   "source": [
    "X = np.array([\n",
    "       [16, 3, 2, 13],\n",
    "       [5, 10, 11, 8],\n",
    "       [9, 6, 7, 12],\n",
    "      # [4, 15, 14, 1]\n",
    "  ])\n",
    "print(f'X = \\n{X}\\n')\n",
    "print(f'X.sum() = {X.sum()}') #instance method\n",
    "print(f'np.sum(X) = {np.sum(X)}')#static method\n",
    "print()\n",
    "print(f'X.sum(axis=0) = {X.sum(axis=0)} ')\n",
    "print(f'X.sum(axis=1) = {X.sum(axis=1)}\\n')\n",
    "print(f'np.sum(X,axis=0) = {np.sum(X,axis=0)}')\n",
    "print(f'np.sum(X,axis=1) = {np.sum(X,axis=1)}')\n",
    "print()\n",
    "Y=[np.sum(X[i:i+2,j:j+2]) for i in [0] for j in [0, 2]]\n",
    "print(f'{Y}')\n"
   ]
  },
  {
   "cell_type": "code",
   "execution_count": 104,
   "id": "e9189253",
   "metadata": {
    "ExecuteTime": {
     "end_time": "2024-08-21T11:55:27.790605Z",
     "start_time": "2024-08-21T11:55:26.001023Z"
    }
   },
   "outputs": [
    {
     "name": "stdout",
     "output_type": "stream",
     "text": [
      "\n",
      "X = \n",
      " [[1 2]\n",
      " [3 4]]\n",
      "\n",
      "Average of all elements in X: 2.5\n",
      "Average of all elements in the columns of X: [2. 3.]\n",
      "Average of all elements in the rows of X: [1.5 3.5]\n",
      "\n",
      "Sum of all elements in X: 10\n",
      "Sum of all elements in the columns of X: [4 6]\n",
      "Sum of all elements in the rows of X: [3 7]\n",
      "\n",
      "Standard Deviation of all elements in X: 1.118033988749895\n",
      "Standard Deviation of all elements in the columns of X: [1. 1.]\n",
      "Standard Deviation of all elements in the rows of X: [0.5 0.5]\n",
      "\n",
      "Median of all elements in X: 2.5\n",
      "Median of all elements in the columns of X: [2. 3.]\n",
      "Median of all elements in the rows of X: [1.5 3.5]\n",
      "\n",
      "Maximum value of all elements in X: 4\n",
      "Maximum value of all elements in the columns of X: [3 4]\n",
      "Maximum value of all elements in the rows of X: [2 4]\n",
      "\n",
      "Minimum value of all elements in X: 1\n",
      "Minimum value of all elements in the columns of X: [1 2]\n",
      "Minimum value of all elements in the rows of X: [1 3]\n",
      "x = \n",
      " [[1 2]\n",
      " [3 4]]\n",
      "\n",
      "EXP(x) =\n",
      " [[ 2.7183  7.3891]\n",
      " [20.0855 54.5982]]\n",
      "\n",
      "SQRT(x) =\n",
      " [[1.     1.4142]\n",
      " [1.7321 2.    ]]\n",
      "\n",
      "POW(x,2) =\n",
      " [[ 1  4]\n",
      " [ 9 16]]\n"
     ]
    }
   ],
   "source": [
    "# We create a 2 x 2 ndarray\n",
    "X = np.array([[1,2], [3,4]])\n",
    "\n",
    "# We print x\n",
    "print()\n",
    "print('X = \\n', X)\n",
    "print()\n",
    "\n",
    "print('Average of all elements in X:', X.mean())\n",
    "print('Average of all elements in the columns of X:', X.mean(axis=0))\n",
    "print('Average of all elements in the rows of X:', X.mean(axis=1))\n",
    "print()\n",
    "print('Sum of all elements in X:', X.sum())\n",
    "print('Sum of all elements in the columns of X:', X.sum(axis=0))\n",
    "print('Sum of all elements in the rows of X:', X.sum(axis=1))\n",
    "print()\n",
    "print('Standard Deviation of all elements in X:', X.std())\n",
    "print('Standard Deviation of all elements in the columns of X:', X.std(axis=0))\n",
    "print('Standard Deviation of all elements in the rows of X:', X.std(axis=1))\n",
    "print()\n",
    "print('Median of all elements in X:', np.median(X))\n",
    "print('Median of all elements in the columns of X:', np.median(X,axis=0))\n",
    "print('Median of all elements in the rows of X:', np.median(X,axis=1))\n",
    "print()\n",
    "print('Maximum value of all elements in X:', X.max())\n",
    "print('Maximum value of all elements in the columns of X:', X.max(axis=0))\n",
    "print('Maximum value of all elements in the rows of X:', X.max(axis=1))\n",
    "print()\n",
    "print('Minimum value of all elements in X:', X.min())\n",
    "print('Minimum value of all elements in the columns of X:', X.min(axis=0))\n",
    "print('Minimum value of all elements in the rows of X:', X.min(axis=1))\n",
    "\n",
    "#\n",
    "print('x = \\n', X)\n",
    "\n",
    "# We apply different mathematical functions to all elements of x\n",
    "print()\n",
    "print('EXP(x) =\\n', np.exp(X))\n",
    "print()\n",
    "print('SQRT(x) =\\n',np.sqrt(X))\n",
    "print()\n",
    "print('POW(x,2) =\\n',np.power(X,2)) # We raise all elements to the power of 2"
   ]
  },
  {
   "cell_type": "code",
   "execution_count": 105,
   "id": "5a239eb5",
   "metadata": {
    "ExecuteTime": {
     "end_time": "2024-08-21T11:55:29.911836Z",
     "start_time": "2024-08-21T11:55:27.795116Z"
    }
   },
   "outputs": [
    {
     "name": "stdout",
     "output_type": "stream",
     "text": [
      "[[0.7311 0.8808]\n",
      " [0.9526 0.982 ]]\n"
     ]
    }
   ],
   "source": [
    "print(1/(1+np.exp(-X)))"
   ]
  },
  {
   "cell_type": "markdown",
   "id": "b6666abe4d37d112",
   "metadata": {
    "collapsed": false
   },
   "source": [
    "## Vectorize python function\n"
   ]
  },
  {
   "cell_type": "code",
   "execution_count": 106,
   "id": "6762ce92f74dc18e",
   "metadata": {
    "collapsed": false,
    "ExecuteTime": {
     "end_time": "2024-08-21T11:55:31.139382Z",
     "start_time": "2024-08-21T11:55:29.918091Z"
    }
   },
   "outputs": [
    {
     "name": "stdout",
     "output_type": "stream",
     "text": [
      "x =  [0 1 2 3 4]\n",
      "y =  [ 0  1  8 27 64]\n"
     ]
    }
   ],
   "source": [
    "def cub(num):\n",
    "    return num**3\n",
    "\n",
    "cub_numpy=np.vectorize(cub)\n",
    "x=np.arange(5)\n",
    "y=cub_numpy(x)\n",
    "print('x = ', x)\n",
    "print('y = ', y)"
   ]
  },
  {
   "cell_type": "markdown",
   "id": "64eac837f66eb323",
   "metadata": {
    "collapsed": false
   },
   "source": [
    "## swap axes"
   ]
  },
  {
   "cell_type": "code",
   "execution_count": 107,
   "id": "8f31d73f",
   "metadata": {
    "ExecuteTime": {
     "end_time": "2024-08-21T11:55:31.445078Z",
     "start_time": "2024-08-21T11:55:31.146429Z"
    }
   },
   "outputs": [
    {
     "name": "stdout",
     "output_type": "stream",
     "text": [
      "Original X is:\n",
      " [[[ 0  1  2  3]\n",
      "  [ 4  5  6  7]\n",
      "  [ 8  9 10 11]]\n",
      "\n",
      " [[12 13 14 15]\n",
      "  [16 17 18 19]\n",
      "  [20 21 22 23]]]\n",
      "\n",
      "X shape: (2, 3, 4)\n",
      "Y shape: (2, 4, 3)\n",
      "Y is:\n",
      " [[[ 0  4  8]\n",
      "  [ 1  5  9]\n",
      "  [ 2  6 10]\n",
      "  [ 3  7 11]]\n",
      "\n",
      " [[12 16 20]\n",
      "  [13 17 21]\n",
      "  [14 18 22]\n",
      "  [15 19 23]]]\n"
     ]
    }
   ],
   "source": [
    "X = np.arange(24).reshape(2,3,4)\n",
    "print(f'Original X is:\\n {X}\\n')\n",
    "Y=np.swapaxes(X,1,2)\n",
    "\n",
    "print(f'X shape: {X.shape}')\n",
    "print(f'Y shape: {Y.shape}')\n",
    "\n",
    "print(f'Y is:\\n {Y}')"
   ]
  },
  {
   "cell_type": "markdown",
   "source": [
    "## numpy.linalg.norm\n",
    "[Reed more ](https://numpy.org/doc/stable/reference/generated/numpy.linalg.norm.html)\n",
    "> norm for vectors:\n",
    "- p norm includes: 1, 2, -1, -2\n",
    "- None: Default is 2-norm\n",
    "-  inf : $max(abs(x_i))$\n",
    "-  -inf : $min(abs(x_i)$ \n",
    "\n",
    "> norm for **matrices**\n",
    "- ‘fro’ : Frobenius norm\n",
    "- ‘nuc’ :nuclear norm $\\sum \\sigma_i$"
   ],
   "metadata": {
    "collapsed": false
   },
   "id": "9f2a9d2fcbb87b69"
  },
  {
   "cell_type": "code",
   "outputs": [
    {
     "name": "stdout",
     "output_type": "stream",
     "text": [
      "[0 1 2 3 4]\n",
      "1-norm:  10.0\n",
      "2-norm:  5.477225575051661\n",
      "3-norm:  4.641588833612778\n",
      "100-norm:  4.000000000000013\n",
      "inf-norm:  4.0\n",
      "-inf-norm:  0.0\n"
     ]
    }
   ],
   "source": [
    "a = np.arange(5) \n",
    "print(a)\n",
    "print('1-norm: ', np.linalg.norm(a, ord=1))\n",
    "print('2-norm: ', np.linalg.norm(a, ord=2))\n",
    "print('3-norm: ', np.linalg.norm(a, ord=3))\n",
    "print('100-norm: ', np.linalg.norm(a, ord=100))\n",
    "print('inf-norm: ', np.linalg.norm(a, ord=np.inf))\n",
    "print('-inf-norm: ', np.linalg.norm(a, ord=-np.inf))"
   ],
   "metadata": {
    "collapsed": false,
    "ExecuteTime": {
     "end_time": "2024-08-21T11:55:31.600143Z",
     "start_time": "2024-08-21T11:55:31.448332Z"
    }
   },
   "id": "33abbc30d844533b",
   "execution_count": 108
  },
  {
   "cell_type": "markdown",
   "id": "a9f6d6230bc7688",
   "metadata": {
    "collapsed": false
   },
   "source": [
    "# Practical Example 1: Implementing a Maclaurin Series"
   ]
  },
  {
   "cell_type": "code",
   "execution_count": 109,
   "id": "132a39695ad2edc4",
   "metadata": {
    "collapsed": false,
    "ExecuteTime": {
     "end_time": "2024-08-21T11:55:31.771764Z",
     "start_time": "2024-08-21T11:55:31.604591Z"
    }
   },
   "outputs": [
    {
     "name": "stdout",
     "output_type": "stream",
     "text": [
      "n       e^3        error     \n",
      "1       1.000      19.086    \n",
      "2       4.000      16.086    \n",
      "3       8.500      11.586    \n",
      "4       13.000     7.086     \n",
      "5       16.375     3.711     \n",
      "6       18.400     1.686     \n",
      "7       19.412     0.673     \n",
      "8       19.846     0.239     \n",
      "9       20.009     0.076     \n",
      "10      20.063     0.022     \n",
      "11      20.080     0.006     \n",
      "12      20.084     0.001     \n",
      "13      20.085     0.000     \n"
     ]
    }
   ],
   "source": [
    "import math\n",
    "   \n",
    "factorial=np.vectorize(math.factorial)\n",
    "\n",
    "def my_exp(value, terms=10):\n",
    "    numbers=np.arange(terms,dtype=np.float32)\n",
    "    xs=np.full(numbers.shape, value, dtype=np.float32)\n",
    "    return  sum((xs**numbers)/factorial(numbers.astype(np.int32)))\n",
    "    \n",
    "  \n",
    "x = 3\n",
    "print(f\"{'n':<7} {'e^' + str(x):<10} {'error':<10}\")\n",
    "for n in range(1, 14):\n",
    "    maclaurin = my_exp(x, terms=n)\n",
    "    print(f\"{n:<7} {maclaurin:<10.03f} {math.exp(x) - maclaurin:<10.03f}\")"
   ]
  },
  {
   "cell_type": "markdown",
   "id": "8e644e50",
   "metadata": {},
   "source": [
    "https://numpy.org/doc/stable/reference/generated/numpy.squeeze.html"
   ]
  },
  {
   "cell_type": "code",
   "execution_count": 110,
   "id": "4fc391e3",
   "metadata": {
    "ExecuteTime": {
     "end_time": "2024-08-21T11:55:31.945842Z",
     "start_time": "2024-08-21T11:55:31.776216Z"
    }
   },
   "outputs": [
    {
     "name": "stdout",
     "output_type": "stream",
     "text": [
      "(9,)\n"
     ]
    }
   ],
   "source": [
    "x = np.arange(1,10).reshape(3,3)\n",
    "y= x.reshape(-1 )#flatten a array\n",
    "print(y.shape)"
   ]
  },
  {
   "cell_type": "code",
   "outputs": [],
   "source": [],
   "metadata": {
    "collapsed": false,
    "ExecuteTime": {
     "end_time": "2024-08-21T11:55:31.961676Z",
     "start_time": "2024-08-21T11:55:31.950372Z"
    }
   },
   "id": "e274039a589b4bd6",
   "execution_count": 110
  }
 ],
 "metadata": {
  "kernelspec": {
   "display_name": "Python 3.9.12 ('base')",
   "language": "python",
   "name": "python3"
  },
  "language_info": {
   "codemirror_mode": {
    "name": "ipython",
    "version": 3
   },
   "file_extension": ".py",
   "mimetype": "text/x-python",
   "name": "python",
   "nbconvert_exporter": "python",
   "pygments_lexer": "ipython3",
   "version": "3.11.4"
  },
  "vscode": {
   "interpreter": {
    "hash": "ea2aade64521c2a4ead8adf2ecb1033c34a403f0912477026f9290e7f9223a25"
   }
  }
 },
 "nbformat": 4,
 "nbformat_minor": 5
}
