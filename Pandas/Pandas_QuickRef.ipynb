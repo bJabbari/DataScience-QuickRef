{
 "cells": [
  {
   "cell_type": "markdown",
   "id": "e80b60e4",
   "metadata": {},
   "source": [
    "# Pandas \n",
    "The name Pandas is derived from the term Panel Data.   \n",
    "Pandas is a package for data manipulation and analysis in Python.   \n",
    "Pandas incorporates two additional data structures into Python, namely **Pandas DataFrame** and **Pandas Series**. \n",
    "[Pandas Documentation](https://pandas.pydata.org/pandas-docs/stable/)"
   ]
  },
  {
   "cell_type": "markdown",
   "id": "014ba681",
   "metadata": {},
   "source": [
    "## DataFrame\n",
    "When working with tabular data, such as data stored in spreadsheets or databases, pandas is the right tool for you. pandas will help you to explore, clean, and process your data. In pandas, a data table is called a **DataFrame**.\n",
    "\n",
    "![DataFrame](/img/01_table_dataframe.svg \"DataFrame\")\n",
    "\n",
    "pandas DataFrames are data structures that contain:\n",
    "\n",
    "- **Data** organized in two dimensions, rows and columns\n",
    "- **Labels** that correspond to the rows and columns\n",
    "    - **Column labels**\n",
    "    - **Row labels**"
   ]
  },
  {
   "cell_type": "markdown",
   "id": "4ab3d6aa",
   "metadata": {},
   "source": [
    "## Series\n",
    "Each column in a DataFrame is a Series\n",
    "![title](img/02_table_series.svg)"
   ]
  },
  {
   "cell_type": "code",
   "execution_count": 3,
   "id": "050a8962",
   "metadata": {
    "ExecuteTime": {
     "end_time": "2024-04-12T12:32:33.003225Z",
     "start_time": "2024-04-12T12:32:18.024270Z"
    }
   },
   "outputs": [
    {
     "name": "stdout",
     "output_type": "stream",
     "text": [
      "Numpy  version:  1.26.4\n",
      "Pandas version: s 2.2.1\n"
     ]
    }
   ],
   "source": [
    "import numpy as np\n",
    "import pandas as pd\n",
    "print('Numpy  version: ', np.__version__)\n",
    "print('Pandas version: s', pd.__version__)"
   ]
  },
  {
   "cell_type": "markdown",
   "id": "6eac2d37d80bb0d1",
   "metadata": {
    "collapsed": false
   },
   "source": [
    "# Creating a Pandas DataFrame\n",
    "\n",
    "There are several ways to create a pandas DataFrame:\n",
    "- Python dictionaries\n",
    "- Python lists\n",
    "- Two-dimensional NumPy arrays\n",
    "- Files"
   ]
  },
  {
   "cell_type": "markdown",
   "source": [
    "## Create DataFrame using Python dictionary \n",
    "- The dictionary keys are column name   \n",
    "- The dictionary values are the data values   "
   ],
   "metadata": {
    "collapsed": false
   },
   "id": "8ffe843520a79b00"
  },
  {
   "cell_type": "code",
   "execution_count": 119,
   "id": "feb1eab5",
   "metadata": {
    "ExecuteTime": {
     "end_time": "2024-04-11T21:41:18.806456Z",
     "start_time": "2024-04-11T21:41:18.784657Z"
    }
   },
   "outputs": [
    {
     "name": "stdout",
     "output_type": "stream",
     "text": [
      "    SN       Name  Age  Gender\n",
      "0  100       Reza   22    male\n",
      "1  101      Majid   35    male\n",
      "2  102  Elizabeth   58  female\n"
     ]
    }
   ],
   "source": [
    "df = pd.DataFrame(\n",
    "    {\n",
    "        \"SN\" :[\"100\", \"101\", \"102\"],\n",
    "        \"Name\": [\"Reza\", \"Majid\", \"Elizabeth\"],\n",
    "        \"Age\": [22, 35, 58],\n",
    "        \"Gender\": [\"male\", \"male\", \"female\"],\n",
    "    }\n",
    ")\n",
    "\n",
    "print(df)\n"
   ]
  },
  {
   "cell_type": "markdown",
   "source": [
    "**Note**\n",
    " > The dictionary values can be:  \n",
    "  - tuple,\n",
    "  - list,\n",
    "  - one-dimensional NumPy array,\n",
    "  - pandas Series object.\n",
    "  - single value :\n",
    "    -  You can also provide a single value that will be copied along the entire column."
   ],
   "metadata": {
    "collapsed": false
   },
   "id": "afbb81cdf4d5b675"
  },
  {
   "cell_type": "code",
   "outputs": [
    {
     "name": "stdout",
     "output_type": "stream",
     "text": [
      "   x   y    z  w\n",
      "0  1  10  100  A\n",
      "1  2  11  100  B\n",
      "2  3  12  100  C\n"
     ]
    }
   ],
   "source": [
    "df = pd.DataFrame({'x': [1, 2, 3], 'y': np.array([10, 11, 12]), 'z': 100 , 'w': ('A', 'B', 'C')})\n",
    "print(df)"
   ],
   "metadata": {
    "collapsed": false,
    "ExecuteTime": {
     "end_time": "2024-04-11T21:41:22.388949Z",
     "start_time": "2024-04-11T21:41:18.910203Z"
    }
   },
   "id": "26093611f1b214f6",
   "execution_count": 120
  },
  {
   "cell_type": "markdown",
   "source": [
    "**Adding Index (Row Labels)**"
   ],
   "metadata": {
    "collapsed": false
   },
   "id": "4cbb1dafdb72e9c4"
  },
  {
   "cell_type": "code",
   "outputs": [
    {
     "name": "stdout",
     "output_type": "stream",
     "text": [
      "     x   y    z\n",
      "101  1  10  100\n",
      "102  2  11  100\n",
      "103  3  12  100\n"
     ]
    }
   ],
   "source": [
    "df = pd.DataFrame({'x': [1, 2, 3], 'y': np.array([10, 11, 12]), 'z': 100}\n",
    "                         , index = range(101,104) # ADD row labels                        \n",
    "                         )\n",
    "print(df)"
   ],
   "metadata": {
    "collapsed": false,
    "ExecuteTime": {
     "end_time": "2024-04-11T21:41:23.647052Z",
     "start_time": "2024-04-11T21:41:22.394471Z"
    }
   },
   "id": "40290d5636445f20",
   "execution_count": 121
  },
  {
   "cell_type": "code",
   "outputs": [
    {
     "name": "stdout",
     "output_type": "stream",
     "text": [
      "            x   y    z\n",
      "Date                  \n",
      "2024-04-01  1  10  100\n",
      "2024-04-02  2  11  100\n",
      "2024-04-03  3  12  100\n"
     ]
    }
   ],
   "source": [
    "sample_df_date = pd.DataFrame({'x': [1, 2, 3], 'y': np.array([10, 11, 12]), 'z': 100}\n",
    "                         , index = pd.date_range(start='20240401', freq='D', periods=3, name='Date') # ADD row labels     \n",
    "                         )\n",
    "print(sample_df_date)"
   ],
   "metadata": {
    "collapsed": false,
    "ExecuteTime": {
     "end_time": "2024-04-11T21:41:24.600595Z",
     "start_time": "2024-04-11T21:41:23.650456Z"
    }
   },
   "id": "5d08d2c2f6e328b7",
   "execution_count": 122
  },
  {
   "cell_type": "code",
   "outputs": [
    {
     "name": "stdout",
     "output_type": "stream",
     "text": [
      "       x   y    z\n",
      "rowid            \n",
      "301    1  10  100\n",
      "302    2  11  100\n",
      "303    3  12  100\n"
     ]
    }
   ],
   "source": [
    "sample_df_rowid = pd.DataFrame({'x': [1, 2, 3], 'y': np.array([10, 11, 12]), 'z': 100} ,\n",
    "                              index =pd.Series(range(301,304), name='rowid')\n",
    "                              )\n",
    "print(sample_df_rowid)"
   ],
   "metadata": {
    "collapsed": false,
    "ExecuteTime": {
     "end_time": "2024-04-11T21:41:24.739973Z",
     "start_time": "2024-04-11T21:41:24.609439Z"
    }
   },
   "id": "b64a404191a67ef",
   "execution_count": 123
  },
  {
   "cell_type": "code",
   "outputs": [
    {
     "name": "stdout",
     "output_type": "stream",
     "text": [
      "       name         city  age  py-score\n",
      "101  Xavier  Mexico City   41      88.0\n",
      "102     Ann      Toronto   28      79.0\n",
      "103    Jana       Prague   33      81.0\n",
      "104      Yi     Shanghai   34      80.0\n",
      "105   Robin   Manchester   38      68.0\n",
      "106    Amal        Cairo   31      61.0\n",
      "107    Nori        Osaka   37      84.0\n"
     ]
    }
   ],
   "source": [
    "data = {\n",
    "     'name': ['Xavier', 'Ann', 'Jana', 'Yi', 'Robin', 'Amal', 'Nori'],\n",
    "     'city': ['Mexico City', 'Toronto', 'Prague', 'Shanghai', 'Manchester', 'Cairo', 'Osaka'],\n",
    "     'age': [41, 28, 33, 34, 38, 31, 37],\n",
    "     'py-score': [88.0, 79.0, 81.0, 80.0, 68.0, 61.0, 84.0]\n",
    " }\n",
    "\n",
    "row_labels = [101, 102, 103, 104, 105, 106, 107]\n",
    "\n",
    "sample_df_int_index=pd.DataFrame(data=data,index=row_labels)\n",
    "print(sample_df_int_index)"
   ],
   "metadata": {
    "collapsed": false,
    "ExecuteTime": {
     "end_time": "2024-04-11T21:41:24.896243Z",
     "start_time": "2024-04-11T21:41:24.743356Z"
    }
   },
   "id": "569f523e103667b3",
   "execution_count": 124
  },
  {
   "cell_type": "markdown",
   "source": [
    "**Changing column's order**"
   ],
   "metadata": {
    "collapsed": false
   },
   "id": "27d85e689991b55c"
  },
  {
   "cell_type": "code",
   "outputs": [
    {
     "name": "stdout",
     "output_type": "stream",
     "text": [
      "       z  x   y\n",
      "101  100  1  10\n",
      "102  100  2  11\n",
      "103  100  3  12\n"
     ]
    }
   ],
   "source": [
    "sample_df = pd.DataFrame({'x': [1, 2, 3], 'y': np.array([10, 11, 12]), 'z': 100}\n",
    "                         , index= range(101,104) # ADD row labels\n",
    "                         , columns=['z', 'x', 'y'] # Reorder columns\n",
    "                         )\n",
    "print(sample_df)"
   ],
   "metadata": {
    "collapsed": false,
    "ExecuteTime": {
     "end_time": "2024-04-11T21:41:25.089679Z",
     "start_time": "2024-04-11T21:41:24.900644Z"
    }
   },
   "id": "11d0f2e5c9702ffd",
   "execution_count": 125
  },
  {
   "cell_type": "markdown",
   "source": [
    "**Selecting portion of table**"
   ],
   "metadata": {
    "collapsed": false
   },
   "id": "2e2b224506f1cf15"
  },
  {
   "cell_type": "code",
   "outputs": [
    {
     "name": "stdout",
     "output_type": "stream",
     "text": [
      "       z   y\n",
      "101  100  10\n",
      "103  100  12\n"
     ]
    }
   ],
   "source": [
    "sample_df2 = pd.DataFrame(sample_df\n",
    "                          , index= [101, 103]\n",
    "                          , columns=['z', 'y']\n",
    "                         )\n",
    "print(sample_df2)"
   ],
   "metadata": {
    "collapsed": false,
    "ExecuteTime": {
     "end_time": "2024-04-11T21:41:25.278400Z",
     "start_time": "2024-04-11T21:41:25.093017Z"
    }
   },
   "id": "af36541c0c425de2",
   "execution_count": 126
  },
  {
   "cell_type": "markdown",
   "id": "4111b67b",
   "metadata": {},
   "source": [
    "## Create DataFrame using Python list of dictionaries\n",
    "\n",
    "you can alse create DataFrame from list of dictionaries.    \n",
    "each element in list is a dictionary that describe a row in data.\n"
   ]
  },
  {
   "cell_type": "code",
   "execution_count": 127,
   "id": "5b9aec76",
   "metadata": {
    "ExecuteTime": {
     "end_time": "2024-04-11T21:41:25.896581Z",
     "start_time": "2024-04-11T21:41:25.282866Z"
    }
   },
   "outputs": [
    {
     "name": "stdout",
     "output_type": "stream",
     "text": [
      "    SN       Name  Age  Gender\n",
      "0  100       Reza   22    male\n",
      "1  101      Majid   35    male\n",
      "2  102  Elizabeth   58  female\n"
     ]
    }
   ],
   "source": [
    "df_alt=pd.DataFrame([{\"SN\":\"100\",\"Name\":\"Reza\",\"Age\":22,\"Gender\":\"male\"},\n",
    "                     {\"SN\":\"101\",\"Name\":\"Majid\",\"Age\":35,\"Gender\":\"male\"},\n",
    "                     {\"SN\":\"102\",\"Name\":\"Elizabeth\",\"Age\":58,\"Gender\":\"female\"}])\n",
    "print(df_alt)"
   ]
  },
  {
   "cell_type": "markdown",
   "source": [
    "## Creating DataFrame using two-dimensional list or ndarray "
   ],
   "metadata": {
    "collapsed": false
   },
   "id": "85d387656255c452"
  },
  {
   "cell_type": "code",
   "outputs": [
    {
     "name": "stdout",
     "output_type": "stream",
     "text": [
      "   Id   Name  Age        City\n",
      "0   1    Tom   22     Toronto\n",
      "1   2  Alice   23       Tokyo\n",
      "2   3  Betty   24       Paris\n",
      "3   4   Reza    5  Manchester\n"
     ]
    }
   ],
   "source": [
    "data= [[1,'Tom',22, 'Toronto'],\n",
    "       [2, 'Alice', 23, 'Tokyo'],\n",
    "       [3, 'Betty', 24, 'Paris'],\n",
    "       [4, 'Reza', 5, 'Manchester']]\n",
    "df_sample= pd.DataFrame(data , columns=['Id', 'Name', 'Age', 'City'])\n",
    "print(df_sample)"
   ],
   "metadata": {
    "collapsed": false,
    "ExecuteTime": {
     "end_time": "2024-04-11T21:41:27.999605Z",
     "start_time": "2024-04-11T21:41:25.899903Z"
    }
   },
   "id": "e6b577df944ce600",
   "execution_count": 128
  },
  {
   "cell_type": "code",
   "outputs": [
    {
     "name": "stdout",
     "output_type": "stream",
     "text": [
      "   x  y    z\n",
      "0  1  4  100\n",
      "1  2  5  100\n",
      "2  3  6  100\n"
     ]
    }
   ],
   "source": [
    "arr = np.array([[1, 4, 100],\n",
    "                [2, 5, 100],\n",
    "                [3, 6, 100]])\n",
    "\n",
    "df_sample_numpy = pd.DataFrame(arr, columns=['x', 'y', 'z'])\n",
    "print(df_sample_numpy)"
   ],
   "metadata": {
    "collapsed": false,
    "ExecuteTime": {
     "end_time": "2024-04-11T21:41:29.616366Z",
     "start_time": "2024-04-11T21:41:28.014104Z"
    }
   },
   "id": "3ae28b3af64c3d8e",
   "execution_count": 129
  },
  {
   "cell_type": "markdown",
   "source": [
    "**Note**\n",
    "> Although previous  example looks almost the same as the nested list implementation above, it has one advantage: You can specify the optional parameter `copy`.\n",
    "\n",
    "> When copy is set to `False` (its default setting), the data from the NumPy array isn’t copied. This means that the original data from the array is assigned to the pandas DataFrame. If you modify the array, then your DataFrame will change too:\n",
    "\n",
    "**Note:** Not copying data values can save you a significant amount of time and processing power when working with large datasets.\n",
    "> If this behavior isn’t what you want, then you should specify parameter `copy=True` in the DataFrame constructor."
   ],
   "metadata": {
    "collapsed": false
   },
   "id": "191a08a359c9c6b6"
  },
  {
   "cell_type": "code",
   "outputs": [
    {
     "name": "stdout",
     "output_type": "stream",
     "text": [
      "      x  y    z\n",
      "0  1000  4  100\n",
      "1     2  5  100\n",
      "2     3  6  100\n"
     ]
    }
   ],
   "source": [
    "arr[0, 0]=1000\n",
    "print(df_sample_numpy)"
   ],
   "metadata": {
    "collapsed": false,
    "ExecuteTime": {
     "end_time": "2024-04-11T21:41:30.061146Z",
     "start_time": "2024-04-11T21:41:29.620708Z"
    }
   },
   "id": "b215d38d36657742",
   "execution_count": 130
  },
  {
   "cell_type": "markdown",
   "source": [
    "## Creating a pandas DataFrame From Files\n",
    "Pandas supports many different file formats or data sources out of the box (\n",
    "- csv\n",
    "- excel\n",
    "- sql\n",
    "- json\n",
    "- HTML\n",
    "- HDF5\n",
    "- parquet\n",
    "- pickle\n",
    "...\n",
    " **Load**  prefix read_*\n",
    " **Save**  prefix To_*\n",
    "\n",
    "[pandas-read-write-files](https://realpython.com/pandas-read-write-files/#using-pandas-to-write-and-read-excel-files)"
   ],
   "metadata": {
    "collapsed": false
   },
   "id": "58a5e65cfd4d2ffd"
  },
  {
   "cell_type": "code",
   "outputs": [
    {
     "name": "stdout",
     "output_type": "stream",
     "text": [
      "     Id   Name  Age        City\n",
      "100   1    Tom   22     Toronto\n",
      "101   2  Alice   23       Tokyo\n",
      "102   3  Betty   24       Paris\n",
      "103   4   Reza    5  Manchester\n"
     ]
    }
   ],
   "source": [
    "data= [[1,'Tom',22, 'Toronto'],\n",
    "       [2, 'Alice', 23, 'Tokyo'],\n",
    "       [3, 'Betty', 24, 'Paris'],\n",
    "       [4, 'Reza', 5, 'Manchester']]\n",
    "df_sample= pd.DataFrame(data , columns=['Id', 'Name', 'Age', 'City'] , index= range(100,104) )\n",
    "print(df_sample)\n",
    "\n",
    "df_sample.to_csv('./data/df_sample.csv')\n",
    "df_sample.to_json('./data/df_sample.json')\n",
    "df_sample.to_html('./data/df_sample.html')"
   ],
   "metadata": {
    "collapsed": false,
    "ExecuteTime": {
     "end_time": "2024-04-11T21:41:30.502550Z",
     "start_time": "2024-04-11T21:41:30.065692Z"
    }
   },
   "id": "6fe0bcbee0451e84",
   "execution_count": 131
  },
  {
   "cell_type": "code",
   "outputs": [
    {
     "name": "stdout",
     "output_type": "stream",
     "text": [
      "read csv without index column:\n",
      "    Unnamed: 0  Id   Name  Age        City\n",
      "0         100   1    Tom   22     Toronto\n",
      "1         101   2  Alice   23       Tokyo\n",
      "2         102   3  Betty   24       Paris\n",
      "3         103   4   Reza    5  Manchester \n",
      " <class 'pandas.core.frame.DataFrame'> \n",
      "\n",
      "read csv with index column:\n",
      "      Id   Name  Age        City\n",
      "100   1    Tom   22     Toronto\n",
      "101   2  Alice   23       Tokyo\n",
      "102   3  Betty   24       Paris\n",
      "103   4   Reza    5  Manchester \n",
      " <class 'pandas.core.frame.DataFrame'> \n",
      "read json:\n",
      "      Id   Name  Age        City\n",
      "100   1    Tom   22     Toronto\n",
      "101   2  Alice   23       Tokyo\n",
      "102   3  Betty   24       Paris\n",
      "103   4   Reza    5  Manchester \n",
      " <class 'pandas.core.frame.DataFrame'> \n",
      "\n",
      "read html:\n",
      " [     Id   Name  Age        City\n",
      "100   1    Tom   22     Toronto\n",
      "101   2  Alice   23       Tokyo\n",
      "102   3  Betty   24       Paris\n",
      "103   4   Reza    5  Manchester] \n",
      " <class 'list'>\n"
     ]
    }
   ],
   "source": [
    "df_loaded_csv=pd.read_csv('./data/df_sample.csv')\n",
    "print('read csv without index column:\\n', df_loaded_csv, '\\n', type(df_loaded_csv),'\\n')\n",
    "\n",
    "df_loaded_csv=pd.read_csv('./data/df_sample.csv', index_col=0)\n",
    "print('read csv with index column:\\n', df_loaded_csv, '\\n', type(df_loaded_csv),'\\n')\n",
    "\n",
    "df_loaded_json=pd.read_json('./data/df_sample.json')\n",
    "print('read json:\\n', df_loaded_json,'\\n', type(df_loaded_json), '\\n')\n",
    "\n",
    "df_loaded_html=pd.read_html('./data/df_sample.html', index_col=0)\n",
    "print('read html:\\n', df_loaded_html,'\\n', type(df_loaded_html))"
   ],
   "metadata": {
    "collapsed": false,
    "ExecuteTime": {
     "end_time": "2024-04-11T21:41:31.753643Z",
     "start_time": "2024-04-11T21:41:30.506946Z"
    }
   },
   "id": "697c6f3965530e89",
   "execution_count": 132
  },
  {
   "cell_type": "markdown",
   "source": [
    "### Excel files\n",
    "You can read and write Excel files in pandas, similar to CSV files. However, you’ll need to install the following Python packages first:\n",
    "\n",
    "- **xlwt** to write to .xls files\n",
    "- **openpyxl** or **XlsxWriter** to write to .xlsx files\n",
    "- **xlrd** to read Excel files\n",
    "\n",
    "\n",
    "```\n",
    "conda install xlwt openpyxl xlsxwriter xlrd\n",
    "```"
   ],
   "metadata": {
    "collapsed": false
   },
   "id": "a4df8bcb86fa3cc2"
  },
  {
   "cell_type": "code",
   "outputs": [
    {
     "name": "stdout",
     "output_type": "stream",
     "text": [
      "read xlsx:\n",
      "      Id   Name  Age        City\n",
      "100   1    Tom   22     Toronto\n",
      "101   2  Alice   23       Tokyo\n",
      "102   3  Betty   24       Paris\n",
      "103   4   Reza    5  Manchester \n",
      " <class 'pandas.core.frame.DataFrame'>\n"
     ]
    }
   ],
   "source": [
    "df_sample.to_excel('./data/df_sample.xlsx', sheet_name='passengers', index=True)\n",
    "df_sample_xlsx=pd.read_excel('./data/df_sample.xlsx', sheet_name='passengers', index_col=0 )\n",
    "print('read xlsx:\\n',df_sample_xlsx,'\\n', type(df_sample_xlsx) )\n"
   ],
   "metadata": {
    "collapsed": false,
    "ExecuteTime": {
     "end_time": "2024-04-11T21:41:32.357740Z",
     "start_time": "2024-04-11T21:41:31.756897Z"
    }
   },
   "id": "fc473ac982befa67",
   "execution_count": 133
  },
  {
   "cell_type": "markdown",
   "source": [
    "### Read and write to database\n",
    "\n",
    "`pd.read_sql()` and `df.to_sql()'"
   ],
   "metadata": {
    "collapsed": false
   },
   "id": "6801ac772d483ad"
  },
  {
   "cell_type": "markdown",
   "source": [
    "# Index a column(more columns) as row label "
   ],
   "metadata": {
    "collapsed": false
   },
   "id": "4b0a0f91023ae9"
  },
  {
   "cell_type": "markdown",
   "id": "60aa1bb4",
   "metadata": {},
   "source": [
    "In general, setting a column as an index can be achieved by the `set_index()` function."
   ]
  },
  {
   "cell_type": "code",
   "outputs": [
    {
     "name": "stdout",
     "output_type": "stream",
     "text": [
      "   Id   Name  Age        City\n",
      "0   1    Tom   22     Toronto\n",
      "1   2  Alice   23       Tokyo\n",
      "2   3  Betty   24       Paris\n",
      "3   4   Reza    5  Manchester\n"
     ]
    }
   ],
   "source": [
    "data= [[1,'Tom',22, 'Toronto'],\n",
    "       [2, 'Alice', 23, 'Tokyo'],\n",
    "       [3, 'Betty', 24, 'Paris'],\n",
    "       [4, 'Reza', 5, 'Manchester']]\n",
    "df_sample= pd.DataFrame(data , columns=['Id', 'Name', 'Age', 'City'])\n",
    "print(df_sample)"
   ],
   "metadata": {
    "collapsed": false,
    "ExecuteTime": {
     "end_time": "2024-04-11T21:41:32.388846Z",
     "start_time": "2024-04-11T21:41:32.361029Z"
    }
   },
   "id": "a91db3683c262f1e",
   "execution_count": 134
  },
  {
   "cell_type": "code",
   "execution_count": 135,
   "id": "3bb870a9",
   "metadata": {
    "ExecuteTime": {
     "end_time": "2024-04-11T21:41:32.652323Z",
     "start_time": "2024-04-11T21:41:32.392153Z"
    }
   },
   "outputs": [
    {
     "name": "stdout",
     "output_type": "stream",
     "text": [
      "     Name  Age        City\n",
      "Id                        \n",
      "1     Tom   22     Toronto\n",
      "2   Alice   23       Tokyo\n",
      "3   Betty   24       Paris\n",
      "4    Reza    5  Manchester\n"
     ]
    }
   ],
   "source": [
    "df_sample.set_index([\"Id\"],inplace=True)\n",
    "print(df_sample)"
   ]
  },
  {
   "cell_type": "markdown",
   "source": [
    "# Reset indexing\n",
    "convert index to a column of data table"
   ],
   "metadata": {
    "collapsed": false
   },
   "id": "3e8cf80681a34b64"
  },
  {
   "cell_type": "code",
   "execution_count": 136,
   "id": "87ab6378",
   "metadata": {
    "ExecuteTime": {
     "end_time": "2024-04-11T21:41:33.658368Z",
     "start_time": "2024-04-11T21:41:32.655784Z"
    }
   },
   "outputs": [
    {
     "name": "stdout",
     "output_type": "stream",
     "text": [
      "   Id   Name  Age        City\n",
      "0   1    Tom   22     Toronto\n",
      "1   2  Alice   23       Tokyo\n",
      "2   3  Betty   24       Paris\n",
      "3   4   Reza    5  Manchester\n"
     ]
    }
   ],
   "source": [
    "df_sample.reset_index(inplace=True)\n",
    "print(df_sample)"
   ]
  },
  {
   "cell_type": "code",
   "outputs": [
    {
     "name": "stdout",
     "output_type": "stream",
     "text": [
      "     x   y    z\n",
      "301  1  10  100\n",
      "302  2  11  100\n",
      "303  3  12  100\n"
     ]
    }
   ],
   "source": [
    "sample_df = pd.DataFrame({'x': [1, 2, 3], 'y': np.array([10, 11, 12]), 'z': 100}\n",
    "                         , index = range(301, 304) # ADD row labels                        \n",
    "                         )\n",
    "print(sample_df)"
   ],
   "metadata": {
    "collapsed": false,
    "ExecuteTime": {
     "end_time": "2024-04-11T21:41:34.001234Z",
     "start_time": "2024-04-11T21:41:33.662807Z"
    }
   },
   "id": "3d7b7e0d3c93ef5d",
   "execution_count": 137
  },
  {
   "cell_type": "code",
   "outputs": [
    {
     "name": "stdout",
     "output_type": "stream",
     "text": [
      "   index  x   y    z\n",
      "0    301  1  10  100\n",
      "1    302  2  11  100\n",
      "2    303  3  12  100\n"
     ]
    }
   ],
   "source": [
    "sample_df2= sample_df.reset_index(inplace=False)\n",
    "print(sample_df2)"
   ],
   "metadata": {
    "collapsed": false,
    "ExecuteTime": {
     "end_time": "2024-04-11T21:41:36.863323Z",
     "start_time": "2024-04-11T21:41:34.005707Z"
    }
   },
   "id": "4e24082e7ace667d",
   "execution_count": 138
  },
  {
   "cell_type": "markdown",
   "source": [
    "**change the default name of index column**"
   ],
   "metadata": {
    "collapsed": false
   },
   "id": "55f155fb0bfca1be"
  },
  {
   "cell_type": "code",
   "outputs": [
    {
     "name": "stdout",
     "output_type": "stream",
     "text": [
      "    Id  x   y    z\n",
      "0  301  1  10  100\n",
      "1  302  2  11  100\n",
      "2  303  3  12  100\n"
     ]
    }
   ],
   "source": [
    "sample_df2= sample_df.reset_index(inplace=False, names='Id')\n",
    "print(sample_df2)"
   ],
   "metadata": {
    "collapsed": false,
    "ExecuteTime": {
     "end_time": "2024-04-11T21:41:38.404870Z",
     "start_time": "2024-04-11T21:41:36.867662Z"
    }
   },
   "id": "b42d5f8ada863043",
   "execution_count": 139
  },
  {
   "cell_type": "markdown",
   "id": "ac9c396f",
   "metadata": {},
   "source": [
    "# Creating a Padas Series from scratch     \n",
    " A pandas series is just a one-dimensional data.\n",
    " It can have a name. The name of panda series used by plot as legend.      \n",
    " A Series can have row indexes.   \n",
    " \n",
    " if you get the series from a Pandas DataFrame column, the name of series is equal to column name.\n",
    " if you get the series from a Pandas DataFrame row, the name of series is equal to index(row label) name."
   ]
  },
  {
   "cell_type": "code",
   "execution_count": 140,
   "id": "1617b67e",
   "metadata": {
    "ExecuteTime": {
     "end_time": "2024-04-11T21:41:38.857478Z",
     "start_time": "2024-04-11T21:41:38.408155Z"
    }
   },
   "outputs": [
    {
     "name": "stdout",
     "output_type": "stream",
     "text": [
      "0    22\n",
      "1    35\n",
      "2    58\n",
      "Name: Age, dtype: int32\n"
     ]
    }
   ],
   "source": [
    "ages = pd.Series([22, 35, 58], name=\"Age\" , dtype=np.int32)\n",
    "print(ages)"
   ]
  },
  {
   "cell_type": "markdown",
   "id": "32bd2267",
   "metadata": {},
   "source": [
    "You can change default `int` row labels (called index)"
   ]
  },
  {
   "cell_type": "code",
   "execution_count": 141,
   "id": "80c85ca6",
   "metadata": {
    "ExecuteTime": {
     "end_time": "2024-04-11T21:41:38.997345Z",
     "start_time": "2024-04-11T21:41:38.861963Z"
    }
   },
   "outputs": [
    {
     "name": "stdout",
     "output_type": "stream",
     "text": [
      "person1    22\n",
      "person2    35\n",
      "person3    58\n",
      "Name: Age, dtype: int64\n"
     ]
    }
   ],
   "source": [
    "ages_Index = pd.Series([22, 35, 58], name=\"Age\",index=[\"person1\",\"person2\",\"person3\"])\n",
    "print(ages_Index)"
   ]
  },
  {
   "cell_type": "markdown",
   "id": "333a479e",
   "metadata": {},
   "source": [
    "## Accessing an element in Series by index"
   ]
  },
  {
   "cell_type": "code",
   "execution_count": 142,
   "id": "5fecc619",
   "metadata": {
    "ExecuteTime": {
     "end_time": "2024-04-11T21:41:39.154844Z",
     "start_time": "2024-04-11T21:41:39.000721Z"
    }
   },
   "outputs": [
    {
     "name": "stdout",
     "output_type": "stream",
     "text": [
      "22\n",
      "22\n",
      "22\n"
     ]
    }
   ],
   "source": [
    "print(ages[0])\n",
    "print(ages_Index[\"person1\"])\n",
    "print(ages_Index.iloc[0])"
   ]
  },
  {
   "cell_type": "markdown",
   "source": [
    "# Retrieve and modify row and column labels as sequences"
   ],
   "metadata": {
    "collapsed": false
   },
   "id": "e955e2805e75c783"
  },
  {
   "cell_type": "code",
   "outputs": [
    {
     "name": "stdout",
     "output_type": "stream",
     "text": [
      "     A   B    C       D\n",
      "301  1  11  100   Alice\n",
      "302  2  12  100   Betty\n",
      "303  3  13  100  Camila\n",
      "304  4  14  100   David\n",
      "305  5  15  100    Eddi\n"
     ]
    }
   ],
   "source": [
    "sample_df = pd.DataFrame({'A': [1, 2, 3, 4, 5],\n",
    "                          'B': np.array([11, 12, 13, 14, 15]),\n",
    "                          'C': 100,\n",
    "                          'D' :['Alice', 'Betty', 'Camila' ,'David', 'Eddi']\n",
    "                          }\n",
    "                         , index = range(301,306) # ADD row labels                        \n",
    "                         )\n",
    "print(sample_df)"
   ],
   "metadata": {
    "collapsed": false,
    "ExecuteTime": {
     "end_time": "2024-04-11T21:41:39.292933Z",
     "start_time": "2024-04-11T21:41:39.159256Z"
    }
   },
   "id": "a130ffd31a23e0",
   "execution_count": 143
  },
  {
   "cell_type": "code",
   "outputs": [
    {
     "data": {
      "text/plain": "Index(['A', 'B', 'C', 'D'], dtype='object')"
     },
     "execution_count": 144,
     "metadata": {},
     "output_type": "execute_result"
    }
   ],
   "source": [
    "sample_df.columns"
   ],
   "metadata": {
    "collapsed": false,
    "ExecuteTime": {
     "end_time": "2024-04-11T21:41:39.940494Z",
     "start_time": "2024-04-11T21:41:39.298368Z"
    }
   },
   "id": "a98bf4b3c17d2141",
   "execution_count": 144
  },
  {
   "cell_type": "code",
   "outputs": [
    {
     "data": {
      "text/plain": "RangeIndex(start=301, stop=306, step=1)"
     },
     "execution_count": 145,
     "metadata": {},
     "output_type": "execute_result"
    }
   ],
   "source": [
    "sample_df.index"
   ],
   "metadata": {
    "collapsed": false,
    "ExecuteTime": {
     "end_time": "2024-04-11T21:41:40.593251Z",
     "start_time": "2024-04-11T21:41:39.944890Z"
    }
   },
   "id": "678b19f9f63df5e6",
   "execution_count": 145
  },
  {
   "cell_type": "markdown",
   "source": [
    "**Changing the index/columns of DataFrame**\n"
   ],
   "metadata": {
    "collapsed": false
   },
   "id": "d2ed0f8b9211440f"
  },
  {
   "cell_type": "code",
   "outputs": [
    {
     "name": "stdout",
     "output_type": "stream",
     "text": [
      "            A   B    C       D\n",
      "2024-04-01  1  11  100   Alice\n",
      "2024-05-01  2  12  100   Betty\n",
      "2024-06-01  3  13  100  Camila\n",
      "2024-07-01  4  14  100   David\n",
      "2024-08-01  5  15  100    Eddi\n"
     ]
    }
   ],
   "source": [
    "sample_df.index= pd.date_range('2024-04-01', freq='MS', periods=sample_df.shape[0])\n",
    "print(sample_df)"
   ],
   "metadata": {
    "collapsed": false,
    "ExecuteTime": {
     "end_time": "2024-04-11T21:41:40.811076Z",
     "start_time": "2024-04-11T21:41:40.596643Z"
    }
   },
   "id": "6becfca9d5d749db",
   "execution_count": 146
  },
  {
   "cell_type": "code",
   "outputs": [
    {
     "name": "stdout",
     "output_type": "stream",
     "text": [
      "            x   y    z       w\n",
      "2024-04-01  1  11  100   Alice\n",
      "2024-05-01  2  12  100   Betty\n",
      "2024-06-01  3  13  100  Camila\n",
      "2024-07-01  4  14  100   David\n",
      "2024-08-01  5  15  100    Eddi\n"
     ]
    }
   ],
   "source": [
    "sample_df.columns=list('xyzw')\n",
    "print(sample_df)"
   ],
   "metadata": {
    "collapsed": false,
    "ExecuteTime": {
     "end_time": "2024-04-11T21:41:40.951915Z",
     "start_time": "2024-04-11T21:41:40.832479Z"
    }
   },
   "id": "8fd6615acb309c5f",
   "execution_count": 147
  },
  {
   "cell_type": "markdown",
   "source": [
    "**Note** you cannot change **only one single** index or column name. it will raise `TypeError :  Index does not support mutable operations`."
   ],
   "metadata": {
    "collapsed": false
   },
   "id": "3eb9076814d8991d"
  },
  {
   "cell_type": "code",
   "outputs": [
    {
     "name": "stdout",
     "output_type": "stream",
     "text": [
      "\u001B[91mTypeError\u001B[0m : Index does not support mutable operations\n"
     ]
    }
   ],
   "source": [
    "try:\n",
    "    sample_df.columns[0]='A'\n",
    "    print(sample_df)\n",
    "except Exception as e:\n",
    "    print(f\"\\033[91m{type(e).__name__}\\033[0m\", ':', e)"
   ],
   "metadata": {
    "collapsed": false,
    "ExecuteTime": {
     "end_time": "2024-04-11T21:41:41.089562Z",
     "start_time": "2024-04-11T21:41:40.955138Z"
    }
   },
   "id": "629979cc06272832",
   "execution_count": 148
  },
  {
   "cell_type": "markdown",
   "source": [
    "# Convert DataFrame's data to Numpy\n",
    "Set parameter `copy` to True if you want to make a copy of the data. The default value is False."
   ],
   "metadata": {
    "collapsed": false
   },
   "id": "54ff534d36a536fc"
  },
  {
   "cell_type": "code",
   "outputs": [
    {
     "name": "stdout",
     "output_type": "stream",
     "text": [
      "[[1 11 100 'Alice']\n",
      " [2 12 100 'Betty']\n",
      " [3 13 100 'Camila']\n",
      " [4 14 100 'David']\n",
      " [5 15 100 'Eddi']]\n",
      "<class 'numpy.ndarray'>\n",
      "dtype:  object\n"
     ]
    }
   ],
   "source": [
    "arr1 = sample_df.to_numpy()\n",
    "print(arr1)\n",
    "print(type(arr1))\n",
    "print('dtype: ' ,arr1.dtype)"
   ],
   "metadata": {
    "collapsed": false,
    "ExecuteTime": {
     "end_time": "2024-04-11T21:41:41.250980Z",
     "start_time": "2024-04-11T21:41:41.093984Z"
    }
   },
   "id": "fceefa9b2504f0b",
   "execution_count": 149
  },
  {
   "cell_type": "markdown",
   "source": [
    "**Note** you can use `.values` attribute too, but it is recommended to use `.to_numpy()`\n"
   ],
   "metadata": {
    "collapsed": false
   },
   "id": "d5c013b7e9006733"
  },
  {
   "cell_type": "code",
   "outputs": [
    {
     "name": "stdout",
     "output_type": "stream",
     "text": [
      "[[1 11 100 'Alice']\n",
      " [2 12 100 'Betty']\n",
      " [3 13 100 'Camila']\n",
      " [4 14 100 'David']\n",
      " [5 15 100 'Eddi']]\n",
      "<class 'numpy.ndarray'>\n"
     ]
    }
   ],
   "source": [
    "arr2 = sample_df.values\n",
    "print(arr2)\n",
    "print(type(arr2))"
   ],
   "metadata": {
    "collapsed": false,
    "ExecuteTime": {
     "end_time": "2024-04-11T21:41:41.888402Z",
     "start_time": "2024-04-11T21:41:41.254276Z"
    }
   },
   "id": "4ad2cdd9936e1eaa",
   "execution_count": 150
  },
  {
   "cell_type": "markdown",
   "source": [
    "# Data types `dtypes`\n",
    "Pandas relies heavily on NumPy data types. However, pandas 1.0 introduced some additional types:\n",
    "\n",
    "- **BooleanDtype** and **BooleanArray** support missing Boolean values and Kleene three-value logic.\n",
    "- **StringDtype** and **StringArray** represent a dedicated string type."
   ],
   "metadata": {
    "collapsed": false
   },
   "id": "f86a86e60dfa9897"
  },
  {
   "cell_type": "code",
   "outputs": [
    {
     "name": "stdout",
     "output_type": "stream",
     "text": [
      "     A   B    C       D        date\n",
      "301  1  11  100   Alice  2024-04-01\n",
      "302  2  12  100   Betty  2024-04-02\n",
      "303  3  13  100  Camila  2024-04-03\n",
      "304  4  14  100   David  2024-04-04\n",
      "305  5  15  100    Eddi  2024-04-12\n",
      "\n",
      "A        int64\n",
      "B        int32\n",
      "C        int64\n",
      "D       object\n",
      "date    object\n",
      "dtype: object\n"
     ]
    }
   ],
   "source": [
    "sample_df = pd.DataFrame({'A': [1, 2, 3, 4, 5],\n",
    "                          'B': np.array([11, 12, 13, 14, 15]),\n",
    "                          'C': 100,\n",
    "                          'D' :['Alice', 'Betty', 'Camila' ,'David', 'Eddi'],\n",
    "                          'date' : ['2024-04-01', '2024-04-02', '2024-04-03', '2024-04-04', '2024-04-12']\n",
    "                          }\n",
    "                         , index = range(301,306) # ADD row labels                          \n",
    "                         )\n",
    "print(sample_df)\n",
    "print()\n",
    "print(sample_df.dtypes)"
   ],
   "metadata": {
    "collapsed": false,
    "ExecuteTime": {
     "end_time": "2024-04-11T21:41:42.520233Z",
     "start_time": "2024-04-11T21:41:41.891736Z"
    }
   },
   "id": "e2c8b85bda643bb5",
   "execution_count": 151
  },
  {
   "cell_type": "markdown",
   "source": [
    "## change dtype of one column"
   ],
   "metadata": {
    "collapsed": false
   },
   "id": "341db31885df330d"
  },
  {
   "cell_type": "code",
   "outputs": [
    {
     "name": "stdout",
     "output_type": "stream",
     "text": [
      "A        int32\n",
      "B        int32\n",
      "C        int64\n",
      "D       object\n",
      "date    object\n",
      "dtype: object\n"
     ]
    }
   ],
   "source": [
    "sample_df['A'] = sample_df['A'].astype(np.int32)\n",
    "print(sample_df.dtypes)"
   ],
   "metadata": {
    "collapsed": false,
    "ExecuteTime": {
     "end_time": "2024-04-11T21:41:45.104648Z",
     "start_time": "2024-04-11T21:41:42.524730Z"
    }
   },
   "id": "16674ed93a7dd963",
   "execution_count": 152
  },
  {
   "cell_type": "markdown",
   "source": [
    "## covert object to datetime"
   ],
   "metadata": {
    "collapsed": false
   },
   "id": "b5813e3b1578fb1b"
  },
  {
   "cell_type": "code",
   "outputs": [
    {
     "name": "stdout",
     "output_type": "stream",
     "text": [
      "A                int32\n",
      "B                int32\n",
      "C                int64\n",
      "D               object\n",
      "date    datetime64[ns]\n",
      "dtype: object\n"
     ]
    }
   ],
   "source": [
    "sample_df['date'] = pd.to_datetime(sample_df['date'])\n",
    "print(sample_df.dtypes)"
   ],
   "metadata": {
    "collapsed": false,
    "ExecuteTime": {
     "end_time": "2024-04-11T21:41:45.918855Z",
     "start_time": "2024-04-11T21:41:45.108202Z"
    }
   },
   "id": "c6f7d387c69572a9",
   "execution_count": 153
  },
  {
   "cell_type": "markdown",
   "source": [
    " ## change dtype of multiple columns"
   ],
   "metadata": {
    "collapsed": false
   },
   "id": "d427c7e89742aa86"
  },
  {
   "cell_type": "code",
   "outputs": [
    {
     "name": "stdout",
     "output_type": "stream",
     "text": [
      "A                int32\n",
      "B                int32\n",
      "C              float32\n",
      "D                  |S6\n",
      "date    datetime64[ns]\n",
      "dtype: object\n"
     ]
    }
   ],
   "source": [
    "sample_df = sample_df.astype({'C':np.float32, 'D':np.string_ , 'date': 'datetime64[ns]'})\n",
    "print(sample_df.dtypes)"
   ],
   "metadata": {
    "collapsed": false,
    "ExecuteTime": {
     "end_time": "2024-04-11T21:41:46.850508Z",
     "start_time": "2024-04-11T21:41:45.923347Z"
    }
   },
   "id": "c58e8af7edbaa6a7",
   "execution_count": 154
  },
  {
   "cell_type": "markdown",
   "source": [
    "# See some attributes DataFrame"
   ],
   "metadata": {
    "collapsed": false
   },
   "id": "f639f2cc649c875c"
  },
  {
   "cell_type": "code",
   "outputs": [
    {
     "name": "stdout",
     "output_type": "stream",
     "text": [
      "shape (5, 5)\n",
      "ndim 2\n",
      "size 25\n",
      "memory usage Index    132\n",
      "A         20\n",
      "B         20\n",
      "C         20\n",
      "D         30\n",
      "date      40\n",
      "dtype: int64\n"
     ]
    }
   ],
   "source": [
    "print('shape', sample_df.shape)\n",
    "print('ndim', sample_df.ndim)\n",
    "print('size', sample_df.size)\n",
    "print('memory usage', sample_df.memory_usage())"
   ],
   "metadata": {
    "collapsed": false,
    "ExecuteTime": {
     "end_time": "2024-04-11T21:41:47.745512Z",
     "start_time": "2024-04-11T21:41:46.854956Z"
    }
   },
   "id": "537b7d2ecbee3d1",
   "execution_count": 155
  },
  {
   "cell_type": "markdown",
   "source": [
    "# Accessing and modifying elements\n",
    "\n",
    "- `.loc[]`\n",
    "- `.iloc[]`\n",
    "you use  **slicer** or **list** as indices.\n",
    " "
   ],
   "metadata": {
    "collapsed": false
   },
   "id": "4a5895be10b2bb7a"
  },
  {
   "cell_type": "code",
   "outputs": [
    {
     "name": "stdout",
     "output_type": "stream",
     "text": [
      "     A   B    C       D       date\n",
      "300  0  10  100   Alice 2024-04-08\n",
      "301  1  11  100   Betty 2024-04-09\n",
      "302  2  12  100  Camila 2024-04-10\n",
      "303  3  13  100   David 2024-04-11\n",
      "304  4  14  100    Eddi 2024-04-12\n",
      "A              float32\n",
      "B              float32\n",
      "C                int32\n",
      "D               object\n",
      "date    datetime64[ns]\n",
      "dtype: object\n"
     ]
    }
   ],
   "source": [
    "# create a sample DataFrame\n",
    "sample_df = pd.DataFrame({'A': [0, 1, 2, 3, 4],\n",
    "                          'B': np.array([10, 11, 12, 13, 14]),\n",
    "                          'C': 100,\n",
    "                          'D' :['Alice', 'Betty', 'Camila' ,'David', 'Eddi'],\n",
    "                          'date' : pd.date_range('2024-04-08', freq = 'D', periods=5 )\n",
    "                          }\n",
    "                         , index = range(300,305) # ADD row labels                          \n",
    "                         )\n",
    "print(sample_df)\n",
    "sample_df= sample_df.astype({'A': np.float32, 'B': np.float32, 'C': np.int32})\n",
    "print(sample_df.dtypes)"
   ],
   "metadata": {
    "collapsed": false,
    "ExecuteTime": {
     "end_time": "2024-04-11T21:41:48.024830Z",
     "start_time": "2024-04-11T21:41:47.749969Z"
    }
   },
   "id": "d82f42623eb92160",
   "execution_count": 156
  },
  {
   "cell_type": "markdown",
   "source": [
    "## Access a column\n",
    "It may be helpful to think of the pandas DataFrame as a dictionary of columns, or pandas Series, with many additional features."
   ],
   "metadata": {
    "collapsed": false
   },
   "id": "e74c256e7633e435"
  },
  {
   "cell_type": "code",
   "outputs": [
    {
     "name": "stdout",
     "output_type": "stream",
     "text": [
      "300    0.0\n",
      "301    1.0\n",
      "302    2.0\n",
      "303    3.0\n",
      "304    4.0\n",
      "Name: A, dtype: float32\n"
     ]
    }
   ],
   "source": [
    "print(sample_df['A'])"
   ],
   "metadata": {
    "collapsed": false,
    "ExecuteTime": {
     "end_time": "2024-04-11T21:41:48.180371Z",
     "start_time": "2024-04-11T21:41:48.028171Z"
    }
   },
   "id": "d9eab4540c520bc6",
   "execution_count": 157
  },
  {
   "cell_type": "markdown",
   "source": [
    "**Note** notice the difference of the following outputs:"
   ],
   "metadata": {
    "collapsed": false
   },
   "id": "463cfd378b8d7c88"
  },
  {
   "cell_type": "code",
   "outputs": [
    {
     "name": "stdout",
     "output_type": "stream",
     "text": [
      "<class 'pandas.core.series.Series'>\n",
      "<class 'pandas.core.frame.DataFrame'>\n"
     ]
    }
   ],
   "source": [
    "print(type(sample_df['A']))\n",
    "print(type(sample_df[['A']]))"
   ],
   "metadata": {
    "collapsed": false,
    "ExecuteTime": {
     "end_time": "2024-04-11T21:41:48.305562Z",
     "start_time": "2024-04-11T21:41:48.183745Z"
    }
   },
   "id": "6e0e3cc2c11f4e73",
   "execution_count": 158
  },
  {
   "cell_type": "markdown",
   "source": [
    "**Note** If the name of the column is a string that is a **valid Python identifier**, then you can use dot notation to access it"
   ],
   "metadata": {
    "collapsed": false
   },
   "id": "93c7a1bf147e80e8"
  },
  {
   "cell_type": "code",
   "outputs": [
    {
     "name": "stdout",
     "output_type": "stream",
     "text": [
      "300    0.0\n",
      "301    1.0\n",
      "302    2.0\n",
      "303    3.0\n",
      "304    4.0\n",
      "Name: A, dtype: float32\n"
     ]
    }
   ],
   "source": [
    "print(sample_df.A)"
   ],
   "metadata": {
    "collapsed": false,
    "ExecuteTime": {
     "end_time": "2024-04-11T21:41:48.443106Z",
     "start_time": "2024-04-11T21:41:48.309222Z"
    }
   },
   "id": "8946410b2d51c0ff",
   "execution_count": 159
  },
  {
   "cell_type": "markdown",
   "source": [
    "## Accessing a row\n",
    "Each row is a pandas series which its name is the row index (row label)."
   ],
   "metadata": {
    "collapsed": false
   },
   "id": "e9b147536b4d4d38"
  },
  {
   "cell_type": "code",
   "outputs": [
    {
     "name": "stdout",
     "output_type": "stream",
     "text": [
      "A                       1.0\n",
      "B                      11.0\n",
      "C                       100\n",
      "D                     Betty\n",
      "date    2024-04-09 00:00:00\n",
      "Name: 301, dtype: object\n"
     ]
    }
   ],
   "source": [
    "print(sample_df.loc[301]) #by index value"
   ],
   "metadata": {
    "collapsed": false,
    "ExecuteTime": {
     "end_time": "2024-04-11T21:41:48.894874Z",
     "start_time": "2024-04-11T21:41:48.447858Z"
    }
   },
   "id": "61c3cf9f4a794d61",
   "execution_count": 160
  },
  {
   "cell_type": "code",
   "outputs": [
    {
     "name": "stdout",
     "output_type": "stream",
     "text": [
      "A                       0.0\n",
      "B                      10.0\n",
      "C                       100\n",
      "D                     Alice\n",
      "date    2024-04-08 00:00:00\n",
      "Name: 300, dtype: object\n"
     ]
    }
   ],
   "source": [
    "print(sample_df.iloc[0]) # by integer Index number"
   ],
   "metadata": {
    "collapsed": false,
    "ExecuteTime": {
     "end_time": "2024-04-11T21:41:49.705884Z",
     "start_time": "2024-04-11T21:41:48.898256Z"
    }
   },
   "id": "c468690e1ffcc3e1",
   "execution_count": 161
  },
  {
   "cell_type": "markdown",
   "source": [
    "## using accessors"
   ],
   "metadata": {
    "collapsed": false
   },
   "id": "82af2e58c00598b7"
  },
  {
   "cell_type": "code",
   "outputs": [
    {
     "name": "stdout",
     "output_type": "stream",
     "text": [
      "       A     B    C       D       date\n",
      "300  0.0  10.0  100   Alice 2024-04-08\n",
      "301  1.0  11.0  100   Betty 2024-04-09\n",
      "302  2.0  12.0  100  Camila 2024-04-10\n",
      "303  3.0  13.0  100   David 2024-04-11\n",
      "304  4.0  14.0  100    Eddi 2024-04-12\n"
     ]
    }
   ],
   "source": [
    "print(sample_df.loc[300:304])"
   ],
   "metadata": {
    "collapsed": false,
    "ExecuteTime": {
     "end_time": "2024-04-11T21:41:50.707083Z",
     "start_time": "2024-04-11T21:41:49.710234Z"
    }
   },
   "id": "d75c6404011b434b",
   "execution_count": 162
  },
  {
   "cell_type": "code",
   "outputs": [
    {
     "name": "stdout",
     "output_type": "stream",
     "text": [
      "       A     B    C       D       date\n",
      "300  0.0  10.0  100   Alice 2024-04-08\n",
      "301  1.0  11.0  100   Betty 2024-04-09\n",
      "302  2.0  12.0  100  Camila 2024-04-10\n",
      "303  3.0  13.0  100   David 2024-04-11\n"
     ]
    }
   ],
   "source": [
    "print(sample_df.iloc[0:4])"
   ],
   "metadata": {
    "collapsed": false,
    "ExecuteTime": {
     "end_time": "2024-04-11T21:41:54.013921Z",
     "start_time": "2024-04-11T21:41:50.710537Z"
    }
   },
   "id": "f7f4f4883f2251ce",
   "execution_count": 163
  },
  {
   "cell_type": "markdown",
   "source": [
    "**Remember** \n",
    "This brings up a very important difference between `.loc[]` and `.iloc[]`\n",
    "- `.iloc[]`, the stop index of a slice is **exclusive**\n",
    "- `.loc[]`,stop index are **inclusive**."
   ],
   "metadata": {
    "collapsed": false
   },
   "id": "96b13831a229353e"
  },
  {
   "cell_type": "code",
   "outputs": [
    {
     "name": "stdout",
     "output_type": "stream",
     "text": [
      "       A     B    C\n",
      "301  1.0  11.0  100\n",
      "304  4.0  14.0  100\n"
     ]
    }
   ],
   "source": [
    "print(sample_df.loc[[301,304], ['A', 'B', 'C'] ])"
   ],
   "metadata": {
    "collapsed": false,
    "ExecuteTime": {
     "end_time": "2024-04-11T21:41:55.433186Z",
     "start_time": "2024-04-11T21:41:54.018301Z"
    }
   },
   "id": "baf5bf8e8ed811c0",
   "execution_count": 164
  },
  {
   "cell_type": "code",
   "outputs": [
    {
     "name": "stdout",
     "output_type": "stream",
     "text": [
      "       A     B    C\n",
      "301  1.0  11.0  100\n",
      "302  2.0  12.0  100\n",
      "303  3.0  13.0  100\n"
     ]
    }
   ],
   "source": [
    "print(sample_df.loc[301:303, ['A', 'B', 'C'] ])"
   ],
   "metadata": {
    "collapsed": false,
    "ExecuteTime": {
     "end_time": "2024-04-11T21:41:56.333932Z",
     "start_time": "2024-04-11T21:41:55.437652Z"
    }
   },
   "id": "2c7f28207605bbbc",
   "execution_count": 165
  },
  {
   "cell_type": "code",
   "outputs": [],
   "source": [],
   "metadata": {
    "collapsed": false,
    "ExecuteTime": {
     "end_time": "2024-04-11T21:41:56.349664Z",
     "start_time": "2024-04-11T21:41:56.339569Z"
    }
   },
   "id": "30209158cae15c79",
   "execution_count": 165
  },
  {
   "cell_type": "code",
   "outputs": [
    {
     "name": "stdout",
     "output_type": "stream",
     "text": [
      "       A     B    C\n",
      "300  0.0  10.0  100\n",
      "301  1.0  11.0  100\n",
      "302  2.0  12.0  100\n"
     ]
    }
   ],
   "source": [
    "print(sample_df.iloc[0:3, 0:3 ])"
   ],
   "metadata": {
    "collapsed": false,
    "ExecuteTime": {
     "end_time": "2024-04-11T21:41:57.262141Z",
     "start_time": "2024-04-11T21:41:56.354009Z"
    }
   },
   "id": "c38a853f3d9ad6ee",
   "execution_count": 166
  },
  {
   "cell_type": "code",
   "outputs": [
    {
     "name": "stdout",
     "output_type": "stream",
     "text": [
      "       A     B    C\n",
      "300  0.0  10.0  100\n",
      "301  1.0  11.0  100\n",
      "302  2.0  12.0  100\n"
     ]
    }
   ],
   "source": [
    "#get desired columns as a new DataFrame then get desired rows\n",
    "print(sample_df[['A', 'B', 'C']].iloc[0:3])"
   ],
   "metadata": {
    "collapsed": false,
    "ExecuteTime": {
     "end_time": "2024-04-11T21:41:57.992368Z",
     "start_time": "2024-04-11T21:41:57.270205Z"
    }
   },
   "id": "6fe9697a01642a0c",
   "execution_count": 167
  },
  {
   "cell_type": "code",
   "outputs": [
    {
     "name": "stdout",
     "output_type": "stream",
     "text": [
      "       A     B    C\n",
      "300  0.0  10.0  100\n",
      "301  1.0  11.0  100\n",
      "302  2.0  12.0  100\n"
     ]
    }
   ],
   "source": [
    "#get desired rows as a new DataFrame then  get desired columns\n",
    "print(sample_df.iloc[0:3][['A', 'B', 'C']])"
   ],
   "metadata": {
    "collapsed": false,
    "ExecuteTime": {
     "end_time": "2024-04-11T21:41:58.492622Z",
     "start_time": "2024-04-11T21:41:57.998234Z"
    }
   },
   "id": "5e175ee12b64fae",
   "execution_count": 168
  },
  {
   "cell_type": "code",
   "outputs": [
    {
     "name": "stdout",
     "output_type": "stream",
     "text": [
      "300   2024-04-08\n",
      "301   2024-04-09\n",
      "302   2024-04-10\n",
      "303   2024-04-11\n",
      "304   2024-04-12\n",
      "Name: date, dtype: datetime64[ns]\n"
     ]
    }
   ],
   "source": [
    "print(sample_df.iloc[:, -1 ]) #Note the output is a Pandas Series"
   ],
   "metadata": {
    "collapsed": false,
    "ExecuteTime": {
     "end_time": "2024-04-11T21:41:58.823842Z",
     "start_time": "2024-04-11T21:41:58.497152Z"
    }
   },
   "id": "f35d328b444af7e7",
   "execution_count": 169
  },
  {
   "cell_type": "code",
   "outputs": [
    {
     "name": "stdout",
     "output_type": "stream",
     "text": [
      "          date\n",
      "300 2024-04-08\n",
      "301 2024-04-09\n",
      "302 2024-04-10\n",
      "303 2024-04-11\n",
      "304 2024-04-12\n"
     ]
    }
   ],
   "source": [
    "print(sample_df.iloc[:, [-1] ]) #Note the output is a Pandas DataFrame"
   ],
   "metadata": {
    "collapsed": false,
    "ExecuteTime": {
     "end_time": "2024-04-11T21:42:01.945821Z",
     "start_time": "2024-04-11T21:41:58.828409Z"
    }
   },
   "id": "917620f9f3535466",
   "execution_count": 170
  },
  {
   "cell_type": "code",
   "outputs": [
    {
     "name": "stdout",
     "output_type": "stream",
     "text": [
      "300     Alice\n",
      "301     Betty\n",
      "302    Camila\n",
      "303     David\n",
      "304      Eddi\n",
      "Name: D, dtype: object\n"
     ]
    }
   ],
   "source": [
    "print(sample_df.loc[:, 'D']) #again output is a series"
   ],
   "metadata": {
    "collapsed": false,
    "ExecuteTime": {
     "end_time": "2024-04-11T21:42:03.356298Z",
     "start_time": "2024-04-11T21:42:01.951998Z"
    }
   },
   "id": "7dca313e60ae86c4",
   "execution_count": 171
  },
  {
   "cell_type": "code",
   "outputs": [
    {
     "name": "stdout",
     "output_type": "stream",
     "text": [
      "          D\n",
      "300   Alice\n",
      "301   Betty\n",
      "302  Camila\n",
      "303   David\n",
      "304    Eddi\n"
     ]
    }
   ],
   "source": [
    "print(sample_df.loc[:, ['D']]) #again output is a DataFrame"
   ],
   "metadata": {
    "collapsed": false,
    "ExecuteTime": {
     "end_time": "2024-04-11T21:42:03.978495Z",
     "start_time": "2024-04-11T21:42:03.359740Z"
    }
   },
   "id": "184b804cfcc886ee",
   "execution_count": 172
  },
  {
   "cell_type": "code",
   "outputs": [
    {
     "name": "stdout",
     "output_type": "stream",
     "text": [
      "       A     B    C       D       date\n",
      "300  0.0  10.0  100   Alice 2024-04-08\n",
      "302  2.0  12.0  100  Camila 2024-04-10\n",
      "304  4.0  14.0  100    Eddi 2024-04-12\n"
     ]
    }
   ],
   "source": [
    "#only even rows\n",
    "print(sample_df.iloc[::2])"
   ],
   "metadata": {
    "collapsed": false,
    "ExecuteTime": {
     "end_time": "2024-04-11T21:42:05.122926Z",
     "start_time": "2024-04-11T21:42:03.982975Z"
    }
   },
   "id": "33865e1e3309ec7a",
   "execution_count": 173
  },
  {
   "cell_type": "code",
   "outputs": [
    {
     "name": "stdout",
     "output_type": "stream",
     "text": [
      "300     Alice\n",
      "301     Betty\n",
      "302    Camila\n",
      "303     David\n",
      "304      Eddi\n",
      "Name: D, dtype: object\n"
     ]
    }
   ],
   "source": [
    "#only even rows\n",
    "print(sample_df.loc[:, 'D']) #output is a series"
   ],
   "metadata": {
    "collapsed": false,
    "ExecuteTime": {
     "end_time": "2024-04-11T21:42:06.173345Z",
     "start_time": "2024-04-11T21:42:05.126222Z"
    }
   },
   "id": "b62d178050e5b90c",
   "execution_count": 174
  },
  {
   "cell_type": "markdown",
   "source": [
    "## Getting only one element\n",
    "- `.at[]`\n",
    "- `.iat[]`"
   ],
   "metadata": {
    "collapsed": false
   },
   "id": "7dff814733b6e911"
  },
  {
   "cell_type": "code",
   "outputs": [
    {
     "data": {
      "text/plain": "'Eddi'"
     },
     "execution_count": 175,
     "metadata": {},
     "output_type": "execute_result"
    }
   ],
   "source": [
    "sample_df.at[304,'D']"
   ],
   "metadata": {
    "collapsed": false,
    "ExecuteTime": {
     "end_time": "2024-04-11T21:42:06.770309Z",
     "start_time": "2024-04-11T21:42:06.177812Z"
    }
   },
   "id": "c2235fb23cc92883",
   "execution_count": 175
  },
  {
   "cell_type": "code",
   "outputs": [
    {
     "data": {
      "text/plain": "'Eddi'"
     },
     "execution_count": 176,
     "metadata": {},
     "output_type": "execute_result"
    }
   ],
   "source": [
    "sample_df.iat[4,3]"
   ],
   "metadata": {
    "collapsed": false,
    "ExecuteTime": {
     "end_time": "2024-04-11T21:42:07.185145Z",
     "start_time": "2024-04-11T21:42:06.774723Z"
    }
   },
   "id": "53c583aa86e520a2",
   "execution_count": 176
  },
  {
   "cell_type": "markdown",
   "source": [
    "# Setting Data With Accessors"
   ],
   "metadata": {
    "collapsed": false
   },
   "id": "c282a81730bb61c6"
  },
  {
   "cell_type": "code",
   "outputs": [
    {
     "name": "stdout",
     "output_type": "stream",
     "text": [
      "       A     B    C       D       date\n",
      "300  0.0  10.0  100   Alice 2024-04-08\n",
      "301  1.0  11.0  100   Betty 2024-04-09\n",
      "302  2.0  12.0  100  Camila 2024-04-10\n",
      "303  3.0  13.0  100   David 2024-04-11\n",
      "304  4.0  14.0  101    Eric 2024-04-12\n"
     ]
    }
   ],
   "source": [
    "sample_df.loc[304,['C','D']] = [101, 'Eric']\n",
    "print(sample_df)"
   ],
   "metadata": {
    "collapsed": false,
    "ExecuteTime": {
     "end_time": "2024-04-11T21:42:07.508621Z",
     "start_time": "2024-04-11T21:42:07.189453Z"
    }
   },
   "id": "c288d470926b21a1",
   "execution_count": 177
  },
  {
   "cell_type": "code",
   "outputs": [
    {
     "name": "stdout",
     "output_type": "stream",
     "text": [
      "       A     B    C       D       date\n",
      "300  0.0  10.0   20   Alice 2024-04-08\n",
      "301  1.0  11.0  100   Betty 2024-04-09\n",
      "302  2.0  12.0  100  Camila 2024-04-10\n",
      "303  3.0  13.0  100   David 2024-04-11\n",
      "304  4.0  14.0  101    Eric 2024-04-12\n"
     ]
    }
   ],
   "source": [
    "sample_df.iat[0,2]=20\n",
    "print(sample_df)"
   ],
   "metadata": {
    "collapsed": false,
    "ExecuteTime": {
     "end_time": "2024-04-11T21:42:08.298362Z",
     "start_time": "2024-04-11T21:42:07.511998Z"
    }
   },
   "id": "10378e2850f53f7d",
   "execution_count": 178
  },
  {
   "cell_type": "code",
   "outputs": [
    {
     "name": "stdout",
     "output_type": "stream",
     "text": [
      "       A     B   C       D       date\n",
      "300  0.0  10.0  56   Alice 2024-04-08\n",
      "301  1.0  11.0  86   Betty 2024-04-09\n",
      "302  2.0  12.0  38  Camila 2024-04-10\n",
      "303  3.0  13.0  70   David 2024-04-11\n",
      "304  4.0  14.0  65    Eric 2024-04-12\n"
     ]
    }
   ],
   "source": [
    "sample_df.C= np.random.randint(10,100,size=(sample_df.shape[0]), dtype=np.int32)#.astype(np.float32)\n",
    "print(sample_df)"
   ],
   "metadata": {
    "collapsed": false,
    "ExecuteTime": {
     "end_time": "2024-04-11T21:42:11.172096Z",
     "start_time": "2024-04-11T21:42:08.302793Z"
    }
   },
   "id": "af82627e6e209b89",
   "execution_count": 179
  },
  {
   "cell_type": "markdown",
   "source": [
    "# Inserting and Deleting Data\n"
   ],
   "metadata": {
    "collapsed": false
   },
   "id": "73b6dea6160c59fd"
  },
  {
   "cell_type": "code",
   "outputs": [
    {
     "name": "stdout",
     "output_type": "stream",
     "text": [
      "     A   B    C       D       date\n",
      "300  0  10  100   Alice 2024-04-08\n",
      "301  1  11  100   Betty 2024-04-09\n",
      "302  2  12  100  Camila 2024-04-10\n",
      "303  3  13  100   David 2024-04-11\n",
      "304  4  14  100    Eddi 2024-04-12\n",
      "A              float32\n",
      "B              float32\n",
      "C                int32\n",
      "D               object\n",
      "date    datetime64[ns]\n",
      "dtype: object\n"
     ]
    }
   ],
   "source": [
    "#create a sample DataFrame\n",
    "sample_df = pd.DataFrame({'A': [0, 1, 2, 3, 4],\n",
    "                          'B': np.array([10, 11, 12, 13, 14]),\n",
    "                          'C': 100,\n",
    "                          'D' :['Alice', 'Betty', 'Camila' ,'David', 'Eddi'],\n",
    "                          'date' : pd.date_range('2024-04-08', freq = 'D', periods=5 )\n",
    "                          }\n",
    "                         , index = range(300,305) # ADD row labels                          \n",
    "                         )\n",
    "print(sample_df)\n",
    "sample_df= sample_df.astype({'A': np.float32, 'B': np.float32, 'C': np.int32})\n",
    "print(sample_df.dtypes)"
   ],
   "metadata": {
    "collapsed": false,
    "ExecuteTime": {
     "end_time": "2024-04-12T14:41:42.641841Z",
     "start_time": "2024-04-12T14:41:42.614058Z"
    }
   },
   "id": "630c4f9376e25a44",
   "execution_count": 62
  },
  {
   "cell_type": "markdown",
   "source": [
    "## Inserting and Deleting Columns\n"
   ],
   "metadata": {
    "collapsed": false
   },
   "id": "54adb23c157842c4"
  },
  {
   "cell_type": "code",
   "outputs": [
    {
     "name": "stdout",
     "output_type": "stream",
     "text": [
      "       A     B    C       D       date  new_column\n",
      "300  0.0  10.0  100   Alice 2024-04-08    0.066415\n",
      "301  1.0  11.0  100   Betty 2024-04-09    0.513401\n",
      "302  2.0  12.0  100  Camila 2024-04-10    0.734841\n",
      "303  3.0  13.0  100   David 2024-04-11    0.034761\n",
      "304  4.0  14.0  100    Eddi 2024-04-12    0.056993\n"
     ]
    }
   ],
   "source": [
    "sample_df['new_column'] = np.random.rand(sample_df.shape[0])\n",
    "print(sample_df)"
   ],
   "metadata": {
    "collapsed": false,
    "ExecuteTime": {
     "end_time": "2024-04-11T21:42:13.357885Z",
     "start_time": "2024-04-11T21:42:12.804670Z"
    }
   },
   "id": "632722fbf27b2237",
   "execution_count": 181
  },
  {
   "cell_type": "code",
   "outputs": [
    {
     "name": "stdout",
     "output_type": "stream",
     "text": [
      "       A     B    C       D       date\n",
      "300  0.0  10.0  100   Alice 2024-04-08\n",
      "301  1.0  11.0  100   Betty 2024-04-09\n",
      "302  2.0  12.0  100  Camila 2024-04-10\n",
      "303  3.0  13.0  100   David 2024-04-11\n",
      "304  4.0  14.0  100    Eddi 2024-04-12\n"
     ]
    }
   ],
   "source": [
    "del(sample_df['new_column'])\n",
    "print(sample_df)"
   ],
   "metadata": {
    "collapsed": false,
    "ExecuteTime": {
     "end_time": "2024-04-11T21:42:13.539644Z",
     "start_time": "2024-04-11T21:42:13.361227Z"
    }
   },
   "id": "abfe489b166239f3",
   "execution_count": 182
  },
  {
   "cell_type": "code",
   "outputs": [
    {
     "name": "stdout",
     "output_type": "stream",
     "text": [
      "       A     B    C       D       date  new_column\n",
      "300  0.0  10.0  100   Alice 2024-04-08         0.0\n",
      "301  1.0  11.0  100   Betty 2024-04-09         0.0\n",
      "302  2.0  12.0  100  Camila 2024-04-10         0.0\n",
      "303  3.0  13.0  100   David 2024-04-11         0.0\n",
      "304  4.0  14.0  100    Eddi 2024-04-12         0.0\n"
     ]
    }
   ],
   "source": [
    "sample_df['new_column'] = 0.0\n",
    "print(sample_df)"
   ],
   "metadata": {
    "collapsed": false,
    "ExecuteTime": {
     "end_time": "2024-04-11T21:42:13.677976Z",
     "start_time": "2024-04-11T21:42:13.542973Z"
    }
   },
   "id": "7e1a1afa5754dae2",
   "execution_count": 183
  },
  {
   "cell_type": "code",
   "outputs": [
    {
     "name": "stdout",
     "output_type": "stream",
     "text": [
      "       A     B    C       D       date\n",
      "300  0.0  10.0  100   Alice 2024-04-08\n",
      "301  1.0  11.0  100   Betty 2024-04-09\n",
      "302  2.0  12.0  100  Camila 2024-04-10\n",
      "303  3.0  13.0  100   David 2024-04-11\n",
      "304  4.0  14.0  100    Eddi 2024-04-12\n"
     ]
    }
   ],
   "source": [
    "del(sample_df['new_column'])\n",
    "print(sample_df)"
   ],
   "metadata": {
    "collapsed": false,
    "ExecuteTime": {
     "end_time": "2024-04-11T21:42:14.233421Z",
     "start_time": "2024-04-11T21:42:13.681398Z"
    }
   },
   "id": "c981307e0077de68",
   "execution_count": 184
  },
  {
   "cell_type": "code",
   "outputs": [
    {
     "name": "stdout",
     "output_type": "stream",
     "text": [
      "       A     B  new_column    C       D       date\n",
      "300  0.0  10.0   -0.895266  100   Alice 2024-04-08\n",
      "301  1.0  11.0    0.376374  100   Betty 2024-04-09\n",
      "302  2.0  12.0   -0.197508  100  Camila 2024-04-10\n",
      "303  3.0  13.0    1.504291  100   David 2024-04-11\n",
      "304  4.0  14.0    0.962395  100    Eddi 2024-04-12\n"
     ]
    }
   ],
   "source": [
    "sample_df.insert(loc=2, column='new_column' ,\n",
    "                 value=np.random.standard_normal(sample_df.shape[0]))\n",
    "print(sample_df)"
   ],
   "metadata": {
    "collapsed": false,
    "ExecuteTime": {
     "end_time": "2024-04-11T21:42:14.899892Z",
     "start_time": "2024-04-11T21:42:14.237850Z"
    }
   },
   "id": "2c04d2e8e411720d",
   "execution_count": 185
  },
  {
   "cell_type": "markdown",
   "source": [],
   "metadata": {
    "collapsed": false
   },
   "id": "b864ac007fdf5cde"
  },
  {
   "cell_type": "markdown",
   "source": [
    "**Notice** that pandas uses **index alignment** in case of value from type Series:"
   ],
   "metadata": {
    "collapsed": false
   },
   "id": "6b4cb6eaa5b08974"
  },
  {
   "cell_type": "code",
   "outputs": [
    {
     "name": "stdout",
     "output_type": "stream",
     "text": [
      "       A     B  new_column    C       D       date\n",
      "300  0.0  10.0    0.912604  100   Alice 2024-04-08\n",
      "301  1.0  11.0   -0.869122  100   Betty 2024-04-09\n",
      "302  2.0  12.0         NaN  100  Camila 2024-04-10\n",
      "303  3.0  13.0         NaN  100   David 2024-04-11\n",
      "304  4.0  14.0         NaN  100    Eddi 2024-04-12\n"
     ]
    }
   ],
   "source": [
    "del(sample_df['new_column'])\n",
    "sample_df.insert(loc=2, column='new_column' ,\n",
    "                 value=pd.Series(np.random.standard_normal(2), index=[300,301]))\n",
    "\n",
    "print(sample_df)"
   ],
   "metadata": {
    "collapsed": false,
    "ExecuteTime": {
     "end_time": "2024-04-11T21:42:15.208948Z",
     "start_time": "2024-04-11T21:42:14.904322Z"
    }
   },
   "id": "5c5dbdd2bb7b6be0",
   "execution_count": 186
  },
  {
   "cell_type": "markdown",
   "source": [
    "[more info about `drop`](https://pandas.pydata.org/pandas-docs/stable/reference/api/pandas.DataFrame.drop.html)"
   ],
   "metadata": {
    "collapsed": false
   },
   "id": "ae93e9a4c2640d7e"
  },
  {
   "cell_type": "code",
   "outputs": [
    {
     "name": "stdout",
     "output_type": "stream",
     "text": [
      "       A     B    C       D       date\n",
      "300  0.0  10.0  100   Alice 2024-04-08\n",
      "301  1.0  11.0  100   Betty 2024-04-09\n",
      "302  2.0  12.0  100  Camila 2024-04-10\n",
      "303  3.0  13.0  100   David 2024-04-11\n",
      "304  4.0  14.0  100    Eddi 2024-04-12\n"
     ]
    }
   ],
   "source": [
    "sample_df.drop('new_column',axis=1 , inplace=True)\n",
    "print(sample_df)"
   ],
   "metadata": {
    "collapsed": false,
    "ExecuteTime": {
     "end_time": "2024-04-11T21:42:15.359979Z",
     "start_time": "2024-04-11T21:42:15.213710Z"
    }
   },
   "id": "7c705cc408769e2a",
   "execution_count": 187
  },
  {
   "cell_type": "markdown",
   "source": [
    "## Inserting and Deleting Row"
   ],
   "metadata": {
    "collapsed": false
   },
   "id": "8323600706370f59"
  },
  {
   "cell_type": "code",
   "outputs": [
    {
     "ename": "NameError",
     "evalue": "name 'sample_df' is not defined",
     "output_type": "error",
     "traceback": [
      "\u001B[1;31m---------------------------------------------------------------------------\u001B[0m",
      "\u001B[1;31mNameError\u001B[0m                                 Traceback (most recent call last)",
      "Cell \u001B[1;32mIn[35], line 2\u001B[0m\n\u001B[0;32m      1\u001B[0m new_row_df\u001B[38;5;241m=\u001B[39m pd\u001B[38;5;241m.\u001B[39mDataFrame([ [\u001B[38;5;241m5\u001B[39m, \u001B[38;5;241m15\u001B[39m, \u001B[38;5;241m100\u001B[39m, \u001B[38;5;124m'\u001B[39m\u001B[38;5;124mFrank\u001B[39m\u001B[38;5;124m'\u001B[39m, pd\u001B[38;5;241m.\u001B[39mto_datetime(\u001B[38;5;124m'\u001B[39m\u001B[38;5;124m2024-04-13\u001B[39m\u001B[38;5;124m'\u001B[39m)]],\n\u001B[1;32m----> 2\u001B[0m                       columns\u001B[38;5;241m=\u001B[39m\u001B[43msample_df\u001B[49m\u001B[38;5;241m.\u001B[39mcolumns,\n\u001B[0;32m      3\u001B[0m                       index\u001B[38;5;241m=\u001B[39m\u001B[38;5;28mrange\u001B[39m(\u001B[38;5;241m305\u001B[39m,\u001B[38;5;241m306\u001B[39m)\n\u001B[0;32m      4\u001B[0m                      )\n\u001B[0;32m      5\u001B[0m \u001B[38;5;66;03m# new_row= pd.Series( [5, 15, 100, 'Frank', pd.to_datetime('2024-04-13')],\u001B[39;00m\n\u001B[0;32m      6\u001B[0m \u001B[38;5;66;03m#                       index=sample_df.columns,                      \u001B[39;00m\n\u001B[0;32m      7\u001B[0m \u001B[38;5;66;03m#                       name=305\u001B[39;00m\n\u001B[0;32m      8\u001B[0m \u001B[38;5;66;03m#                      )\u001B[39;00m\n\u001B[0;32m      9\u001B[0m \u001B[38;5;66;03m# new_row_df= pd.DataFrame(new_row).T\u001B[39;00m\n\u001B[0;32m     11\u001B[0m sample_df2 \u001B[38;5;241m=\u001B[39m pd\u001B[38;5;241m.\u001B[39mconcat([sample_df, new_row_df])\n",
      "\u001B[1;31mNameError\u001B[0m: name 'sample_df' is not defined"
     ]
    }
   ],
   "source": [
    "new_row_df= pd.DataFrame([ [5, 15, 100, 'Frank', pd.to_datetime('2024-04-13')]],\n",
    "                      columns=sample_df.columns,\n",
    "                      index=range(305,306)\n",
    "                     )\n",
    "# new_row= pd.Series( [5, 15, 100, 'Frank', pd.to_datetime('2024-04-13')],\n",
    "#                       index=sample_df.columns,                      \n",
    "#                       name=305\n",
    "#                      )\n",
    "# new_row_df= pd.DataFrame(new_row).T\n",
    "\n",
    "sample_df2 = pd.concat([sample_df, new_row_df])\n",
    "print(sample_df2)\n",
    "print()\n",
    "print(sample_df2.dtypes)\n"
   ],
   "metadata": {
    "collapsed": false,
    "ExecuteTime": {
     "end_time": "2024-04-12T14:17:16.264593Z",
     "start_time": "2024-04-12T14:17:16.122628Z"
    }
   },
   "id": "2d6277d0567a1390",
   "execution_count": 35
  },
  {
   "cell_type": "code",
   "outputs": [
    {
     "name": "stdout",
     "output_type": "stream",
     "text": [
      "       A     B    C       D       date\n",
      "300  0.0  10.0  100   Alice 2024-04-08\n",
      "301  1.0  11.0  100   Betty 2024-04-09\n",
      "302  2.0  12.0  100  Camila 2024-04-10\n",
      "303  3.0  13.0  100   David 2024-04-11\n",
      "304  4.0  14.0  100    Eddi 2024-04-12\n"
     ]
    }
   ],
   "source": [
    "sample_df2.drop(labels=305, inplace=True)\n",
    "print(sample_df2)"
   ],
   "metadata": {
    "collapsed": false,
    "ExecuteTime": {
     "end_time": "2024-04-11T21:42:16.882108Z",
     "start_time": "2024-04-11T21:42:16.072322Z"
    }
   },
   "id": "ae04ea1cea51473a",
   "execution_count": 189
  },
  {
   "cell_type": "markdown",
   "source": [
    "# Sorting a pandas DataFrame\n"
   ],
   "metadata": {
    "collapsed": false
   },
   "id": "2a5ceb3452726eb4"
  },
  {
   "cell_type": "code",
   "outputs": [
    {
     "name": "stdout",
     "output_type": "stream",
     "text": [
      "       A     B    C       D       date\n",
      "304  4.0  14.0  100    Eddi 2024-04-12\n",
      "303  3.0  13.0  100   David 2024-04-11\n",
      "302  2.0  12.0  100  Camila 2024-04-10\n",
      "301  1.0  11.0  100   Betty 2024-04-09\n",
      "300  0.0  10.0  100   Alice 2024-04-08\n"
     ]
    }
   ],
   "source": [
    "sample_df.sort_values(by='A' , ascending=False, inplace=True)\n",
    "print(sample_df)"
   ],
   "metadata": {
    "collapsed": false,
    "ExecuteTime": {
     "end_time": "2024-04-11T21:42:20.203425Z",
     "start_time": "2024-04-11T21:42:16.886472Z"
    }
   },
   "id": "bcb8812c2973f390",
   "execution_count": 190
  },
  {
   "cell_type": "code",
   "outputs": [
    {
     "name": "stdout",
     "output_type": "stream",
     "text": [
      "       A     B    C       D       date\n",
      "300  0.0  10.0  100   Alice 2024-04-08\n",
      "301  1.0  11.0  100   Betty 2024-04-09\n",
      "302  2.0  12.0  100  Camila 2024-04-10\n",
      "303  3.0  13.0  100   David 2024-04-11\n",
      "304  4.0  14.0  100    Eddi 2024-04-12\n"
     ]
    }
   ],
   "source": [
    "sample_df.sort_values(by=['A', 'B'] , ascending=[True,True], inplace=True)\n",
    "print(sample_df)"
   ],
   "metadata": {
    "collapsed": false,
    "ExecuteTime": {
     "end_time": "2024-04-11T21:42:20.894835Z",
     "start_time": "2024-04-11T21:42:20.206802Z"
    }
   },
   "id": "9197f504041d457e",
   "execution_count": 191
  },
  {
   "cell_type": "markdown",
   "source": [
    "# Filtering Data"
   ],
   "metadata": {
    "collapsed": false
   },
   "id": "161656ae5535161e"
  },
  {
   "cell_type": "code",
   "outputs": [
    {
     "name": "stdout",
     "output_type": "stream",
     "text": [
      "300    False\n",
      "301    False\n",
      "302    False\n",
      "303     True\n",
      "304     True\n",
      "Name: A, dtype: bool\n"
     ]
    }
   ],
   "source": [
    "a_gt_2 = sample_df.A > 2\n",
    "print(a_gt_2)"
   ],
   "metadata": {
    "collapsed": false,
    "ExecuteTime": {
     "end_time": "2024-04-11T21:42:20.940254Z",
     "start_time": "2024-04-11T21:42:20.900315Z"
    }
   },
   "id": "7e9f089512b1d5e4",
   "execution_count": 192
  },
  {
   "cell_type": "code",
   "outputs": [
    {
     "name": "stdout",
     "output_type": "stream",
     "text": [
      "       A     B    C      D       date\n",
      "303  3.0  13.0  100  David 2024-04-11\n",
      "304  4.0  14.0  100   Eddi 2024-04-12\n"
     ]
    }
   ],
   "source": [
    "print(sample_df[a_gt_2])"
   ],
   "metadata": {
    "collapsed": false,
    "ExecuteTime": {
     "end_time": "2024-04-11T21:42:21.082426Z",
     "start_time": "2024-04-11T21:42:20.943604Z"
    }
   },
   "id": "7f732bdec4873d0a",
   "execution_count": 193
  },
  {
   "cell_type": "markdown",
   "source": [
    "You can create very powerful and sophisticated expressions by combining logical operations with the following operators:\n",
    "\n",
    "- NOT (~)\n",
    "- AND (&)\n",
    "- OR (|)\n",
    "- XOR (^)"
   ],
   "metadata": {
    "collapsed": false
   },
   "id": "bde355481e04f801"
  },
  {
   "cell_type": "code",
   "outputs": [
    {
     "name": "stdout",
     "output_type": "stream",
     "text": [
      "       A     B    C       D       date\n",
      "302  2.0  12.0  100  Camila 2024-04-10\n",
      "303  3.0  13.0  100   David 2024-04-11\n",
      "304  4.0  14.0  100    Eddi 2024-04-12\n"
     ]
    }
   ],
   "source": [
    "print(sample_df[(sample_df['A'] > 1) & (sample_df['B'] <= 14.0)])"
   ],
   "metadata": {
    "collapsed": false,
    "ExecuteTime": {
     "end_time": "2024-04-11T21:42:21.834311Z",
     "start_time": "2024-04-11T21:42:21.086847Z"
    }
   },
   "id": "cde612dbd107f6b6",
   "execution_count": 194
  },
  {
   "cell_type": "code",
   "outputs": [
    {
     "name": "stdout",
     "output_type": "stream",
     "text": [
      "       A     B    C       D       date\n",
      "302  2.0  12.0  100  Camila 2024-04-10\n",
      "303  3.0  13.0  100   David 2024-04-11\n"
     ]
    }
   ],
   "source": [
    "print(sample_df[sample_df['D'].isin(['David', 'Camila'])])"
   ],
   "metadata": {
    "collapsed": false,
    "ExecuteTime": {
     "end_time": "2024-04-12T14:17:55.064762Z",
     "start_time": "2024-04-12T14:17:54.942496Z"
    }
   },
   "id": "5d478a1a0d263b01",
   "execution_count": 37
  },
  {
   "cell_type": "markdown",
   "source": [],
   "metadata": {
    "collapsed": false
   },
   "id": "b710741f654a6935"
  },
  {
   "cell_type": "markdown",
   "source": [
    "# Applying NumPy and SciPy Functions\n",
    "Most NumPy and SciPy routines can be applied to pandas Series or DataFrame objects as arguments instead of as NumPy arrays."
   ],
   "metadata": {
    "collapsed": false
   },
   "id": "bee97e992339b2db"
  },
  {
   "cell_type": "code",
   "outputs": [
    {
     "name": "stdout",
     "output_type": "stream",
     "text": [
      "38.0\n",
      "A      2.0\n",
      "B     12.0\n",
      "C    100.0\n",
      "dtype: float64\n",
      "300    36.666667\n",
      "301    37.333333\n",
      "302    38.000000\n",
      "303    38.666667\n",
      "304    39.333333\n",
      "dtype: float64\n"
     ]
    }
   ],
   "source": [
    "print(np.mean(sample_df[['A','B', 'C']]))\n",
    "print(np.mean(sample_df[['A','B', 'C']] ,axis=0)) #column\n",
    "print(np.mean(sample_df[['A','B', 'C']] ,axis=1)) #row"
   ],
   "metadata": {
    "collapsed": false,
    "ExecuteTime": {
     "end_time": "2024-04-11T21:42:22.824654Z",
     "start_time": "2024-04-11T21:42:21.838777Z"
    }
   },
   "id": "e1c19ac97dc2c678",
   "execution_count": 195
  },
  {
   "cell_type": "markdown",
   "source": [
    "Pandas functions\n",
    "\n",
    "- `any()`\n",
    "- `all()`\n",
    "- `map(fun)`\n",
    "- `clip(lower,upper)`\n",
    "- `corr()`\n",
    "- `mean()`\n",
    "- `std()`\n",
    "- `var()`\n",
    "- `median()`\n",
    "- `abs()`\n",
    "- `to_string()`\n",
    "- `to_datetime()`"
   ],
   "metadata": {
    "collapsed": false
   },
   "id": "9765c5f2994ac7bf"
  },
  {
   "cell_type": "markdown",
   "source": [
    "# Determining Data Statistics"
   ],
   "metadata": {
    "collapsed": false
   },
   "id": "e71f7bee097f9969"
  },
  {
   "cell_type": "code",
   "outputs": [
    {
     "name": "stdout",
     "output_type": "stream",
     "text": [
      "              A          B      C                 date\n",
      "count  5.000000   5.000000    5.0                    5\n",
      "mean   2.000000  12.000000  100.0  2024-04-10 00:00:00\n",
      "min    0.000000  10.000000  100.0  2024-04-08 00:00:00\n",
      "25%    1.000000  11.000000  100.0  2024-04-09 00:00:00\n",
      "50%    2.000000  12.000000  100.0  2024-04-10 00:00:00\n",
      "75%    3.000000  13.000000  100.0  2024-04-11 00:00:00\n",
      "max    4.000000  14.000000  100.0  2024-04-12 00:00:00\n",
      "std    1.581139   1.581139    0.0                  NaN\n"
     ]
    }
   ],
   "source": [
    "print(sample_df.describe())"
   ],
   "metadata": {
    "collapsed": false,
    "ExecuteTime": {
     "end_time": "2024-04-11T21:42:23.555512Z",
     "start_time": "2024-04-11T21:42:22.829098Z"
    }
   },
   "id": "31e531f2799d39d6",
   "execution_count": 196
  },
  {
   "cell_type": "code",
   "outputs": [
    {
     "name": "stdout",
     "output_type": "stream",
     "text": [
      "<class 'pandas.core.frame.DataFrame'>\n",
      "Index: 5 entries, 300 to 304\n",
      "Data columns (total 5 columns):\n",
      " #   Column  Non-Null Count  Dtype         \n",
      "---  ------  --------------  -----         \n",
      " 0   A       5 non-null      float32       \n",
      " 1   B       5 non-null      float32       \n",
      " 2   C       5 non-null      int32         \n",
      " 3   D       5 non-null      object        \n",
      " 4   date    5 non-null      datetime64[ns]\n",
      "dtypes: datetime64[ns](1), float32(2), int32(1), object(1)\n",
      "memory usage: 180.0+ bytes\n",
      "None\n"
     ]
    }
   ],
   "source": [
    "print(sample_df.info())"
   ],
   "metadata": {
    "collapsed": false,
    "ExecuteTime": {
     "end_time": "2024-04-11T21:42:25.155520Z",
     "start_time": "2024-04-11T21:42:23.561071Z"
    }
   },
   "id": "5adef91b9c447685",
   "execution_count": 197
  },
  {
   "cell_type": "code",
   "outputs": [
    {
     "name": "stdout",
     "output_type": "stream",
     "text": [
      "          A     B\n",
      "min     0.0  10.0\n",
      "max     4.0  14.0\n",
      "median  2.0  12.0\n",
      "skew    0.0   NaN\n",
      "mean    NaN  12.0\n"
     ]
    }
   ],
   "source": [
    "res=sample_df.agg(\n",
    "    {\n",
    "        \"A\": [\"min\", \"max\", \"median\", \"skew\"],\n",
    "        \"B\": [\"min\", \"max\", \"median\", \"mean\"],\n",
    "    }\n",
    ")\n",
    "print(res)"
   ],
   "metadata": {
    "collapsed": false,
    "ExecuteTime": {
     "end_time": "2024-04-12T14:42:19.900665Z",
     "start_time": "2024-04-12T14:42:19.386145Z"
    }
   },
   "id": "37a106ee2d5e4ef2",
   "execution_count": 63
  },
  {
   "cell_type": "markdown",
   "source": [
    "# Groupby\n",
    "[grouped-by-category](https://pandas.pydata.org/pandas-docs/stable/getting_started/intro_tutorials/06_calculate_statistics.html#aggregating-statistics-grouped-by-category)"
   ],
   "metadata": {
    "collapsed": false
   },
   "id": "465cfd7a1f50ad16"
  },
  {
   "cell_type": "code",
   "outputs": [
    {
     "name": "stdout",
     "output_type": "stream",
     "text": [
      "<class 'pandas.core.frame.DataFrame'>\n",
      "RangeIndex: 891 entries, 0 to 890\n",
      "Data columns (total 12 columns):\n",
      " #   Column       Non-Null Count  Dtype  \n",
      "---  ------       --------------  -----  \n",
      " 0   PassengerId  891 non-null    int64  \n",
      " 1   Survived     891 non-null    int64  \n",
      " 2   Pclass       891 non-null    int64  \n",
      " 3   Name         891 non-null    object \n",
      " 4   Sex          891 non-null    object \n",
      " 5   Age          714 non-null    float64\n",
      " 6   SibSp        891 non-null    int64  \n",
      " 7   Parch        891 non-null    int64  \n",
      " 8   Ticket       891 non-null    object \n",
      " 9   Fare         891 non-null    float64\n",
      " 10  Cabin        204 non-null    object \n",
      " 11  Embarked     889 non-null    object \n",
      "dtypes: float64(2), int64(5), object(5)\n",
      "memory usage: 83.7+ KB\n",
      "None\n"
     ]
    }
   ],
   "source": [
    "titanic = pd.read_csv(\"data/titanic.csv\")\n",
    "print(titanic.info())"
   ],
   "metadata": {
    "collapsed": false,
    "ExecuteTime": {
     "end_time": "2024-04-12T14:37:44.529866Z",
     "start_time": "2024-04-12T14:37:42.225618Z"
    }
   },
   "id": "4adcf6d727b5b3b6",
   "execution_count": 61
  },
  {
   "cell_type": "code",
   "outputs": [
    {
     "name": "stdout",
     "output_type": "stream",
     "text": [
      "              Age\n",
      "Sex              \n",
      "female  27.915709\n",
      "male    30.726645\n"
     ]
    }
   ],
   "source": [
    "print(titanic[[\"Sex\", \"Age\"]].groupby(\"Sex\").mean())"
   ],
   "metadata": {
    "collapsed": false,
    "ExecuteTime": {
     "end_time": "2024-04-12T14:24:15.762941Z",
     "start_time": "2024-04-12T14:24:15.569217Z"
    }
   },
   "id": "38787f40182e422e",
   "execution_count": 39
  },
  {
   "cell_type": "code",
   "outputs": [
    {
     "name": "stdout",
     "output_type": "stream",
     "text": [
      "        PassengerId  Survived    Pclass        Age     SibSp     Parch  \\\n",
      "Sex                                                                      \n",
      "female   431.028662  0.742038  2.159236  27.915709  0.694268  0.649682   \n",
      "male     454.147314  0.188908  2.389948  30.726645  0.429809  0.235702   \n",
      "\n",
      "             Fare  \n",
      "Sex                \n",
      "female  44.479818  \n",
      "male    25.523893  \n"
     ]
    }
   ],
   "source": [
    "print(titanic.groupby(\"Sex\").mean(numeric_only=True))"
   ],
   "metadata": {
    "collapsed": false,
    "ExecuteTime": {
     "end_time": "2024-04-12T14:25:35.753376Z",
     "start_time": "2024-04-12T14:25:34.278380Z"
    }
   },
   "id": "ca2836d73d498641",
   "execution_count": 42
  },
  {
   "cell_type": "code",
   "outputs": [
    {
     "name": "stdout",
     "output_type": "stream",
     "text": [
      "Sex\n",
      "female    27.915709\n",
      "male      30.726645\n",
      "Name: Age, dtype: float64\n"
     ]
    }
   ],
   "source": [
    "print(titanic.groupby(\"Sex\")[\"Age\"].mean())"
   ],
   "metadata": {
    "collapsed": false,
    "ExecuteTime": {
     "end_time": "2024-04-12T14:26:08.377891Z",
     "start_time": "2024-04-12T14:26:08.365545Z"
    }
   },
   "id": "94d54d00c635ad1b",
   "execution_count": 43
  },
  {
   "cell_type": "code",
   "outputs": [
    {
     "name": "stdout",
     "output_type": "stream",
     "text": [
      "Sex     Pclass\n",
      "female  1         106.125798\n",
      "        2          21.970121\n",
      "        3          16.118810\n",
      "male    1          67.226127\n",
      "        2          19.741782\n",
      "        3          12.661633\n",
      "Name: Fare, dtype: float64\n"
     ]
    }
   ],
   "source": [
    "print(titanic.groupby([\"Sex\", \"Pclass\"])[\"Fare\"].mean())"
   ],
   "metadata": {
    "collapsed": false,
    "ExecuteTime": {
     "end_time": "2024-04-12T14:26:52.504997Z",
     "start_time": "2024-04-12T14:26:52.476482Z"
    }
   },
   "id": "32df87d11e247e8c",
   "execution_count": 46
  },
  {
   "cell_type": "markdown",
   "source": [
    "# Count number of records by category"
   ],
   "metadata": {
    "collapsed": false
   },
   "id": "ec498cdb2d67b7dd"
  },
  {
   "cell_type": "code",
   "outputs": [
    {
     "name": "stdout",
     "output_type": "stream",
     "text": [
      "Pclass\n",
      "3    491\n",
      "1    216\n",
      "2    184\n",
      "Name: count, dtype: int64\n"
     ]
    }
   ],
   "source": [
    "print(titanic[\"Pclass\"].value_counts(dropna=True))"
   ],
   "metadata": {
    "collapsed": false,
    "ExecuteTime": {
     "end_time": "2024-04-12T14:36:43.337675Z",
     "start_time": "2024-04-12T14:36:43.325452Z"
    }
   },
   "id": "b4691e4e75fea34c",
   "execution_count": 59
  },
  {
   "cell_type": "code",
   "outputs": [
    {
     "name": "stdout",
     "output_type": "stream",
     "text": [
      "Pclass\n",
      "1    216\n",
      "2    184\n",
      "3    491\n",
      "Name: Fare, dtype: int64\n"
     ]
    }
   ],
   "source": [
    "print(titanic.groupby([\"Pclass\"])[\"Pclass\"].count())"
   ],
   "metadata": {
    "collapsed": false,
    "ExecuteTime": {
     "end_time": "2024-04-12T14:32:17.428340Z",
     "start_time": "2024-04-12T14:32:17.400763Z"
    }
   },
   "id": "f836a32614d049f4",
   "execution_count": 54
  },
  {
   "cell_type": "markdown",
   "source": [
    "**Note**: Both **size** and **count** can be used in combination with groupby. Whereas size includes NaN values and just provides the number of rows (size of the table), count excludes the missing values. "
   ],
   "metadata": {
    "collapsed": false
   },
   "id": "1b96f8e927458671"
  },
  {
   "cell_type": "code",
   "outputs": [
    {
     "name": "stdout",
     "output_type": "stream",
     "text": [
      "Pclass\n",
      "1    186\n",
      "2    173\n",
      "3    355\n",
      "Name: Age, dtype: int64\n"
     ]
    }
   ],
   "source": [
    "print(titanic.groupby([\"Pclass\"])[\"Age\"].count())"
   ],
   "metadata": {
    "collapsed": false,
    "ExecuteTime": {
     "end_time": "2024-04-12T14:34:29.174635Z",
     "start_time": "2024-04-12T14:34:29.162469Z"
    }
   },
   "id": "b1ffe3d048f09091",
   "execution_count": 56
  },
  {
   "cell_type": "code",
   "outputs": [
    {
     "name": "stdout",
     "output_type": "stream",
     "text": [
      "Pclass\n",
      "1    216\n",
      "2    184\n",
      "3    491\n",
      "Name: Age, dtype: int64\n"
     ]
    }
   ],
   "source": [
    "print(titanic.groupby([\"Pclass\"])[\"Age\"].size())#include missing values such as NaN"
   ],
   "metadata": {
    "collapsed": false,
    "ExecuteTime": {
     "end_time": "2024-04-12T14:35:19.858452Z",
     "start_time": "2024-04-12T14:35:19.832088Z"
    }
   },
   "id": "e302aa1278fadb43",
   "execution_count": 57
  },
  {
   "cell_type": "markdown",
   "source": [
    "# Time Series"
   ],
   "metadata": {
    "collapsed": false
   },
   "id": "d8bada6dcdd24ff3"
  },
  {
   "cell_type": "markdown",
   "source": [
    "As many data sets do contain datetime information in one of the columns, pandas input function like `pandas.read_csv()` and `pandas.read_json()` can do the transformation to dates when reading the data using the **parse_dates** parameter with a list of the columns to read as Timestamp:\n",
    "```\n",
    "pd.read_csv(\"../data/air_quality_no2_long.csv\", parse_dates=[\"datetime\"])\n",
    "```"
   ],
   "metadata": {
    "collapsed": false
   },
   "id": "c4ad2a2008c7ff5"
  },
  {
   "cell_type": "code",
   "outputs": [
    {
     "name": "stdout",
     "output_type": "stream",
     "text": [
      "    SN       Name  Age  Gender   Birthday\n",
      "0  100       Reza   22    male 2000-02-01\n",
      "1  101      Majid   35    male 2001-03-04\n",
      "2  102  Elizabeth   58  female 2002-07-05\n"
     ]
    }
   ],
   "source": [
    "df = pd.DataFrame(\n",
    "    {\n",
    "        \"SN\" :[\"100\", \"101\", \"102\"],\n",
    "        \"Name\": [\"Reza\", \"Majid\", \"Elizabeth\"],\n",
    "        \"Age\": [22, 35, 58],\n",
    "        \"Gender\": [\"male\", \"male\", \"female\"],\n",
    "        \"Birthday\": [\"2000-02-01\", \"2001-03-04\", \"2002-07-05\"]\n",
    "    }\n",
    ")\n",
    "df[\"Birthday\"] = pd.to_datetime(df[\"Birthday\"])\n",
    "print(df)"
   ],
   "metadata": {
    "collapsed": false,
    "ExecuteTime": {
     "end_time": "2024-04-12T12:35:11.303439Z",
     "start_time": "2024-04-12T12:35:11.270828Z"
    }
   },
   "id": "c3d6d1fdd2823950",
   "execution_count": 8
  },
  {
   "cell_type": "markdown",
   "source": [
    "## Time/date components\n",
    "By using Timestamp objects for dates, a lot of time-related properties are provided by pandas. For example the month, but also year, quarter,… All of these properties are accessible by the **dt** accessor.\n",
    "\n",
    " &#x01F517; An overview of the existing date properties is given in the [time and date components overview table](https://pandas.pydata.org/pandas-docs/stable/user_guide/timeseries.html#timeseries-components)\n",
    "\n",
    "\n",
    "\n",
    "| name        | description                                                   |\n",
    "|-------------|---------------------------------------------------------------|\n",
    "| nanosecond  | The nanoseconds of the datetime                               |\n",
    "| microsecond |                                                               |\n",
    "| second      |                                                               |\n",
    "| minute      |                                                               |\n",
    "| hour        |                                                               |\n",
    "| day         | The days of the datetime                                      |\n",
    "| month       |                                                               |\n",
    "| quarter     | Quarter of the date: Jan-Mar = 1, Apr-Jun = 2, etc.           |\n",
    "| year        |                                                               |\n",
    "| date        | Returns datetime.date (does not contain timezone information) |\n",
    "| time        | Returns datetime.time (does not contain timezone information) |\n",
    "| timetz      | Returns datetime.time as local time with timezone information |\n",
    "| dayofweek   | The number of the day of the week with Monday=0, Sunday=6     |\n",
    "| dayofyear   | The ordinal day of year                                       |    \n",
    "\n",
    "\n"
   ],
   "metadata": {
    "collapsed": false
   },
   "id": "793855f689da10bf"
  },
  {
   "cell_type": "code",
   "outputs": [
    {
     "name": "stdout",
     "output_type": "stream",
     "text": [
      "   month month_name  quarter  day  weekday  day_of_week day_name  day_of_year\n",
      "0      2   February        1    1        1            1  Tuesday           32\n",
      "1      3      March        1    4        6            6   Sunday           63\n",
      "2      7       July        3    5        4            4   Friday          186\n"
     ]
    }
   ],
   "source": [
    "print(pd.DataFrame({'month': df['Birthday'].dt.month,\n",
    "                    'month_name': df['Birthday'].dt.month_name(),\n",
    "                    'quarter': df['Birthday'].dt.quarter,\n",
    "                    'day': df['Birthday'].dt.day,\n",
    "                    'weekday': df['Birthday'].dt.weekday,\n",
    "                    'day_of_week': df['Birthday'].dt.day_of_week,                    \n",
    "                    'day_name': df['Birthday'].dt.day_name(),\n",
    "                    'day_of_year': df['Birthday'].dt.day_of_year,\n",
    "                    }))\n",
    "# print(dir(df.Birthday.dt))"
   ],
   "metadata": {
    "collapsed": false,
    "ExecuteTime": {
     "end_time": "2024-04-12T12:47:21.215011Z",
     "start_time": "2024-04-12T12:47:21.188479Z"
    }
   },
   "id": "bd2f8fbe3cc1b94d",
   "execution_count": 25
  },
  {
   "cell_type": "markdown",
   "source": [
    "## Datetime as index\n",
    "Working with a datetime index (i.e. `DatetimeIndex`) provides powerful functionalities. For example, we do **not** need the `dt` accessor to get the time series properties, but have these properties available on the index directly:"
   ],
   "metadata": {
    "collapsed": false
   },
   "id": "7f302aa6831369c0"
  },
  {
   "cell_type": "code",
   "outputs": [
    {
     "name": "stdout",
     "output_type": "stream",
     "text": [
      "Index([2, 3, 7], dtype='int32', name='Birthday')\n",
      "Index(['February', 'March', 'July'], dtype='object', name='Birthday')\n",
      "Index(['Tuesday', 'Sunday', 'Friday'], dtype='object', name='Birthday')\n"
     ]
    }
   ],
   "source": [
    "df.set_index(['Birthday'], inplace=True)\n",
    "print(df.index.month)\n",
    "print(df.index.month_name())\n",
    "print(df.index.day_name())"
   ],
   "metadata": {
    "collapsed": false,
    "ExecuteTime": {
     "end_time": "2024-04-12T12:55:19.518675Z",
     "start_time": "2024-04-12T12:55:19.303920Z"
    }
   },
   "id": "aa41d4e3b6fe4916",
   "execution_count": 29
  },
  {
   "cell_type": "markdown",
   "source": [
    "## Functions\n",
    "Common pandas datetime functions:\n",
    "- `pd.TimeStamp`\n",
    "- `pd.to_datetime()`\n",
    "- `pd.date_range()`\n",
    "> see other frequency [here](https://pandas.pydata.org/docs/user_guide/timeseries.html#timeseries-offset-aliases)\n",
    "- ns        nanoseconds\n",
    "- us        microseconds\n",
    "- ms        milliseconds\n",
    "- s         secondly frequency\n",
    "- min       minute frequency\n",
    "- h         hourly frequency\n",
    "- D         calendar day frequency\n",
    "- B         business day frequency\n",
    "- W         weekly frequency\n",
    "- MS        month start frequency\n",
    "- ME        month end frequency\n",
    "- QS        quarter start frequency\n",
    "- QE        quarter end frequency\n",
    "- YS        year start frequency\n",
    "- YE        year end frequency\n",
    "\n",
    "You also use **slicing** with pandas datetime type\n",
    "\n"
   ],
   "metadata": {
    "collapsed": false
   },
   "id": "b30454a41440115c"
  },
  {
   "cell_type": "code",
   "outputs": [
    {
     "name": "stdout",
     "output_type": "stream",
     "text": [
      "DatetimeIndex(['2024-01-01 00:00:00', '2024-01-01 00:10:00',\n",
      "               '2024-01-01 00:20:00', '2024-01-01 00:30:00',\n",
      "               '2024-01-01 00:40:00'],\n",
      "              dtype='datetime64[ns]', freq='10min')\n"
     ]
    }
   ],
   "source": [
    "index_min = pd.date_range('1/1/2024', freq='10min', periods=5 )\n",
    "print(index_min)"
   ],
   "metadata": {
    "collapsed": false,
    "ExecuteTime": {
     "end_time": "2024-04-12T14:02:31.362337Z",
     "start_time": "2024-04-12T14:02:31.347009Z"
    }
   },
   "id": "9e2024bc0d6e554b",
   "execution_count": 34
  },
  {
   "cell_type": "code",
   "outputs": [
    {
     "name": "stdout",
     "output_type": "stream",
     "text": [
      "DatetimeIndex(['2024-01-01 00:00:00', '2024-01-01 02:30:00',\n",
      "               '2024-01-01 05:00:00', '2024-01-01 07:30:00',\n",
      "               '2024-01-01 10:00:00', '2024-01-01 12:30:00',\n",
      "               '2024-01-01 15:00:00', '2024-01-01 17:30:00',\n",
      "               '2024-01-01 20:00:00', '2024-01-01 22:30:00',\n",
      "               '2024-01-02 01:00:00', '2024-01-02 03:30:00'],\n",
      "              dtype='datetime64[ns]', freq='150min')\n"
     ]
    }
   ],
   "source": [
    "index_hour = pd.date_range('1/1/2024', freq='2h30min', periods=12 )\n",
    "print(index_hour)"
   ],
   "metadata": {
    "collapsed": false,
    "ExecuteTime": {
     "end_time": "2024-04-12T14:02:14.469120Z",
     "start_time": "2024-04-12T14:02:14.457555Z"
    }
   },
   "id": "dabaa1e0dbf0f069",
   "execution_count": 33
  },
  {
   "cell_type": "code",
   "outputs": [
    {
     "name": "stdout",
     "output_type": "stream",
     "text": [
      "DatetimeIndex(['2024-01-01', '2024-02-01', '2024-03-01', '2024-04-01',\n",
      "               '2024-05-01', '2024-06-01', '2024-07-01', '2024-08-01',\n",
      "               '2024-09-01', '2024-10-01', '2024-11-01', '2024-12-01'],\n",
      "              dtype='datetime64[ns]', freq='MS')\n"
     ]
    }
   ],
   "source": [
    "index_mon_start = pd.date_range('1/1/2024', freq='MS', periods=12 )\n",
    "print(index_mon_start)"
   ],
   "metadata": {
    "collapsed": false,
    "ExecuteTime": {
     "end_time": "2024-04-11T21:42:30.363677Z",
     "start_time": "2024-04-11T21:42:29.099858Z"
    }
   },
   "id": "9af41681916e1189",
   "execution_count": 200
  },
  {
   "cell_type": "code",
   "outputs": [
    {
     "name": "stdout",
     "output_type": "stream",
     "text": [
      "DatetimeIndex(['2024-01-31', '2024-02-29', '2024-03-31', '2024-04-30',\n",
      "               '2024-05-31', '2024-06-30', '2024-07-31', '2024-08-31',\n",
      "               '2024-09-30', '2024-10-31', '2024-11-30', '2024-12-31'],\n",
      "              dtype='datetime64[ns]', freq='ME')\n"
     ]
    }
   ],
   "source": [
    "index_mon_end = pd.date_range('1/1/2024', freq='ME', periods=12 )\n",
    "print(index_mon_end)"
   ],
   "metadata": {
    "collapsed": false,
    "ExecuteTime": {
     "end_time": "2024-04-11T21:42:31.122022Z",
     "start_time": "2024-04-11T21:42:30.371245Z"
    }
   },
   "id": "9650aae990ac9840",
   "execution_count": 201
  },
  {
   "cell_type": "code",
   "outputs": [
    {
     "name": "stdout",
     "output_type": "stream",
     "text": [
      "Index(['Monday', 'Tuesday', 'Wednesday', 'Thursday', 'Friday', 'Monday',\n",
      "       'Tuesday', 'Wednesday', 'Thursday', 'Friday', 'Monday', 'Tuesday'],\n",
      "      dtype='object')\n"
     ]
    }
   ],
   "source": [
    "index_business_day = pd.date_range('1/1/2024', freq='B', periods=12 )\n",
    "print(index_business_day.day_name())"
   ],
   "metadata": {
    "collapsed": false,
    "ExecuteTime": {
     "end_time": "2024-04-12T14:01:09.031206Z",
     "start_time": "2024-04-12T14:01:09.009600Z"
    }
   },
   "id": "699ba87de1854fa3",
   "execution_count": 31
  },
  {
   "cell_type": "code",
   "outputs": [
    {
     "name": "stdout",
     "output_type": "stream",
     "text": [
      "                    A  B\n",
      "2020-01-01 2020-01-01  1\n",
      "2020-01-02 2020-01-01  2\n",
      "2020-01-03 2020-01-02  3\n",
      "\n",
      "A    datetime64[ns]\n",
      "B             int64\n",
      "dtype: object\n"
     ]
    }
   ],
   "source": [
    "df = pd.DataFrame({\n",
    "    'A': [pd.to_datetime('2020-01-01'),\n",
    "          pd.to_datetime('2020-01-01'),\n",
    "          pd.to_datetime('2020-01-02'),],\n",
    "    'B': [1, 2, 3], },\n",
    "    index=pd.date_range('2020', periods=3))\n",
    "print(df)\n",
    "print()\n",
    "print(df.dtypes)"
   ],
   "metadata": {
    "collapsed": false,
    "ExecuteTime": {
     "end_time": "2024-04-11T21:42:31.377739Z",
     "start_time": "2024-04-11T21:42:31.125211Z"
    }
   },
   "id": "b548e00779cfb08",
   "execution_count": 202
  },
  {
   "cell_type": "markdown",
   "source": [
    "## Resampling\n",
    "[help for `resample()`](https://pandas.pydata.org/pandas-docs/stable/reference/api/pandas.DataFrame.resample.html)"
   ],
   "metadata": {
    "collapsed": false
   },
   "id": "416b1557d7d95a51"
  },
  {
   "cell_type": "code",
   "outputs": [
    {
     "name": "stdout",
     "output_type": "stream",
     "text": [
      "2024-01-01 00:00:00     0\n",
      "2024-01-01 00:01:00     1\n",
      "2024-01-01 00:02:00     2\n",
      "2024-01-01 00:03:00     3\n",
      "2024-01-01 00:04:00     4\n",
      "2024-01-01 00:05:00     5\n",
      "2024-01-01 00:06:00     6\n",
      "2024-01-01 00:07:00     7\n",
      "2024-01-01 00:08:00     8\n",
      "2024-01-01 00:09:00     9\n",
      "2024-01-01 00:10:00    10\n",
      "2024-01-01 00:11:00    11\n",
      "2024-01-01 00:12:00    12\n",
      "2024-01-01 00:13:00    13\n",
      "2024-01-01 00:14:00    14\n",
      "2024-01-01 00:15:00    15\n",
      "2024-01-01 00:16:00    16\n",
      "2024-01-01 00:17:00    17\n",
      "2024-01-01 00:18:00    18\n",
      "2024-01-01 00:19:00    19\n",
      "2024-01-01 00:20:00    20\n",
      "2024-01-01 00:21:00    21\n",
      "2024-01-01 00:22:00    22\n",
      "2024-01-01 00:23:00    23\n",
      "2024-01-01 00:24:00    24\n",
      "2024-01-01 00:25:00    25\n",
      "2024-01-01 00:26:00    26\n",
      "2024-01-01 00:27:00    27\n",
      "2024-01-01 00:28:00    28\n",
      "2024-01-01 00:29:00    29\n",
      "Freq: min, dtype: int64\n",
      "\n",
      "2024-01-01 00:00:00     3\n",
      "2024-01-01 00:03:00    12\n",
      "2024-01-01 00:06:00    21\n",
      "2024-01-01 00:09:00    30\n",
      "2024-01-01 00:12:00    39\n",
      "2024-01-01 00:15:00    48\n",
      "2024-01-01 00:18:00    57\n",
      "2024-01-01 00:21:00    66\n",
      "2024-01-01 00:24:00    75\n",
      "2024-01-01 00:27:00    84\n",
      "Freq: 3min, dtype: int64\n"
     ]
    }
   ],
   "source": [
    "index_minute = pd.date_range('20240101', freq='min', periods=30)\n",
    "series = pd.Series(range(30), index=index_minute)\n",
    "print(series)\n",
    "print()\n",
    "\n",
    "res=series.resample(rule='3min').sum()\n",
    "print(res)"
   ],
   "metadata": {
    "collapsed": false,
    "ExecuteTime": {
     "end_time": "2024-04-11T21:42:31.548708Z",
     "start_time": "2024-04-11T21:42:31.381107Z"
    }
   },
   "id": "4dc3e95392cdc028",
   "execution_count": 203
  },
  {
   "cell_type": "code",
   "outputs": [
    {
     "name": "stdout",
     "output_type": "stream",
     "text": [
      "                     First  Last  Sum  Mean  Median  Min  Max\n",
      "2024-01-01 00:00:00      0     2    3   1.0     1.0    0    2\n",
      "2024-01-01 00:03:00      3     5   12   4.0     4.0    3    5\n",
      "2024-01-01 00:06:00      6     8   21   7.0     7.0    6    8\n",
      "2024-01-01 00:09:00      9    11   30  10.0    10.0    9   11\n",
      "2024-01-01 00:12:00     12    14   39  13.0    13.0   12   14\n",
      "2024-01-01 00:15:00     15    17   48  16.0    16.0   15   17\n",
      "2024-01-01 00:18:00     18    20   57  19.0    19.0   18   20\n",
      "2024-01-01 00:21:00     21    23   66  22.0    22.0   21   23\n",
      "2024-01-01 00:24:00     24    26   75  25.0    25.0   24   26\n",
      "2024-01-01 00:27:00     27    29   84  28.0    28.0   27   29\n"
     ]
    }
   ],
   "source": [
    "original_values = series.resample('3min').first()\n",
    "df=pd.DataFrame({ 'First': series.resample('3min').first() ,\n",
    "                  'Last': series.resample('3min').last() ,\n",
    "                   'Sum'  : series.resample('3min').sum() ,\n",
    "                   'Mean'  : series.resample('3min').mean(), \n",
    "                  'Median'  : series.resample('3min').median(), \n",
    "                   'Min'  : series.resample('3min').min(), \n",
    "                   'Max'  : series.resample('3min').max(), \n",
    "                },\n",
    "                index= original_values.index\n",
    "                )\n",
    "print(df)"
   ],
   "metadata": {
    "collapsed": false,
    "ExecuteTime": {
     "end_time": "2024-04-11T21:42:31.736982Z",
     "start_time": "2024-04-11T21:42:31.552100Z"
    }
   },
   "id": "a52488fd11d79797",
   "execution_count": 204
  },
  {
   "cell_type": "code",
   "outputs": [
    {
     "name": "stdout",
     "output_type": "stream",
     "text": [
      "                     First  Last  Sum  Mean  Median  Min  Max\n",
      "2024-01-01 00:00:00      3     7   15   5.0     5.0    3    7\n",
      "2024-01-01 00:05:00     15    19   51  17.0    17.0   15   19\n",
      "2024-01-01 00:10:00     12    14   39  13.0    13.0   12   14\n",
      "2024-01-01 00:15:00     33    37  105  35.0    35.0   33   37\n",
      "2024-01-01 00:20:00     45    49  141  47.0    47.0   45   49\n",
      "2024-01-01 00:25:00     27    29   84  28.0    28.0   27   29\n"
     ]
    }
   ],
   "source": [
    "df2=df.resample(rule='5min').sum()\n",
    "print(df2)"
   ],
   "metadata": {
    "collapsed": false,
    "ExecuteTime": {
     "end_time": "2024-04-11T21:42:32.203991Z",
     "start_time": "2024-04-11T21:42:31.741526Z"
    }
   },
   "id": "d12401c7aed71390",
   "execution_count": 205
  },
  {
   "cell_type": "markdown",
   "source": [
    "## rolling window\n",
    " at each given time, goes backward in time, and do the computation\n"
   ],
   "metadata": {
    "collapsed": false
   },
   "id": "c3da9631bd70359"
  },
  {
   "cell_type": "code",
   "outputs": [
    {
     "name": "stdout",
     "output_type": "stream",
     "text": [
      "                     First   Last    Sum   Mean  Median    Min    Max\n",
      "2024-01-01 00:00:00    3.0    7.0   15.0    5.0     5.0    3.0    7.0\n",
      "2024-01-01 00:05:00   18.0   26.0   66.0   22.0    22.0   18.0   26.0\n",
      "2024-01-01 00:10:00   30.0   40.0  105.0   35.0    35.0   30.0   40.0\n",
      "2024-01-01 00:15:00   60.0   70.0  195.0   65.0    65.0   60.0   70.0\n",
      "2024-01-01 00:20:00   90.0  100.0  285.0   95.0    95.0   90.0  100.0\n",
      "2024-01-01 00:25:00  105.0  115.0  330.0  110.0   110.0  105.0  115.0\n"
     ]
    }
   ],
   "source": [
    "df3=df2.rolling('14min').sum()\n",
    "print(df3)"
   ],
   "metadata": {
    "collapsed": false,
    "ExecuteTime": {
     "end_time": "2024-04-11T21:42:32.790725Z",
     "start_time": "2024-04-11T21:42:32.208377Z"
    }
   },
   "id": "b606dcac1892f51f",
   "execution_count": 206
  },
  {
   "cell_type": "markdown",
   "source": [
    "# Text data\n",
    "{read more}(https://pandas.pydata.org/pandas-docs/stable/getting_started/intro_tutorials/10_text_data.html)\n",
    "a number of specialized string methods are available when using the **str** accessor."
   ],
   "metadata": {
    "collapsed": false
   },
   "id": "418a5e13aa68decf"
  },
  {
   "cell_type": "code",
   "outputs": [],
   "source": [
    "titanic = pd.read_csv(\"data/titanic.csv\")"
   ],
   "metadata": {
    "collapsed": false
   },
   "id": "5510fc929bb9b763"
  },
  {
   "cell_type": "code",
   "outputs": [
    {
     "name": "stdout",
     "output_type": "stream",
     "text": [
      "0                              braund, mr. owen harris\n",
      "1    cumings, mrs. john bradley (florence briggs th...\n",
      "2                               heikkinen, miss. laina\n",
      "3         futrelle, mrs. jacques heath (lily may peel)\n",
      "4                             allen, mr. william henry\n",
      "Name: Name, dtype: object\n"
     ]
    }
   ],
   "source": [
    "res=titanic[\"Name\"].str.lower()\n",
    "print(res.head(5))"
   ],
   "metadata": {
    "collapsed": false,
    "ExecuteTime": {
     "end_time": "2024-04-12T14:46:38.739131Z",
     "start_time": "2024-04-12T14:46:38.712235Z"
    }
   },
   "id": "841f9d0cbb44bf52",
   "execution_count": 65
  },
  {
   "cell_type": "code",
   "outputs": [
    {
     "data": {
      "text/plain": "0                             [Braund,  Mr. Owen Harris]\n1      [Cumings,  Mrs. John Bradley (Florence Briggs ...\n2                              [Heikkinen,  Miss. Laina]\n3        [Futrelle,  Mrs. Jacques Heath (Lily May Peel)]\n4                            [Allen,  Mr. William Henry]\n                             ...                        \n886                             [Montvila,  Rev. Juozas]\n887                      [Graham,  Miss. Margaret Edith]\n888          [Johnston,  Miss. Catherine Helen \"Carrie\"]\n889                             [Behr,  Mr. Karl Howell]\n890                               [Dooley,  Mr. Patrick]\nName: Name, Length: 891, dtype: object"
     },
     "execution_count": 66,
     "metadata": {},
     "output_type": "execute_result"
    }
   ],
   "source": [
    "titanic[\"Name\"].str.split(\",\")"
   ],
   "metadata": {
    "collapsed": false,
    "ExecuteTime": {
     "end_time": "2024-04-12T14:47:07.523511Z",
     "start_time": "2024-04-12T14:47:07.482572Z"
    }
   },
   "id": "5ad78f930a95902c",
   "execution_count": 66
  },
  {
   "cell_type": "code",
   "outputs": [
    {
     "name": "stdout",
     "output_type": "stream",
     "text": [
      "0       Braund\n",
      "1      Cumings\n",
      "2    Heikkinen\n",
      "3     Futrelle\n",
      "4        Allen\n",
      "Name: Surname, dtype: object\n"
     ]
    }
   ],
   "source": [
    "titanic[\"Surname\"] = titanic[\"Name\"].str.split(\",\").str.get(0)\n",
    "print(titanic[\"Surname\"].head(5))"
   ],
   "metadata": {
    "collapsed": false,
    "ExecuteTime": {
     "end_time": "2024-04-12T14:48:11.698750Z",
     "start_time": "2024-04-12T14:48:11.680703Z"
    }
   },
   "id": "5d19507a31895e3b",
   "execution_count": 67
  },
  {
   "cell_type": "code",
   "outputs": [
    {
     "data": {
      "text/plain": "     PassengerId  Survived  Pclass  \\\n759          760         1       1   \n\n                                                  Name     Sex   Age  SibSp  \\\n759  Rothes, the Countess. of (Lucy Noel Martha Dye...  female  33.0      0   \n\n     Parch  Ticket  Fare Cabin Embarked Surname  \n759      0  110152  86.5   B77        S  Rothes  ",
      "text/html": "<div>\n<style scoped>\n    .dataframe tbody tr th:only-of-type {\n        vertical-align: middle;\n    }\n\n    .dataframe tbody tr th {\n        vertical-align: top;\n    }\n\n    .dataframe thead th {\n        text-align: right;\n    }\n</style>\n<table border=\"1\" class=\"dataframe\">\n  <thead>\n    <tr style=\"text-align: right;\">\n      <th></th>\n      <th>PassengerId</th>\n      <th>Survived</th>\n      <th>Pclass</th>\n      <th>Name</th>\n      <th>Sex</th>\n      <th>Age</th>\n      <th>SibSp</th>\n      <th>Parch</th>\n      <th>Ticket</th>\n      <th>Fare</th>\n      <th>Cabin</th>\n      <th>Embarked</th>\n      <th>Surname</th>\n    </tr>\n  </thead>\n  <tbody>\n    <tr>\n      <th>759</th>\n      <td>760</td>\n      <td>1</td>\n      <td>1</td>\n      <td>Rothes, the Countess. of (Lucy Noel Martha Dye...</td>\n      <td>female</td>\n      <td>33.0</td>\n      <td>0</td>\n      <td>0</td>\n      <td>110152</td>\n      <td>86.5</td>\n      <td>B77</td>\n      <td>S</td>\n      <td>Rothes</td>\n    </tr>\n  </tbody>\n</table>\n</div>"
     },
     "execution_count": 68,
     "metadata": {},
     "output_type": "execute_result"
    }
   ],
   "source": [
    "titanic[titanic[\"Name\"].str.contains(\"Countess\")]"
   ],
   "metadata": {
    "collapsed": false,
    "ExecuteTime": {
     "end_time": "2024-04-12T14:48:52.003553Z",
     "start_time": "2024-04-12T14:48:51.961680Z"
    }
   },
   "id": "b7ba01206f176171",
   "execution_count": 68
  },
  {
   "cell_type": "markdown",
   "source": [
    "https://docs.python.org/3/library/re.html"
   ],
   "metadata": {
    "collapsed": false
   },
   "id": "5047253152bdae8e"
  },
  {
   "cell_type": "markdown",
   "source": [
    "To get the longest name we first have to get the lengths of each of the names in the Name column.\n",
    "Next, we need to get the corresponding location, preferably the index label, in the table for which the name length is the largest. The `idxmax()` method does exactly that. It is not a string method and is applied to integers."
   ],
   "metadata": {
    "collapsed": false
   },
   "id": "b48b25c9c6ca42ed"
  },
  {
   "cell_type": "code",
   "outputs": [
    {
     "data": {
      "text/plain": "307"
     },
     "execution_count": 69,
     "metadata": {},
     "output_type": "execute_result"
    }
   ],
   "source": [
    "titanic[\"Name\"].str.len().idxmax()"
   ],
   "metadata": {
    "collapsed": false,
    "ExecuteTime": {
     "end_time": "2024-04-12T14:52:37.174133Z",
     "start_time": "2024-04-12T14:52:37.131035Z"
    }
   },
   "id": "7845f9eddc9f63df",
   "execution_count": 69
  },
  {
   "cell_type": "code",
   "outputs": [
    {
     "data": {
      "text/plain": "'Penasco y Castellana, Mrs. Victor de Satode (Maria Josefa Perez de Soto y Vallejo)'"
     },
     "execution_count": 70,
     "metadata": {},
     "output_type": "execute_result"
    }
   ],
   "source": [
    "titanic.loc[titanic[\"Name\"].str.len().idxmax(), \"Name\"]"
   ],
   "metadata": {
    "collapsed": false,
    "ExecuteTime": {
     "end_time": "2024-04-12T14:52:38.376975Z",
     "start_time": "2024-04-12T14:52:38.349749Z"
    }
   },
   "id": "50174eeb2d932c03",
   "execution_count": 70
  },
  {
   "cell_type": "markdown",
   "source": [
    "In the “Sex” column, replace values of “male” by “M” and values of “female” by “F”.\n",
    "\n",
    "Whereas replace() is not a string method, it provides a convenient way to use mappings or vocabularies to translate certain values. It requires a dictionary to define the mapping"
   ],
   "metadata": {
    "collapsed": false
   },
   "id": "9e47b65bf82d7681"
  },
  {
   "cell_type": "code",
   "outputs": [
    {
     "name": "stdout",
     "output_type": "stream",
     "text": [
      "      Sex Sex_short\n",
      "0    male         M\n",
      "1  female         F\n",
      "2  female         F\n",
      "3  female         F\n",
      "4    male         M\n"
     ]
    }
   ],
   "source": [
    "titanic[\"Sex_short\"] = titanic[\"Sex\"].replace({\"male\": \"M\", \"female\": \"F\"})\n",
    "print(titanic[[\"Sex\", \"Sex_short\"]].head(5))"
   ],
   "metadata": {
    "collapsed": false,
    "ExecuteTime": {
     "end_time": "2024-04-12T14:55:19.767327Z",
     "start_time": "2024-04-12T14:55:19.740473Z"
    }
   },
   "id": "319c85dd74b605ff",
   "execution_count": 72
  },
  {
   "cell_type": "markdown",
   "source": [
    "# Iterating Over a pandas DataFrame\n",
    "\n",
    "- '.items() to iterate over columns\n",
    "- '.iteritems() to iterate over columns\n",
    "- '.iterrows() to iterate over rows\n",
    "- '.itertuples() to iterate over rows and get named tuples"
   ],
   "metadata": {
    "collapsed": false
   },
   "id": "33abeb4cac3f9b69"
  },
  {
   "cell_type": "code",
   "outputs": [],
   "source": [],
   "metadata": {
    "collapsed": false,
    "ExecuteTime": {
     "end_time": "2024-04-11T21:42:32.806668Z",
     "start_time": "2024-04-11T21:42:32.795167Z"
    }
   },
   "id": "c22609a988b181e8",
   "execution_count": 206
  },
  {
   "cell_type": "markdown",
   "source": [
    "# Plot\n",
    "The kind of plot to produce:\n",
    "\n",
    "- ‘line’ : line plot (default)\n",
    "- ‘bar’ : vertical bar plot\n",
    "- ‘barh’ : horizontal bar plot\n",
    "- ‘hist’ : histogram\n",
    "- ‘box’ : boxplot\n",
    "- ‘kde’ : Kernel Density Estimation plot\n",
    "- ‘density’ : same as ‘kde’\n",
    "- ‘area’ : area plot\n",
    "- ‘pie’ : pie plot\n",
    "- ‘scatter’ : scatter plot (DataFrame only)\n",
    "- ‘hexbin’ : hexbin plot (DataFrame only)"
   ],
   "metadata": {
    "collapsed": false
   },
   "id": "729c5be027643fc"
  },
  {
   "cell_type": "code",
   "outputs": [],
   "source": [
    "import matplotlib.pyplot as plt"
   ],
   "metadata": {
    "collapsed": false,
    "ExecuteTime": {
     "end_time": "2024-04-11T21:42:33.550428Z",
     "start_time": "2024-04-11T21:42:32.810067Z"
    }
   },
   "id": "cc3419c8695a130f",
   "execution_count": 207
  },
  {
   "cell_type": "code",
   "outputs": [
    {
     "name": "stdout",
     "output_type": "stream",
     "text": [
      "(100, 4)\n"
     ]
    }
   ],
   "source": [
    "num=100\n",
    "df= pd.DataFrame({ 'x': range(num),\n",
    "                   'y': [i**2-2*i+1 for i in range(num)],\n",
    "                   'z': np.linspace(0,4*3.1415,num),\n",
    "                   'sin': np.sin(np.linspace(0,4*3.1415,num))})\n",
    "print(df.shape)"
   ],
   "metadata": {
    "collapsed": false,
    "ExecuteTime": {
     "end_time": "2024-04-11T21:42:33.887904Z",
     "start_time": "2024-04-11T21:42:33.554831Z"
    }
   },
   "id": "dc4f0c5e34114e80",
   "execution_count": 208
  },
  {
   "cell_type": "code",
   "outputs": [
    {
     "data": {
      "text/plain": "<Figure size 800x400 with 1 Axes>",
      "image/png": "[encoded data removed]"
     },
     "metadata": {},
     "output_type": "display_data"
    }
   ],
   "source": [
    "fig = plt.figure(figsize = (8,4))\n",
    "ax = df['sin'].plot(kind='line')\n",
    "ax.set_title('sin(x)',fontsize=14)\n",
    "ax.set_xlabel('x')\n",
    "ax.set_ylabel('y')\n",
    "# print(dir(ax))\n",
    "plt.show()"
   ],
   "metadata": {
    "collapsed": false,
    "ExecuteTime": {
     "end_time": "2024-04-11T21:42:37.099208Z",
     "start_time": "2024-04-11T21:42:33.891268Z"
    }
   },
   "id": "93f6824b0e76e8b8",
   "execution_count": 209
  },
  {
   "cell_type": "code",
   "outputs": [
    {
     "data": {
      "text/plain": "<Figure size 800x400 with 1 Axes>",
      "image/png": "[encoded data removed]"
     },
     "metadata": {},
     "output_type": "display_data"
    }
   ],
   "source": [
    "fig = plt.figure(figsize = (8,4))\n",
    "ax = df['sin'].plot.hist()\n",
    "plt.show()"
   ],
   "metadata": {
    "collapsed": false,
    "ExecuteTime": {
     "end_time": "2024-04-11T21:42:37.622874Z",
     "start_time": "2024-04-11T21:42:37.103554Z"
    }
   },
   "id": "c49fbcf5620d8d11",
   "execution_count": 210
  },
  {
   "cell_type": "code",
   "outputs": [
    {
     "data": {
      "text/plain": "<Figure size 800x400 with 0 Axes>"
     },
     "metadata": {},
     "output_type": "display_data"
    },
    {
     "data": {
      "text/plain": "<Figure size 640x480 with 1 Axes>",
      "image/png": "[encoded data removed]"
     },
     "metadata": {},
     "output_type": "display_data"
    }
   ],
   "source": [
    "fig = plt.figure(figsize=(8,4))\n",
    "ax=df.plot(kind='scatter', x = 'z' , y= 'sin')\n",
    "# ax2=df.plot(kind= 'bar')\n",
    "plt.show()"
   ],
   "metadata": {
    "collapsed": false,
    "ExecuteTime": {
     "end_time": "2024-04-11T21:42:38.013536Z",
     "start_time": "2024-04-11T21:42:37.629220Z"
    }
   },
   "id": "d17e07da03cafa39",
   "execution_count": 211
  },
  {
   "cell_type": "code",
   "outputs": [
    {
     "data": {
      "text/plain": "<Figure size 640x480 with 4 Axes>",
      "image/png": "[encoded data removed]"
     },
     "metadata": {},
     "output_type": "display_data"
    }
   ],
   "source": [
    "fig1, ax1 = plt.subplots(2,2)"
   ],
   "metadata": {
    "collapsed": false,
    "ExecuteTime": {
     "end_time": "2024-04-11T21:42:39.704430Z",
     "start_time": "2024-04-11T21:42:38.016846Z"
    }
   },
   "id": "299e1d26148b4108",
   "execution_count": 212
  },
  {
   "cell_type": "markdown",
   "id": "76a1a702",
   "metadata": {},
   "source": [
    "\n"
   ]
  },
  {
   "cell_type": "code",
   "execution_count": 213,
   "id": "7d19b803",
   "metadata": {
    "ExecuteTime": {
     "end_time": "2024-04-11T21:42:39.782658Z",
     "start_time": "2024-04-11T21:42:39.708958Z"
    }
   },
   "outputs": [
    {
     "data": {
      "text/plain": "2000-01-01    1.0\n2000-02-01    1.0\n2000-03-01    1.0\n2000-04-01    1.0\n2000-05-01    1.0\nFreq: MS, dtype: float64"
     },
     "execution_count": 213,
     "metadata": {},
     "output_type": "execute_result"
    }
   ],
   "source": [
    "import numpy as np\n",
    "ts = pd.Series(np.ones(1000), index=pd.date_range(start='1/1/2000', periods=1000,freq='MS'))\n",
    "ts.head()"
   ]
  },
  {
   "cell_type": "code",
   "execution_count": 213,
   "id": "e36c0aa0",
   "metadata": {
    "ExecuteTime": {
     "end_time": "2024-04-11T21:42:39.797841Z",
     "start_time": "2024-04-11T21:42:39.788189Z"
    }
   },
   "outputs": [],
   "source": []
  },
  {
   "cell_type": "code",
   "execution_count": 214,
   "id": "b639e767",
   "metadata": {
    "ExecuteTime": {
     "end_time": "2024-04-11T21:42:40.012213Z",
     "start_time": "2024-04-11T21:42:39.802237Z"
    }
   },
   "outputs": [
    {
     "data": {
      "text/plain": "                   A          B         C          D\n2000-01-02 -0.515580   0.301622 -1.337113   0.372455\n2000-01-09 -0.661873   1.634077 -1.945994   0.836266\n2000-01-16 -1.301556   1.430031 -1.128399   0.848702\n2000-01-23 -1.307862   0.720516 -2.604657   1.856739\n2000-01-30 -0.185618   0.238268 -2.615499   1.370227\n...              ...        ...       ...        ...\n2019-01-27 -5.759263  30.704500  9.293308  47.524741\n2019-02-03 -7.136298  31.046618  7.276116  47.085019\n2019-02-10 -8.586657  30.968815  6.295330  46.310265\n2019-02-17 -7.051397  32.452803  6.746344  46.001475\n2019-02-24 -8.043442  33.832953  8.348687  45.011310\n\n[1000 rows x 4 columns]",
      "text/html": "<div>\n<style scoped>\n    .dataframe tbody tr th:only-of-type {\n        vertical-align: middle;\n    }\n\n    .dataframe tbody tr th {\n        vertical-align: top;\n    }\n\n    .dataframe thead th {\n        text-align: right;\n    }\n</style>\n<table border=\"1\" class=\"dataframe\">\n  <thead>\n    <tr style=\"text-align: right;\">\n      <th></th>\n      <th>A</th>\n      <th>B</th>\n      <th>C</th>\n      <th>D</th>\n    </tr>\n  </thead>\n  <tbody>\n    <tr>\n      <th>2000-01-02</th>\n      <td>-0.515580</td>\n      <td>0.301622</td>\n      <td>-1.337113</td>\n      <td>0.372455</td>\n    </tr>\n    <tr>\n      <th>2000-01-09</th>\n      <td>-0.661873</td>\n      <td>1.634077</td>\n      <td>-1.945994</td>\n      <td>0.836266</td>\n    </tr>\n    <tr>\n      <th>2000-01-16</th>\n      <td>-1.301556</td>\n      <td>1.430031</td>\n      <td>-1.128399</td>\n      <td>0.848702</td>\n    </tr>\n    <tr>\n      <th>2000-01-23</th>\n      <td>-1.307862</td>\n      <td>0.720516</td>\n      <td>-2.604657</td>\n      <td>1.856739</td>\n    </tr>\n    <tr>\n      <th>2000-01-30</th>\n      <td>-0.185618</td>\n      <td>0.238268</td>\n      <td>-2.615499</td>\n      <td>1.370227</td>\n    </tr>\n    <tr>\n      <th>...</th>\n      <td>...</td>\n      <td>...</td>\n      <td>...</td>\n      <td>...</td>\n    </tr>\n    <tr>\n      <th>2019-01-27</th>\n      <td>-5.759263</td>\n      <td>30.704500</td>\n      <td>9.293308</td>\n      <td>47.524741</td>\n    </tr>\n    <tr>\n      <th>2019-02-03</th>\n      <td>-7.136298</td>\n      <td>31.046618</td>\n      <td>7.276116</td>\n      <td>47.085019</td>\n    </tr>\n    <tr>\n      <th>2019-02-10</th>\n      <td>-8.586657</td>\n      <td>30.968815</td>\n      <td>6.295330</td>\n      <td>46.310265</td>\n    </tr>\n    <tr>\n      <th>2019-02-17</th>\n      <td>-7.051397</td>\n      <td>32.452803</td>\n      <td>6.746344</td>\n      <td>46.001475</td>\n    </tr>\n    <tr>\n      <th>2019-02-24</th>\n      <td>-8.043442</td>\n      <td>33.832953</td>\n      <td>8.348687</td>\n      <td>45.011310</td>\n    </tr>\n  </tbody>\n</table>\n<p>1000 rows × 4 columns</p>\n</div>"
     },
     "execution_count": 214,
     "metadata": {},
     "output_type": "execute_result"
    }
   ],
   "source": [
    "mu, sigma = 0, 1#mean and std\n",
    "dfNormal = pd.DataFrame(np.random.normal(mu,sigma,(1000,4)), index=pd.date_range(start='1/1/2000', periods=1000,freq='W'), columns=list('ABCD'))\n",
    "dfNormal.cumsum()#Return cumulative sum over a DataFrame or Series axis.\n",
    "#dfNormal.head()"
   ]
  },
  {
   "cell_type": "markdown",
   "id": "3cf8fbaa",
   "metadata": {},
   "source": [
    "#### `describe()` method\n",
    "The describe() method provides a quick overview of the **numerical columns** in a DataFrame. As the Name and Sex columns are textual data, these are by default not taken into account by the describe() method."
   ]
  },
  {
   "cell_type": "code",
   "execution_count": 215,
   "id": "428d0c01",
   "metadata": {
    "ExecuteTime": {
     "end_time": "2024-04-11T21:42:40.640805Z",
     "start_time": "2024-04-11T21:42:40.015616Z"
    }
   },
   "outputs": [
    {
     "data": {
      "text/plain": "                x            y           z         sin\ncount  100.000000   100.000000  100.000000  100.000000\nmean    49.500000  3185.500000    6.283000   -0.000002\nstd     29.011492  2912.065991    3.682408    0.707117\nmin      0.000000     0.000000    0.000000   -0.999872\n25%     24.750000   564.250000    3.141500   -0.695901\n50%     49.500000  2352.500000    6.283000   -0.000185\n75%     74.250000  5365.750000    9.424500    0.695765\nmax     99.000000  9604.000000   12.566000    0.999878",
      "text/html": "<div>\n<style scoped>\n    .dataframe tbody tr th:only-of-type {\n        vertical-align: middle;\n    }\n\n    .dataframe tbody tr th {\n        vertical-align: top;\n    }\n\n    .dataframe thead th {\n        text-align: right;\n    }\n</style>\n<table border=\"1\" class=\"dataframe\">\n  <thead>\n    <tr style=\"text-align: right;\">\n      <th></th>\n      <th>x</th>\n      <th>y</th>\n      <th>z</th>\n      <th>sin</th>\n    </tr>\n  </thead>\n  <tbody>\n    <tr>\n      <th>count</th>\n      <td>100.000000</td>\n      <td>100.000000</td>\n      <td>100.000000</td>\n      <td>100.000000</td>\n    </tr>\n    <tr>\n      <th>mean</th>\n      <td>49.500000</td>\n      <td>3185.500000</td>\n      <td>6.283000</td>\n      <td>-0.000002</td>\n    </tr>\n    <tr>\n      <th>std</th>\n      <td>29.011492</td>\n      <td>2912.065991</td>\n      <td>3.682408</td>\n      <td>0.707117</td>\n    </tr>\n    <tr>\n      <th>min</th>\n      <td>0.000000</td>\n      <td>0.000000</td>\n      <td>0.000000</td>\n      <td>-0.999872</td>\n    </tr>\n    <tr>\n      <th>25%</th>\n      <td>24.750000</td>\n      <td>564.250000</td>\n      <td>3.141500</td>\n      <td>-0.695901</td>\n    </tr>\n    <tr>\n      <th>50%</th>\n      <td>49.500000</td>\n      <td>2352.500000</td>\n      <td>6.283000</td>\n      <td>-0.000185</td>\n    </tr>\n    <tr>\n      <th>75%</th>\n      <td>74.250000</td>\n      <td>5365.750000</td>\n      <td>9.424500</td>\n      <td>0.695765</td>\n    </tr>\n    <tr>\n      <th>max</th>\n      <td>99.000000</td>\n      <td>9604.000000</td>\n      <td>12.566000</td>\n      <td>0.999878</td>\n    </tr>\n  </tbody>\n</table>\n</div>"
     },
     "execution_count": 215,
     "metadata": {},
     "output_type": "execute_result"
    }
   ],
   "source": [
    "df.describe()"
   ]
  },
  {
   "cell_type": "markdown",
   "id": "72f4f449",
   "metadata": {},
   "source": [
    "#### DataFrame attribute \n",
    "##### `dtypes`\n",
    "The data types in this DataFrame are integers (int64), floats (float64) and strings (object)."
   ]
  },
  {
   "cell_type": "code",
   "execution_count": 216,
   "id": "7546ddae",
   "metadata": {
    "ExecuteTime": {
     "end_time": "2024-04-11T21:42:40.938661Z",
     "start_time": "2024-04-11T21:42:40.645303Z"
    }
   },
   "outputs": [
    {
     "data": {
      "text/plain": "x        int64\ny        int64\nz      float64\nsin    float64\ndtype: object"
     },
     "execution_count": 216,
     "metadata": {},
     "output_type": "execute_result"
    }
   ],
   "source": [
    "df.dtypes"
   ]
  },
  {
   "cell_type": "code",
   "execution_count": 217,
   "id": "cb0f9f64",
   "metadata": {
    "ExecuteTime": {
     "end_time": "2024-04-11T21:42:41.078484Z",
     "start_time": "2024-04-11T21:42:40.944811Z"
    }
   },
   "outputs": [
    {
     "name": "stdout",
     "output_type": "stream",
     "text": [
      "shape: (100, 4)\n",
      "dimension: 2\n",
      "total  number of elements: 400 elements\n",
      "\n",
      "The data:\n",
      " [[ 0.00000000e+00  1.00000000e+00  0.00000000e+00  0.00000000e+00]\n",
      " [ 1.00000000e+00  0.00000000e+00  1.26929293e-01  1.26588740e-01]\n",
      " [ 2.00000000e+00  1.00000000e+00  2.53858586e-01  2.51140740e-01]\n",
      " [ 3.00000000e+00  4.00000000e+00  3.80787879e-01  3.71652029e-01]\n",
      " [ 4.00000000e+00  9.00000000e+00  5.07717172e-01  4.86183651e-01]\n",
      " [ 5.00000000e+00  1.60000000e+01  6.34646465e-01  5.92892856e-01]\n",
      " [ 6.00000000e+00  2.50000000e+01  7.61575758e-01  6.90062755e-01]\n",
      " [ 7.00000000e+00  3.60000000e+01  8.88505051e-01  7.76129940e-01]\n",
      " [ 8.00000000e+00  4.90000000e+01  1.01543434e+00  8.49709640e-01]\n",
      " [ 9.00000000e+00  6.40000000e+01  1.14236364e+00  9.09617999e-01]\n",
      " [ 1.00000000e+01  8.10000000e+01  1.26929293e+00  9.54891125e-01]\n",
      " [ 1.10000000e+01  1.00000000e+02  1.39622222e+00  9.84800601e-01]\n",
      " [ 1.20000000e+01  1.21000000e+02  1.52315152e+00  9.98865201e-01]\n",
      " [ 1.30000000e+01  1.44000000e+02  1.65008081e+00  9.96858632e-01]\n",
      " [ 1.40000000e+01  1.69000000e+02  1.77701010e+00  9.78813179e-01]\n",
      " [ 1.50000000e+01  1.96000000e+02  1.90393939e+00  9.45019183e-01]\n",
      " [ 1.60000000e+01  2.25000000e+02  2.03086869e+00  8.96020371e-01]\n",
      " [ 1.70000000e+01  2.56000000e+02  2.15779798e+00  8.32605105e-01]\n",
      " [ 1.80000000e+01  2.89000000e+02  2.28472727e+00  7.55793700e-01]\n",
      " [ 1.90000000e+01  3.24000000e+02  2.41165657e+00  6.66822008e-01]\n",
      " [ 2.00000000e+01  3.61000000e+02  2.53858586e+00  5.67121532e-01]\n",
      " [ 2.10000000e+01  4.00000000e+02  2.66551515e+00  4.58296396e-01]\n",
      " [ 2.20000000e+01  4.41000000e+02  2.79244444e+00  3.42097534e-01]\n",
      " [ 2.30000000e+01  4.84000000e+02  2.91937374e+00  2.20394519e-01]\n",
      " [ 2.40000000e+01  5.29000000e+02  3.04630303e+00  9.51454820e-02]\n",
      " [ 2.50000000e+01  5.76000000e+02  3.17323232e+00 -3.16343910e-02]\n",
      " [ 2.60000000e+01  6.25000000e+02  3.30016162e+00 -1.57905285e-01]\n",
      " [ 2.70000000e+01  6.76000000e+02  3.42709091e+00 -2.81635573e-01]\n",
      " [ 2.80000000e+01  7.29000000e+02  3.55402020e+00 -4.00834507e-01]\n",
      " [ 2.90000000e+01  7.84000000e+02  3.68094949e+00 -5.13584243e-01]\n",
      " [ 3.00000000e+01  8.41000000e+02  3.80787879e+00 -6.18070703e-01]\n",
      " [ 3.10000000e+01  9.00000000e+02  3.93480808e+00 -7.12612760e-01]\n",
      " [ 3.20000000e+01  9.61000000e+02  4.06173737e+00 -7.95689286e-01]\n",
      " [ 3.30000000e+01  1.02400000e+03  4.18866667e+00 -8.65963628e-01]\n",
      " [ 3.40000000e+01  1.08900000e+03  4.31559596e+00 -9.22305112e-01]\n",
      " [ 3.50000000e+01  1.15600000e+03  4.44252525e+00 -9.63807235e-01]\n",
      " [ 3.60000000e+01  1.22500000e+03  4.56945455e+00 -9.89802253e-01]\n",
      " [ 3.70000000e+01  1.29600000e+03  4.69638384e+00 -9.99871920e-01]\n",
      " [ 3.80000000e+01  1.36900000e+03  4.82331313e+00 -9.93854222e-01]\n",
      " [ 3.90000000e+01  1.44400000e+03  4.95024242e+00 -9.71845979e-01]\n",
      " [ 4.00000000e+01  1.52100000e+03  5.07717172e+00 -9.34201291e-01]\n",
      " [ 4.10000000e+01  1.60000000e+03  5.20410101e+00 -8.81525840e-01]\n",
      " [ 4.20000000e+01  1.68100000e+03  5.33103030e+00 -8.14667145e-01]\n",
      " [ 4.30000000e+01  1.76400000e+03  5.45795960e+00 -7.34700921e-01]\n",
      " [ 4.40000000e+01  1.84900000e+03  5.58488889e+00 -6.42913782e-01]\n",
      " [ 4.50000000e+01  1.93600000e+03  5.71181818e+00 -5.40782528e-01]\n",
      " [ 4.60000000e+01  2.02500000e+03  5.83874747e+00 -4.29950394e-01]\n",
      " [ 4.70000000e+01  2.11600000e+03  5.96567677e+00 -3.12200604e-01]\n",
      " [ 4.80000000e+01  2.20900000e+03  6.09260606e+00 -1.89427686e-01]\n",
      " [ 4.90000000e+01  2.30400000e+03  6.21953535e+00 -6.36069847e-02]\n",
      " [ 5.00000000e+01  2.40100000e+03  6.34646465e+00  6.32371164e-02]\n",
      " [ 5.10000000e+01  2.50000000e+03  6.47339394e+00  1.89063769e-01]\n",
      " [ 5.20000000e+01  2.60100000e+03  6.60032323e+00  3.11848493e-01]\n",
      " [ 5.30000000e+01  2.70400000e+03  6.72725253e+00  4.29615754e-01]\n",
      " [ 5.40000000e+01  2.80900000e+03  6.85418182e+00  5.40470744e-01]\n",
      " [ 5.50000000e+01  2.91600000e+03  6.98111111e+00  6.42629870e-01]\n",
      " [ 5.60000000e+01  3.02500000e+03  7.10804040e+00  7.34449450e-01]\n",
      " [ 5.70000000e+01  3.13600000e+03  7.23496970e+00  8.14452159e-01]\n",
      " [ 5.80000000e+01  3.24900000e+03  7.36189899e+00  8.81350800e-01]\n",
      " [ 5.90000000e+01  3.36400000e+03  7.48882828e+00  9.34069012e-01]\n",
      " [ 6.00000000e+01  3.48100000e+03  7.61575758e+00  9.71758589e-01]\n",
      " [ 6.10000000e+01  3.60000000e+03  7.74268687e+00  9.93813128e-01]\n",
      " [ 6.20000000e+01  3.72100000e+03  7.86961616e+00  9.99877783e-01]\n",
      " [ 6.30000000e+01  3.84400000e+03  7.99654545e+00  9.89854979e-01]\n",
      " [ 6.40000000e+01  3.96900000e+03  8.12347475e+00  9.63905975e-01]\n",
      " [ 6.50000000e+01  4.09600000e+03  8.25040404e+00  9.22448277e-01]\n",
      " [ 6.60000000e+01  4.22500000e+03  8.37733333e+00  8.66148915e-01]\n",
      " [ 6.70000000e+01  4.35600000e+03  8.50426263e+00  7.95913714e-01]\n",
      " [ 6.80000000e+01  4.48900000e+03  8.63119192e+00  7.12872718e-01]\n",
      " [ 6.90000000e+01  4.62400000e+03  8.75812121e+00  6.18362009e-01]\n",
      " [ 7.00000000e+01  4.76100000e+03  8.88505051e+00  5.13902209e-01]\n",
      " [ 7.10000000e+01  4.90000000e+03  9.01197980e+00  4.01174017e-01]\n",
      " [ 7.20000000e+01  5.04100000e+03  9.13890909e+00  2.81991166e-01]\n",
      " [ 7.30000000e+01  5.18400000e+03  9.26583838e+00  1.58271239e-01]\n",
      " [ 7.40000000e+01  5.32900000e+03  9.39276768e+00  3.20048177e-02]\n",
      " [ 7.50000000e+01  5.47600000e+03  9.51969697e+00 -9.47765424e-02]\n",
      " [ 7.60000000e+01  5.62500000e+03  9.64662626e+00 -2.20033002e-01]\n",
      " [ 7.70000000e+01  5.77600000e+03  9.77355556e+00 -3.41749257e-01]\n",
      " [ 7.80000000e+01  5.92900000e+03  9.90048485e+00 -4.57966963e-01]\n",
      " [ 7.90000000e+01  6.08400000e+03  1.00274141e+01 -5.66816243e-01]\n",
      " [ 8.00000000e+01  6.24100000e+03  1.01543434e+01 -6.66545774e-01]\n",
      " [ 8.10000000e+01  6.40000000e+03  1.02812727e+01 -7.55550966e-01]\n",
      " [ 8.20000000e+01  6.56100000e+03  1.04082020e+01 -8.32399777e-01]\n",
      " [ 8.30000000e+01  6.72400000e+03  1.05351313e+01 -8.95855752e-01]\n",
      " [ 8.40000000e+01  6.88900000e+03  1.06620606e+01 -9.44897922e-01]\n",
      " [ 8.50000000e+01  7.05600000e+03  1.07889899e+01 -9.78737226e-01]\n",
      " [ 8.60000000e+01  7.22500000e+03  1.09159192e+01 -9.96829210e-01]\n",
      " [ 8.70000000e+01  7.39600000e+03  1.10428485e+01 -9.98882783e-01]\n",
      " [ 8.80000000e+01  7.56900000e+03  1.11697778e+01 -9.84864905e-01]\n",
      " [ 8.90000000e+01  7.74400000e+03  1.12967071e+01 -9.55001116e-01]\n",
      " [ 9.00000000e+01  7.92100000e+03  1.14236364e+01 -9.09771906e-01]\n",
      " [ 9.10000000e+01  8.10000000e+03  1.15505657e+01 -8.49904988e-01]\n",
      " [ 9.20000000e+01  8.28100000e+03  1.16774949e+01 -7.76363586e-01]\n",
      " [ 9.30000000e+01  8.46400000e+03  1.18044242e+01 -6.90330940e-01]\n",
      " [ 9.40000000e+01  8.64900000e+03  1.19313535e+01 -5.93191264e-01]\n",
      " [ 9.50000000e+01  8.83600000e+03  1.20582828e+01 -4.86507481e-01]\n",
      " [ 9.60000000e+01  9.02500000e+03  1.21852121e+01 -3.71996072e-01]\n",
      " [ 9.70000000e+01  9.21600000e+03  1.23121414e+01 -2.51499459e-01]\n",
      " [ 9.80000000e+01  9.40900000e+03  1.24390707e+01 -1.26956364e-01]\n",
      " [ 9.90000000e+01  9.60400000e+03  1.25660000e+01 -3.70614351e-04]]\n",
      "\n",
      "The row index: RangeIndex(start=0, stop=100, step=1)\n",
      "The row index type: <class 'pandas.core.indexes.range.RangeIndex'>\n",
      "\n",
      "The column index: Index(['x', 'y', 'z', 'sin'], dtype='object')\n",
      "The column index Type: <class 'pandas.core.indexes.base.Index'>\n"
     ]
    }
   ],
   "source": [
    "print('shape:', df.shape)\n",
    "print('dimension:', df.ndim)\n",
    "print('total  number of elements:', df.size, 'elements')\n",
    "print()\n",
    "print('The data:\\n', df.values)\n",
    "print()\n",
    "print('The row index:', df.index)\n",
    "print('The row index type:', type(df.index))\n",
    "print()\n",
    "print('The column index:', df.columns)\n",
    "print('The column index Type:', type(df.columns))"
   ]
  },
  {
   "cell_type": "markdown",
   "id": "c3db24e5",
   "metadata": {},
   "source": [
    "#### `info()`"
   ]
  },
  {
   "cell_type": "code",
   "execution_count": 218,
   "id": "81ee026c",
   "metadata": {
    "ExecuteTime": {
     "end_time": "2024-04-11T21:42:41.219572Z",
     "start_time": "2024-04-11T21:42:41.082078Z"
    }
   },
   "outputs": [
    {
     "name": "stdout",
     "output_type": "stream",
     "text": [
      "<class 'pandas.core.frame.DataFrame'>\n",
      "RangeIndex: 100 entries, 0 to 99\n",
      "Data columns (total 4 columns):\n",
      " #   Column  Non-Null Count  Dtype  \n",
      "---  ------  --------------  -----  \n",
      " 0   x       100 non-null    int64  \n",
      " 1   y       100 non-null    int64  \n",
      " 2   z       100 non-null    float64\n",
      " 3   sin     100 non-null    float64\n",
      "dtypes: float64(2), int64(2)\n",
      "memory usage: 3.2 KB\n"
     ]
    }
   ],
   "source": [
    "df.info()"
   ]
  },
  {
   "cell_type": "markdown",
   "id": "e16c8305",
   "metadata": {},
   "source": [
    "## Importing and Exporting data\n",
    "![title](img/03_io_readwrite.svg)\n",
    "\n",
    "- Impoting data in to pandas from many different file formats or data sources is supported by __read_*__ functions.\n",
    "- Exporting data out of pandas is provided by different __to_*__ methods."
   ]
  },
  {
   "cell_type": "code",
   "execution_count": 219,
   "id": "81c06be3",
   "metadata": {
    "ExecuteTime": {
     "end_time": "2024-04-11T21:42:43.858324Z",
     "start_time": "2024-04-11T21:42:41.222941Z"
    }
   },
   "outputs": [
    {
     "ename": "FileNotFoundError",
     "evalue": "[Errno 2] No such file or directory: 'data/titanic.csv'",
     "output_type": "error",
     "traceback": [
      "\u001B[1;31m---------------------------------------------------------------------------\u001B[0m",
      "\u001B[1;31mFileNotFoundError\u001B[0m                         Traceback (most recent call last)",
      "Cell \u001B[1;32mIn[219], line 1\u001B[0m\n\u001B[1;32m----> 1\u001B[0m titanic\u001B[38;5;241m=\u001B[39m \u001B[43mpd\u001B[49m\u001B[38;5;241;43m.\u001B[39;49m\u001B[43mread_csv\u001B[49m\u001B[43m(\u001B[49m\u001B[38;5;124;43m\"\u001B[39;49m\u001B[38;5;124;43mdata/titanic.csv\u001B[39;49m\u001B[38;5;124;43m\"\u001B[39;49m\u001B[43m)\u001B[49m\n\u001B[0;32m      2\u001B[0m titanic\u001B[38;5;241m.\u001B[39minfo()\n",
      "File \u001B[1;32m~\\anaconda3\\envs\\tf_env6\\lib\\site-packages\\pandas\\io\\parsers\\readers.py:1026\u001B[0m, in \u001B[0;36mread_csv\u001B[1;34m(filepath_or_buffer, sep, delimiter, header, names, index_col, usecols, dtype, engine, converters, true_values, false_values, skipinitialspace, skiprows, skipfooter, nrows, na_values, keep_default_na, na_filter, verbose, skip_blank_lines, parse_dates, infer_datetime_format, keep_date_col, date_parser, date_format, dayfirst, cache_dates, iterator, chunksize, compression, thousands, decimal, lineterminator, quotechar, quoting, doublequote, escapechar, comment, encoding, encoding_errors, dialect, on_bad_lines, delim_whitespace, low_memory, memory_map, float_precision, storage_options, dtype_backend)\u001B[0m\n\u001B[0;32m   1013\u001B[0m kwds_defaults \u001B[38;5;241m=\u001B[39m _refine_defaults_read(\n\u001B[0;32m   1014\u001B[0m     dialect,\n\u001B[0;32m   1015\u001B[0m     delimiter,\n\u001B[1;32m   (...)\u001B[0m\n\u001B[0;32m   1022\u001B[0m     dtype_backend\u001B[38;5;241m=\u001B[39mdtype_backend,\n\u001B[0;32m   1023\u001B[0m )\n\u001B[0;32m   1024\u001B[0m kwds\u001B[38;5;241m.\u001B[39mupdate(kwds_defaults)\n\u001B[1;32m-> 1026\u001B[0m \u001B[38;5;28;01mreturn\u001B[39;00m \u001B[43m_read\u001B[49m\u001B[43m(\u001B[49m\u001B[43mfilepath_or_buffer\u001B[49m\u001B[43m,\u001B[49m\u001B[43m \u001B[49m\u001B[43mkwds\u001B[49m\u001B[43m)\u001B[49m\n",
      "File \u001B[1;32m~\\anaconda3\\envs\\tf_env6\\lib\\site-packages\\pandas\\io\\parsers\\readers.py:620\u001B[0m, in \u001B[0;36m_read\u001B[1;34m(filepath_or_buffer, kwds)\u001B[0m\n\u001B[0;32m    617\u001B[0m _validate_names(kwds\u001B[38;5;241m.\u001B[39mget(\u001B[38;5;124m\"\u001B[39m\u001B[38;5;124mnames\u001B[39m\u001B[38;5;124m\"\u001B[39m, \u001B[38;5;28;01mNone\u001B[39;00m))\n\u001B[0;32m    619\u001B[0m \u001B[38;5;66;03m# Create the parser.\u001B[39;00m\n\u001B[1;32m--> 620\u001B[0m parser \u001B[38;5;241m=\u001B[39m TextFileReader(filepath_or_buffer, \u001B[38;5;241m*\u001B[39m\u001B[38;5;241m*\u001B[39mkwds)\n\u001B[0;32m    622\u001B[0m \u001B[38;5;28;01mif\u001B[39;00m chunksize \u001B[38;5;129;01mor\u001B[39;00m iterator:\n\u001B[0;32m    623\u001B[0m     \u001B[38;5;28;01mreturn\u001B[39;00m parser\n",
      "File \u001B[1;32m~\\anaconda3\\envs\\tf_env6\\lib\\site-packages\\pandas\\io\\parsers\\readers.py:1620\u001B[0m, in \u001B[0;36mTextFileReader.__init__\u001B[1;34m(self, f, engine, **kwds)\u001B[0m\n\u001B[0;32m   1617\u001B[0m     \u001B[38;5;28mself\u001B[39m\u001B[38;5;241m.\u001B[39moptions[\u001B[38;5;124m\"\u001B[39m\u001B[38;5;124mhas_index_names\u001B[39m\u001B[38;5;124m\"\u001B[39m] \u001B[38;5;241m=\u001B[39m kwds[\u001B[38;5;124m\"\u001B[39m\u001B[38;5;124mhas_index_names\u001B[39m\u001B[38;5;124m\"\u001B[39m]\n\u001B[0;32m   1619\u001B[0m \u001B[38;5;28mself\u001B[39m\u001B[38;5;241m.\u001B[39mhandles: IOHandles \u001B[38;5;241m|\u001B[39m \u001B[38;5;28;01mNone\u001B[39;00m \u001B[38;5;241m=\u001B[39m \u001B[38;5;28;01mNone\u001B[39;00m\n\u001B[1;32m-> 1620\u001B[0m \u001B[38;5;28mself\u001B[39m\u001B[38;5;241m.\u001B[39m_engine \u001B[38;5;241m=\u001B[39m \u001B[38;5;28;43mself\u001B[39;49m\u001B[38;5;241;43m.\u001B[39;49m\u001B[43m_make_engine\u001B[49m\u001B[43m(\u001B[49m\u001B[43mf\u001B[49m\u001B[43m,\u001B[49m\u001B[43m \u001B[49m\u001B[38;5;28;43mself\u001B[39;49m\u001B[38;5;241;43m.\u001B[39;49m\u001B[43mengine\u001B[49m\u001B[43m)\u001B[49m\n",
      "File \u001B[1;32m~\\anaconda3\\envs\\tf_env6\\lib\\site-packages\\pandas\\io\\parsers\\readers.py:1880\u001B[0m, in \u001B[0;36mTextFileReader._make_engine\u001B[1;34m(self, f, engine)\u001B[0m\n\u001B[0;32m   1878\u001B[0m     \u001B[38;5;28;01mif\u001B[39;00m \u001B[38;5;124m\"\u001B[39m\u001B[38;5;124mb\u001B[39m\u001B[38;5;124m\"\u001B[39m \u001B[38;5;129;01mnot\u001B[39;00m \u001B[38;5;129;01min\u001B[39;00m mode:\n\u001B[0;32m   1879\u001B[0m         mode \u001B[38;5;241m+\u001B[39m\u001B[38;5;241m=\u001B[39m \u001B[38;5;124m\"\u001B[39m\u001B[38;5;124mb\u001B[39m\u001B[38;5;124m\"\u001B[39m\n\u001B[1;32m-> 1880\u001B[0m \u001B[38;5;28mself\u001B[39m\u001B[38;5;241m.\u001B[39mhandles \u001B[38;5;241m=\u001B[39m \u001B[43mget_handle\u001B[49m\u001B[43m(\u001B[49m\n\u001B[0;32m   1881\u001B[0m \u001B[43m    \u001B[49m\u001B[43mf\u001B[49m\u001B[43m,\u001B[49m\n\u001B[0;32m   1882\u001B[0m \u001B[43m    \u001B[49m\u001B[43mmode\u001B[49m\u001B[43m,\u001B[49m\n\u001B[0;32m   1883\u001B[0m \u001B[43m    \u001B[49m\u001B[43mencoding\u001B[49m\u001B[38;5;241;43m=\u001B[39;49m\u001B[38;5;28;43mself\u001B[39;49m\u001B[38;5;241;43m.\u001B[39;49m\u001B[43moptions\u001B[49m\u001B[38;5;241;43m.\u001B[39;49m\u001B[43mget\u001B[49m\u001B[43m(\u001B[49m\u001B[38;5;124;43m\"\u001B[39;49m\u001B[38;5;124;43mencoding\u001B[39;49m\u001B[38;5;124;43m\"\u001B[39;49m\u001B[43m,\u001B[49m\u001B[43m \u001B[49m\u001B[38;5;28;43;01mNone\u001B[39;49;00m\u001B[43m)\u001B[49m\u001B[43m,\u001B[49m\n\u001B[0;32m   1884\u001B[0m \u001B[43m    \u001B[49m\u001B[43mcompression\u001B[49m\u001B[38;5;241;43m=\u001B[39;49m\u001B[38;5;28;43mself\u001B[39;49m\u001B[38;5;241;43m.\u001B[39;49m\u001B[43moptions\u001B[49m\u001B[38;5;241;43m.\u001B[39;49m\u001B[43mget\u001B[49m\u001B[43m(\u001B[49m\u001B[38;5;124;43m\"\u001B[39;49m\u001B[38;5;124;43mcompression\u001B[39;49m\u001B[38;5;124;43m\"\u001B[39;49m\u001B[43m,\u001B[49m\u001B[43m \u001B[49m\u001B[38;5;28;43;01mNone\u001B[39;49;00m\u001B[43m)\u001B[49m\u001B[43m,\u001B[49m\n\u001B[0;32m   1885\u001B[0m \u001B[43m    \u001B[49m\u001B[43mmemory_map\u001B[49m\u001B[38;5;241;43m=\u001B[39;49m\u001B[38;5;28;43mself\u001B[39;49m\u001B[38;5;241;43m.\u001B[39;49m\u001B[43moptions\u001B[49m\u001B[38;5;241;43m.\u001B[39;49m\u001B[43mget\u001B[49m\u001B[43m(\u001B[49m\u001B[38;5;124;43m\"\u001B[39;49m\u001B[38;5;124;43mmemory_map\u001B[39;49m\u001B[38;5;124;43m\"\u001B[39;49m\u001B[43m,\u001B[49m\u001B[43m \u001B[49m\u001B[38;5;28;43;01mFalse\u001B[39;49;00m\u001B[43m)\u001B[49m\u001B[43m,\u001B[49m\n\u001B[0;32m   1886\u001B[0m \u001B[43m    \u001B[49m\u001B[43mis_text\u001B[49m\u001B[38;5;241;43m=\u001B[39;49m\u001B[43mis_text\u001B[49m\u001B[43m,\u001B[49m\n\u001B[0;32m   1887\u001B[0m \u001B[43m    \u001B[49m\u001B[43merrors\u001B[49m\u001B[38;5;241;43m=\u001B[39;49m\u001B[38;5;28;43mself\u001B[39;49m\u001B[38;5;241;43m.\u001B[39;49m\u001B[43moptions\u001B[49m\u001B[38;5;241;43m.\u001B[39;49m\u001B[43mget\u001B[49m\u001B[43m(\u001B[49m\u001B[38;5;124;43m\"\u001B[39;49m\u001B[38;5;124;43mencoding_errors\u001B[39;49m\u001B[38;5;124;43m\"\u001B[39;49m\u001B[43m,\u001B[49m\u001B[43m \u001B[49m\u001B[38;5;124;43m\"\u001B[39;49m\u001B[38;5;124;43mstrict\u001B[39;49m\u001B[38;5;124;43m\"\u001B[39;49m\u001B[43m)\u001B[49m\u001B[43m,\u001B[49m\n\u001B[0;32m   1888\u001B[0m \u001B[43m    \u001B[49m\u001B[43mstorage_options\u001B[49m\u001B[38;5;241;43m=\u001B[39;49m\u001B[38;5;28;43mself\u001B[39;49m\u001B[38;5;241;43m.\u001B[39;49m\u001B[43moptions\u001B[49m\u001B[38;5;241;43m.\u001B[39;49m\u001B[43mget\u001B[49m\u001B[43m(\u001B[49m\u001B[38;5;124;43m\"\u001B[39;49m\u001B[38;5;124;43mstorage_options\u001B[39;49m\u001B[38;5;124;43m\"\u001B[39;49m\u001B[43m,\u001B[49m\u001B[43m \u001B[49m\u001B[38;5;28;43;01mNone\u001B[39;49;00m\u001B[43m)\u001B[49m\u001B[43m,\u001B[49m\n\u001B[0;32m   1889\u001B[0m \u001B[43m\u001B[49m\u001B[43m)\u001B[49m\n\u001B[0;32m   1890\u001B[0m \u001B[38;5;28;01massert\u001B[39;00m \u001B[38;5;28mself\u001B[39m\u001B[38;5;241m.\u001B[39mhandles \u001B[38;5;129;01mis\u001B[39;00m \u001B[38;5;129;01mnot\u001B[39;00m \u001B[38;5;28;01mNone\u001B[39;00m\n\u001B[0;32m   1891\u001B[0m f \u001B[38;5;241m=\u001B[39m \u001B[38;5;28mself\u001B[39m\u001B[38;5;241m.\u001B[39mhandles\u001B[38;5;241m.\u001B[39mhandle\n",
      "File \u001B[1;32m~\\anaconda3\\envs\\tf_env6\\lib\\site-packages\\pandas\\io\\common.py:873\u001B[0m, in \u001B[0;36mget_handle\u001B[1;34m(path_or_buf, mode, encoding, compression, memory_map, is_text, errors, storage_options)\u001B[0m\n\u001B[0;32m    868\u001B[0m \u001B[38;5;28;01melif\u001B[39;00m \u001B[38;5;28misinstance\u001B[39m(handle, \u001B[38;5;28mstr\u001B[39m):\n\u001B[0;32m    869\u001B[0m     \u001B[38;5;66;03m# Check whether the filename is to be opened in binary mode.\u001B[39;00m\n\u001B[0;32m    870\u001B[0m     \u001B[38;5;66;03m# Binary mode does not support 'encoding' and 'newline'.\u001B[39;00m\n\u001B[0;32m    871\u001B[0m     \u001B[38;5;28;01mif\u001B[39;00m ioargs\u001B[38;5;241m.\u001B[39mencoding \u001B[38;5;129;01mand\u001B[39;00m \u001B[38;5;124m\"\u001B[39m\u001B[38;5;124mb\u001B[39m\u001B[38;5;124m\"\u001B[39m \u001B[38;5;129;01mnot\u001B[39;00m \u001B[38;5;129;01min\u001B[39;00m ioargs\u001B[38;5;241m.\u001B[39mmode:\n\u001B[0;32m    872\u001B[0m         \u001B[38;5;66;03m# Encoding\u001B[39;00m\n\u001B[1;32m--> 873\u001B[0m         handle \u001B[38;5;241m=\u001B[39m \u001B[38;5;28;43mopen\u001B[39;49m\u001B[43m(\u001B[49m\n\u001B[0;32m    874\u001B[0m \u001B[43m            \u001B[49m\u001B[43mhandle\u001B[49m\u001B[43m,\u001B[49m\n\u001B[0;32m    875\u001B[0m \u001B[43m            \u001B[49m\u001B[43mioargs\u001B[49m\u001B[38;5;241;43m.\u001B[39;49m\u001B[43mmode\u001B[49m\u001B[43m,\u001B[49m\n\u001B[0;32m    876\u001B[0m \u001B[43m            \u001B[49m\u001B[43mencoding\u001B[49m\u001B[38;5;241;43m=\u001B[39;49m\u001B[43mioargs\u001B[49m\u001B[38;5;241;43m.\u001B[39;49m\u001B[43mencoding\u001B[49m\u001B[43m,\u001B[49m\n\u001B[0;32m    877\u001B[0m \u001B[43m            \u001B[49m\u001B[43merrors\u001B[49m\u001B[38;5;241;43m=\u001B[39;49m\u001B[43merrors\u001B[49m\u001B[43m,\u001B[49m\n\u001B[0;32m    878\u001B[0m \u001B[43m            \u001B[49m\u001B[43mnewline\u001B[49m\u001B[38;5;241;43m=\u001B[39;49m\u001B[38;5;124;43m\"\u001B[39;49m\u001B[38;5;124;43m\"\u001B[39;49m\u001B[43m,\u001B[49m\n\u001B[0;32m    879\u001B[0m \u001B[43m        \u001B[49m\u001B[43m)\u001B[49m\n\u001B[0;32m    880\u001B[0m     \u001B[38;5;28;01melse\u001B[39;00m:\n\u001B[0;32m    881\u001B[0m         \u001B[38;5;66;03m# Binary mode\u001B[39;00m\n\u001B[0;32m    882\u001B[0m         handle \u001B[38;5;241m=\u001B[39m \u001B[38;5;28mopen\u001B[39m(handle, ioargs\u001B[38;5;241m.\u001B[39mmode)\n",
      "\u001B[1;31mFileNotFoundError\u001B[0m: [Errno 2] No such file or directory: 'data/titanic.csv'"
     ]
    }
   ],
   "source": [
    "titanic= pd.read_csv(\"data/titanic.csv\")\n",
    "titanic.info()"
   ]
  },
  {
   "cell_type": "markdown",
   "id": "66aa411e",
   "metadata": {},
   "source": [
    "This tutorial uses the Titanic data set, stored as CSV. The data consists of the following data columns:\n",
    "\n",
    " - PassengerId: Id of every passenger.\n",
    " - Survived: This feature have value 0 and 1. 0 for not survived and 1 for survived.   \n",
    " - Pclass: There are 3 classes: Class 1, Class 2 and Class 3.   \n",
    " - Name: Name of passenger.  \n",
    " - Sex: Gender of passenger.  \n",
    " - Age: Age of passenger.   \n",
    " - SibSp: Indication that passenger have siblings and spouse.   \n",
    " - Parch: Whether a passenger is alone or have family.   \n",
    " - Ticket: Ticket number of passenger.  \n",
    " - Fare: Indicating the fare.  \n",
    " - Cabin: The cabin of passenger.  \n",
    " - Embarked: The embarked category.   "
   ]
  },
  {
   "cell_type": "markdown",
   "id": "79219982",
   "metadata": {},
   "source": [
    " ###### The **head/tail/info** methods and the dtypes attribute are convenient for a first check."
   ]
  },
  {
   "cell_type": "code",
   "execution_count": null,
   "id": "13bae9a7",
   "metadata": {
    "ExecuteTime": {
     "end_time": "2024-04-11T21:42:43.863906Z",
     "start_time": "2024-04-11T21:42:43.862691Z"
    }
   },
   "outputs": [],
   "source": [
    "ages = titanic[\"Age\"]\n",
    "ages.head(10)\n"
   ]
  },
  {
   "cell_type": "code",
   "execution_count": null,
   "id": "ed6c89f8",
   "metadata": {
    "ExecuteTime": {
     "start_time": "2024-04-11T21:42:43.866042Z"
    }
   },
   "outputs": [],
   "source": [
    "type(titanic[\"Age\"])"
   ]
  },
  {
   "cell_type": "code",
   "execution_count": null,
   "id": "2a176524",
   "metadata": {},
   "outputs": [],
   "source": [
    "age_sex = titanic[[\"Age\", \"Sex\"]]\n",
    "age_sex.head()"
   ]
  },
  {
   "cell_type": "code",
   "execution_count": null,
   "id": "b5b1d5a9",
   "metadata": {},
   "outputs": [],
   "source": [
    "type(titanic[[\"Age\", \"Sex\"]])"
   ]
  },
  {
   "cell_type": "code",
   "execution_count": null,
   "id": "539cb475",
   "metadata": {},
   "outputs": [],
   "source": [
    "#if you don't encoding use the following snippet\n",
    "#import chardet\n",
    "#with open('data/FOLD1-a.csv', 'rb') as f:\n",
    "#    enc = chardet.detect(f.read())  # or readline if the file is large\n",
    "#print(enc['encoding'])\n",
    "#fold=pd.read_csv(\"data/FOLD1-a.csv\", encoding = enc['encoding'])\n",
    "\n",
    "fold= pd.read_csv(\"data/FOLD1-a.csv\",encoding = \"UTF-16\", parse_dates=[\"<DTYYYYMMDD>\"])\n",
    "#fold= pd.read_csv(\"data/FOLD1-a.csv\",encoding = \"UTF-16\", parse_dates=[\"<DTYYYYMMDD>\"],index_col=[\"<DTYYYYMMDD>\"])\n",
    "fold.info()\n",
    "fold.head()"
   ]
  },
  {
   "cell_type": "code",
   "execution_count": null,
   "id": "1e0eefe1",
   "metadata": {
    "scrolled": true
   },
   "outputs": [],
   "source": [
    "fold.tail()"
   ]
  },
  {
   "cell_type": "markdown",
   "id": "3b5871ef",
   "metadata": {},
   "source": [
    "##### Accessing a row by index"
   ]
  },
  {
   "cell_type": "code",
   "execution_count": null,
   "id": "518dfc59",
   "metadata": {
    "ExecuteTime": {
     "start_time": "2024-04-11T21:42:43.885109Z"
    }
   },
   "outputs": [],
   "source": [
    "#fold.iloc[4,:]# 4th row\n",
    "#fold.iloc[-1,:]# last row\n",
    "fold.loc[(fold[\"<DTYYYYMMDD>\"]==\"2022-04-06\"),:]"
   ]
  },
  {
   "cell_type": "markdown",
   "id": "8f1dba2b",
   "metadata": {},
   "source": [
    "#### how easiy work with datetime"
   ]
  },
  {
   "cell_type": "code",
   "execution_count": null,
   "id": "ce598a19",
   "metadata": {},
   "outputs": [],
   "source": [
    "#fold= pd.read_csv(\"data/FOLD1-a.csv\",encoding = \"UTF-16\")\n",
    "#fold[\"<DTYYYYMMDD>\"] = pd.to_datetime(fold[\"<DTYYYYMMDD>\"])#parse_dates\n",
    "#fold.set_index([\"<DTYYYYMMDD>\"],inplace=True)#index_col\n",
    "\n",
    "##fold.reset_index(inplace=True)\n",
    "#fold.tail()"
   ]
  },
  {
   "cell_type": "markdown",
   "id": "80756440",
   "metadata": {},
   "source": [
    "##### I’m interested in the passengers older than 35 years."
   ]
  },
  {
   "cell_type": "code",
   "execution_count": null,
   "id": "4a04a01a",
   "metadata": {},
   "outputs": [],
   "source": [
    "above_35 = titanic[titanic[\"Age\"] > 35]\n",
    "above_35.shape"
   ]
  },
  {
   "cell_type": "markdown",
   "id": "29760215",
   "metadata": {},
   "source": [
    "##### I’m interested in the Titanic passengers from cabin class 2 and 3."
   ]
  },
  {
   "cell_type": "code",
   "execution_count": null,
   "id": "0a7fa57f",
   "metadata": {
    "ExecuteTime": {
     "start_time": "2024-04-11T21:42:43.895092Z"
    }
   },
   "outputs": [],
   "source": [
    "class_23 = titanic[titanic[\"Pclass\"].isin([2, 3])]\n",
    "class_23.head()"
   ]
  },
  {
   "cell_type": "markdown",
   "id": "ea5ada55",
   "metadata": {},
   "source": [
    "The above is equivalent to filtering by rows for which the class is either 2 or 3 and combining the two statements with an | (or) operator:"
   ]
  },
  {
   "cell_type": "code",
   "execution_count": null,
   "id": "87177f0f",
   "metadata": {
    "ExecuteTime": {
     "start_time": "2024-04-11T21:42:43.898401Z"
    }
   },
   "outputs": [],
   "source": [
    "class_23 = titanic[(titanic[\"Pclass\"] == 2) | (titanic[\"Pclass\"] == 3)]\n",
    "class_23.head()"
   ]
  },
  {
   "cell_type": "markdown",
   "id": "a36f87c6",
   "metadata": {},
   "source": [
    "I want to work with passenger data for which the age is known."
   ]
  },
  {
   "cell_type": "code",
   "execution_count": null,
   "id": "80822db4",
   "metadata": {},
   "outputs": [],
   "source": [
    "age_no_na = titanic[titanic[\"Age\"].notna()]\n",
    "age_no_na.head()"
   ]
  },
  {
   "cell_type": "markdown",
   "id": "b873ba62",
   "metadata": {},
   "source": [
    "#### loc/iloc operators\n",
    "When using **loc/iloc**, the part before the comma is the rows you want, and the part after the comma is the columns you want to select"
   ]
  },
  {
   "cell_type": "markdown",
   "id": "99e4071c",
   "metadata": {},
   "source": [
    "###### I’m interested in the names of the passengers older than 35 years."
   ]
  },
  {
   "cell_type": "code",
   "execution_count": null,
   "id": "1a03719e",
   "metadata": {
    "ExecuteTime": {
     "start_time": "2024-04-11T21:42:43.905032Z"
    }
   },
   "outputs": [],
   "source": [
    "adult_names = titanic.loc[titanic[\"Age\"] > 35, \"Name\"]\n",
    "adult_names.head()"
   ]
  },
  {
   "cell_type": "code",
   "execution_count": null,
   "id": "d80be51b",
   "metadata": {
    "ExecuteTime": {
     "start_time": "2024-04-11T21:42:43.909484Z"
    }
   },
   "outputs": [],
   "source": [
    "type(adult_names)"
   ]
  },
  {
   "cell_type": "markdown",
   "id": "25973192",
   "metadata": {},
   "source": [
    "###### I’m interested in rows 10 till 25 and columns 3 to 5."
   ]
  },
  {
   "cell_type": "code",
   "execution_count": null,
   "id": "70ef4d6f",
   "metadata": {},
   "outputs": [],
   "source": [
    "titanic.iloc[9:25, 2:5]"
   ]
  },
  {
   "cell_type": "markdown",
   "id": "edcf1433",
   "metadata": {},
   "source": [
    "###### Sort table rows"
   ]
  },
  {
   "cell_type": "code",
   "execution_count": null,
   "id": "c10fc634",
   "metadata": {},
   "outputs": [],
   "source": [
    "titanic.sort_values(by=\"Age\",ascending=True).head()"
   ]
  },
  {
   "cell_type": "markdown",
   "id": "6b340636",
   "metadata": {},
   "source": [
    "###### multi column sort"
   ]
  },
  {
   "cell_type": "code",
   "execution_count": null,
   "id": "45d4138f",
   "metadata": {},
   "outputs": [],
   "source": [
    "titanic.sort_values(by=['Name', 'Age'], ascending=False).head()"
   ]
  },
  {
   "cell_type": "markdown",
   "id": "84b42832",
   "metadata": {},
   "source": [
    "## Null values"
   ]
  },
  {
   "cell_type": "code",
   "execution_count": null,
   "id": "df7bcf7a",
   "metadata": {},
   "outputs": [],
   "source": [
    "titanic.isnull().sum().sum()"
   ]
  },
  {
   "cell_type": "markdown",
   "id": "5e9a9d80",
   "metadata": {},
   "source": [
    "###### drop every row with NaN value"
   ]
  },
  {
   "cell_type": "code",
   "execution_count": null,
   "id": "7f5fc684",
   "metadata": {
    "ExecuteTime": {
     "start_time": "2024-04-11T21:42:43.931489Z"
    }
   },
   "outputs": [],
   "source": [
    "titanic.dropna(axis = 0,inplace=False)"
   ]
  },
  {
   "cell_type": "markdown",
   "id": "e6f82dde",
   "metadata": {},
   "source": [
    "###### drop every column with NaN value"
   ]
  },
  {
   "cell_type": "code",
   "execution_count": null,
   "id": "1759ba60",
   "metadata": {},
   "outputs": [],
   "source": [
    "titanic.dropna(axis = 1,inplace=False)"
   ]
  },
  {
   "cell_type": "markdown",
   "id": "b636ccd6",
   "metadata": {},
   "source": [
    "`fillna(method = 'ffill', axis=0, inplace=False)`    \n",
    "    begin from __first row__ and fill the next row if its vlaue is null/Nan.  \n",
    "    \n",
    "`.fillna(method = 'backfill', axis=0, inplace=False)`   \n",
    "    begin from __last row__ and fill the next row it its value is null/Nan.   \n",
    "    \n",
    "`.fillna(method = 'ffill', axis=1 inplace=False)`    \n",
    "    begin from first __coulmn__ and fill the next row if its vlaue is null/Nan.  \n",
    "    \n",
    "`.fillna(method = 'backfill', axis=1, inplace=False)`  \n",
    "    begin from __last column__ and fill the next row it its value is null/Nan.  \n",
    "\n",
    "\n",
    "You can also use `.interpolate(method = 'linear', axis)` to replace null/NaN data."
   ]
  },
  {
   "cell_type": "markdown",
   "id": "746b5db0",
   "metadata": {},
   "source": [
    "## group and count the values of Series (suitable for Naminal/Oridinal variabe)\n",
    "\n",
    "`value_counts()` Return a Series containing counts of unique values."
   ]
  },
  {
   "cell_type": "code",
   "execution_count": null,
   "id": "54cbccb4",
   "metadata": {
    "ExecuteTime": {
     "start_time": "2024-04-11T21:42:43.939246Z"
    }
   },
   "outputs": [],
   "source": [
    "titanic[\"Pclass\"].value_counts().sort_index()"
   ]
  },
  {
   "cell_type": "markdown",
   "id": "69a69ad6",
   "metadata": {},
   "source": [
    "##### you can do the same , using `groupby()` method in `Pandas.Series`"
   ]
  },
  {
   "cell_type": "code",
   "execution_count": null,
   "id": "897e6053",
   "metadata": {},
   "outputs": [],
   "source": [
    "titanic[\"Pclass\"].groupby(by=titanic[\"Pclass\"]).count()"
   ]
  },
  {
   "cell_type": "markdown",
   "id": "aeece2b7",
   "metadata": {},
   "source": [
    "#### change data type to categorical=>ordinal"
   ]
  },
  {
   "cell_type": "code",
   "execution_count": null,
   "id": "680ac301",
   "metadata": {
    "ExecuteTime": {
     "start_time": "2024-04-11T21:42:43.945857Z"
    }
   },
   "outputs": [],
   "source": [
    "#level_order = ['Alpha', 'Beta', 'Gamma', 'Delta']\n",
    "temp_ds=titanic[\"Pclass\"].value_counts().sort_index()\n",
    "level_order=temp_ds.index\n",
    "ordered_cat = pd.api.types.CategoricalDtype(ordered = True, categories = level_order)\n",
    "titanic['Pclass2'] = titanic['Pclass'].astype(ordered_cat)\n"
   ]
  },
  {
   "cell_type": "code",
   "execution_count": null,
   "id": "03cfa598",
   "metadata": {},
   "outputs": [],
   "source": [
    "import seaborn as sb\n",
    "base_color = sb.color_palette()[0]\n",
    "sb.countplot(data = titanic, y = 'Pclass2', color = base_color)"
   ]
  },
  {
   "cell_type": "code",
   "execution_count": null,
   "id": "d20c5022",
   "metadata": {},
   "outputs": [],
   "source": []
  }
 ],
 "metadata": {
  "kernelspec": {
   "display_name": "Python 3.9.12 ('base')",
   "language": "python",
   "name": "python3"
  },
  "language_info": {
   "codemirror_mode": {
    "name": "ipython",
    "version": 3
   },
   "file_extension": ".py",
   "mimetype": "text/x-python",
   "name": "python",
   "nbconvert_exporter": "python",
   "pygments_lexer": "ipython3",
   "version": "3.11.4"
  },
  "vscode": {
   "interpreter": {
    "hash": "ea2aade64521c2a4ead8adf2ecb1033c34a403f0912477026f9290e7f9223a25"
   }
  }
 },
 "nbformat": 4,
 "nbformat_minor": 5
}
